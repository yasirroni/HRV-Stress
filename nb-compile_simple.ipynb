{
 "cells": [
  {
   "cell_type": "markdown",
   "metadata": {},
   "source": [
    "# HRV-Stress_hrv"
   ]
  },
  {
   "cell_type": "markdown",
   "metadata": {},
   "source": [
    "## make peak data data"
   ]
  },
  {
   "cell_type": "code",
   "execution_count": 1,
   "metadata": {},
   "outputs": [],
   "source": [
    "import os\n",
    "import os.path as osp\n",
    "import pandas as pd\n",
    "import numpy as np\n",
    "import copy\n",
    "from scipy import signal\n",
    "from scipy.interpolate import Akima1DInterpolator\n",
    "import pickle\n",
    "import math"
   ]
  },
  {
   "cell_type": "code",
   "execution_count": 2,
   "metadata": {},
   "outputs": [],
   "source": [
    "path_data = 'data/individual'\n",
    "name_input_file = 'heartrate.csv' # public raw data of nback"
   ]
  },
  {
   "cell_type": "code",
   "execution_count": 3,
   "metadata": {},
   "outputs": [],
   "source": [
    "subject_list = os.listdir(path_data)"
   ]
  },
  {
   "cell_type": "code",
   "execution_count": 4,
   "metadata": {},
   "outputs": [],
   "source": [
    "def moving_average(a, n=3) :\n",
    "    ret = np.cumsum(a, dtype=float)\n",
    "    ret[n:] = ret[n:] - ret[:-n]\n",
    "    return ret[n - 1:] / n"
   ]
  },
  {
   "cell_type": "markdown",
   "metadata": {},
   "source": [
    "### mode: detrending using interpolator\n",
    "\n",
    "```python\n",
    "moving_average_window = 330 # 330 ms\n",
    "peak_distance = 350 # 350 ms\n",
    "max_hrv_window = 30000\n",
    "step_size = 10\n",
    "detrending_interpolator = 'akima'\n",
    "```"
   ]
  },
  {
   "cell_type": "code",
   "execution_count": 5,
   "metadata": {},
   "outputs": [],
   "source": [
    "moving_average_window = 330 # 330 ms\n",
    "peak_distance = 350 # 350 ms\n",
    "max_hrv_window = 30000\n",
    "\n",
    "# for detrending using interpolator\n",
    "step_size = 10 # 10 ms\n",
    "detrending_interpolator = 'akima'\n",
    "shift = (moving_average_window//step_size)-1\n",
    "\n",
    "# # for detrending without interpolator\n",
    "# step_size = 1 # 1 ms\n",
    "# detrending_interpolator = ''"
   ]
  },
  {
   "cell_type": "code",
   "execution_count": 6,
   "metadata": {
    "scrolled": true
   },
   "outputs": [],
   "source": [
    "print_subject_name = False\n",
    "\n",
    "for subject_name in subject_list:\n",
    "    if print_subject_name == True:\n",
    "        print(subject_name)\n",
    "    \n",
    "    # read\n",
    "    df = pd.read_csv(osp.join(path_data,subject_name,name_input_file))\n",
    "    \n",
    "    # check n-back first time_stamp and remove all before first - window_size - max_hrv_window\n",
    "    df_nback = pd.read_csv(osp.join(path_data,subject_name,'nback.csv'))\n",
    "    start_time = df_nback['time_stamp'].iloc[0] - moving_average_window - max_hrv_window\n",
    "    end_time = df_nback['time_stamp'].iloc[-1]\n",
    "    \n",
    "    for idx, val in enumerate(df['time_stamp']):\n",
    "        if val >= start_time:\n",
    "            break\n",
    "    if idx > 0:\n",
    "        idx -= 1\n",
    "    df.drop(df.index[0:idx], inplace = True)\n",
    "    \n",
    "    for idx, val in enumerate(df['time_stamp'][::-1]):\n",
    "        if val <= end_time:\n",
    "            break\n",
    "    if idx > 0:\n",
    "        idx -= 1\n",
    "    df.drop(df.index[-idx::], inplace = True)\n",
    "    \n",
    "    df.reset_index(inplace=True,drop=True)\n",
    "\n",
    "    if detrending_interpolator == 'akima':\n",
    "        # detrending using interpolator (make data evenly spaced)\n",
    "        # smoothing using akima, with step_size correction\n",
    "        start_time = df['time_stamp'].iloc[0]\n",
    "        start_time = (math.ceil(start_time/step_size))*step_size\n",
    "        end_time = df['time_stamp'].iloc[-1]\n",
    "        end_time = (math.floor(end_time/step_size))*step_size\n",
    "\n",
    "        time_stamp_smooth = np.linspace(start_time, end_time, num=(end_time-start_time)//step_size+1, endpoint=True)\n",
    "\n",
    "        red_interpolator = Akima1DInterpolator(df['time_stamp'].to_numpy(), df['red'].to_numpy())\n",
    "        red = red_interpolator(time_stamp_smooth)\n",
    "\n",
    "        # rolling moving average\n",
    "        red_average = moving_average(red, n=moving_average_window//step_size)\n",
    "        red_detrend = red[shift::] - red_average\n",
    "        time_stamp_shift = time_stamp_smooth[shift::]\n",
    "\n",
    "    else:\n",
    "        # detrending without interpolator (without making time_stamp evenly spaced)\n",
    "        # time window based interpolator\n",
    "        start_time = df['time_stamp'].iloc[0]\n",
    "        start_time = start_time + moving_average_window\n",
    "\n",
    "        for idx, val in df['time_stamp'].iteritems():\n",
    "            if val >= start_time:\n",
    "                break\n",
    "        if idx > 0:\n",
    "            idx -= 1\n",
    "\n",
    "        red = df['red'].to_numpy()\n",
    "        time_stamp = df['time_stamp'].to_numpy()\n",
    "        red_shift = df['red'][idx:].to_numpy()\n",
    "        time_stamp_shift = df['time_stamp'][idx:].to_numpy()\n",
    "        red_moving_average = np.array([np.mean(red[(time_stamp > t-moving_average_window) * (time_stamp <= t)]) for t in time_stamp_shift])\n",
    "        red_detrend = red_shift - red_moving_average\n",
    "\n",
    "    # save detrended signal\n",
    "    with open(osp.join(path_data,subject_name,'red_detrend_and_time_stamp_shift.pickle'), 'wb') as handle:\n",
    "        pickle.dump([red_detrend,time_stamp_shift], handle, protocol=pickle.HIGHEST_PROTOCOL)"
   ]
  },
  {
   "cell_type": "code",
   "execution_count": 7,
   "metadata": {},
   "outputs": [],
   "source": [
    "delete_pickled_file_after_read = True\n",
    "\n",
    "for subject_name in subject_list:\n",
    "    path_detrend = osp.join(path_data,subject_name,'red_detrend_and_time_stamp_shift.pickle') \n",
    "    if os.path.exists(path_detrend):\n",
    "        with open(path_detrend, 'rb') as handle:\n",
    "            red_detrend, time_stamp_shift = pickle.load(handle)\n",
    "\n",
    "        # delete pickled\n",
    "        if delete_pickled_file_after_read == True:\n",
    "            os.remove(path_detrend)\n",
    "    \n",
    "    # smoothing using akima (mostly for unevenly spaced data)\n",
    "    if detrending_interpolator == 'akima':\n",
    "        start_time = time_stamp_shift[0]\n",
    "        end_time = time_stamp_shift[-1]\n",
    "        time_stamp_smooth = np.linspace(start_time, end_time, num=int(end_time-start_time)//step_size, endpoint=True)\n",
    "        red_interpolator = Akima1DInterpolator(time_stamp_shift, red_detrend)\n",
    "        red_smooth = red_interpolator(time_stamp_smooth)\n",
    "    else:\n",
    "        time_stamp_smooth = time_stamp_shift\n",
    "        red_smooth = red_detrend\n",
    "    \n",
    "    # peak finder\n",
    "    peaks, _ = signal.find_peaks(red_smooth, distance=peak_distance//step_size)\n",
    "\n",
    "    # time_stamp of peak\n",
    "    df_time_stamp_peak = pd.DataFrame({'time_stamp':time_stamp_smooth[peaks]})\n",
    "    \n",
    "    # save\n",
    "    df_time_stamp_peak.to_csv(osp.join(path_data,subject_name,'peaks.csv'), index=False)"
   ]
  },
  {
   "cell_type": "markdown",
   "metadata": {},
   "source": [
    "## Peaks Visualization"
   ]
  },
  {
   "cell_type": "code",
   "execution_count": 8,
   "metadata": {},
   "outputs": [],
   "source": [
    "# # edit to plot other than the last subject\n",
    "# import matplotlib.pyplot as plt\n",
    "# plt.plot(red_smooth)\n",
    "# print(peaks)"
   ]
  },
  {
   "cell_type": "markdown",
   "metadata": {},
   "source": [
    "# HRV-Stress_n-back-test"
   ]
  },
  {
   "cell_type": "markdown",
   "metadata": {},
   "source": [
    "## read csv"
   ]
  },
  {
   "cell_type": "code",
   "execution_count": 9,
   "metadata": {},
   "outputs": [],
   "source": [
    "from sklearn.preprocessing import MinMaxScaler"
   ]
  },
  {
   "cell_type": "code",
   "execution_count": 10,
   "metadata": {},
   "outputs": [],
   "source": [
    "path_data = 'data/individual'"
   ]
  },
  {
   "cell_type": "code",
   "execution_count": 11,
   "metadata": {},
   "outputs": [],
   "source": [
    "subject_list = os.listdir(path_data)"
   ]
  },
  {
   "cell_type": "code",
   "execution_count": 12,
   "metadata": {},
   "outputs": [],
   "source": [
    "def get_mrr(rr):\n",
    "    '''rr: distance between peaks in ms'''\n",
    "    return np.mean(rr)\n",
    "def get_mhr(rr):\n",
    "    return np.mean(60000/rr)\n",
    "def get_sdrr(rr, mrr):\n",
    "    num = np.sum([np.math.pow(x,2) for x in rr-mrr])\n",
    "    return np.sqrt(num/(np.size(rr)-1))\n",
    "def get_sdhr(rr, mhr):\n",
    "    num = np.sum([np.math.pow(x,2) for x in (60000/rr)-mhr])\n",
    "    return np.sqrt(num/(np.size(rr)-1))\n",
    "def get_cvrr(sdrr, mrr):\n",
    "    return sdrr*100/mrr\n",
    "def get_rmssd(rr):\n",
    "    num = np.sum([np.math.pow(x,2) for x in np.diff(rr)])\n",
    "    return np.sqrt(num/(np.size(rr)-1))\n",
    "def get_prr20(rr):\n",
    "    arr = np.abs(np.diff(rr))\n",
    "    count = 0\n",
    "    for arr_i in arr:\n",
    "        if arr_i > 20:\n",
    "            count += 1 \n",
    "    return count*100 / (np.size(rr)-1)\n",
    "def get_prr50(rr):\n",
    "    arr = np.abs(np.diff(rr))\n",
    "    count = 0\n",
    "    for arr_i in arr:\n",
    "        if arr_i > 50:\n",
    "            count += 1 \n",
    "    return count*100 / (np.size(rr)-1)"
   ]
  },
  {
   "cell_type": "markdown",
   "metadata": {},
   "source": [
    "### mode: minmax, include outlier, no penalty \n",
    "\n",
    "```python\n",
    "hrv_windows = [30000]\n",
    "```"
   ]
  },
  {
   "cell_type": "code",
   "execution_count": 13,
   "metadata": {
    "scrolled": true
   },
   "outputs": [],
   "source": [
    "scaler = MinMaxScaler()\n",
    "hrv_windows = [30000]\n",
    "\n",
    "for subject_name in subject_list:\n",
    "    # read nback\n",
    "    df = pd.read_csv(osp.join(path_data,subject_name,'nback.csv'))\n",
    "    nback_original_columns = df.columns\n",
    "    \n",
    "    # read peaks\n",
    "    peaks = pd.read_csv(osp.join(path_data,subject_name,'peaks.csv')).to_numpy()\n",
    "    \n",
    "    for hrv_window in hrv_windows:\n",
    "        mrr = []; mhr = []; sdrr = []; sdhr = []; cvrr = []; rmssd = []; prr20 = []; prr50 = [];\n",
    "        for time_stamp in df['time_stamp']:\n",
    "            peaks_slice = peaks[(peaks > time_stamp - hrv_window) * (peaks <= time_stamp)]\n",
    "            rr = np.diff(peaks_slice.flatten())\n",
    "            mrr.append(get_mrr(rr))\n",
    "            mhr.append(get_mhr(rr))\n",
    "            sdrr.append(get_sdrr(rr, mrr[-1]))\n",
    "            sdhr.append(get_sdhr(rr, mhr[-1]))\n",
    "            cvrr.append(get_cvrr(sdrr[-1], mrr[-1]))\n",
    "            rmssd.append(get_rmssd(rr))\n",
    "            prr20.append(get_prr20(rr))\n",
    "            prr50.append(get_prr50(rr))\n",
    "        df['mrr_'+str(hrv_window)[:2]+'s'] = mrr\n",
    "        df['mhr_'+str(hrv_window)[:2]+'s'] = mhr\n",
    "        df['sdrr_'+str(hrv_window)[:2]+'s'] = sdrr\n",
    "        df['sdhr_'+str(hrv_window)[:2]+'s'] = sdhr\n",
    "        df['cvrr_'+str(hrv_window)[:2]+'s'] = cvrr\n",
    "        df['rmsd_'+str(hrv_window)[:2]+'s'] = rmssd\n",
    "        df['prr20_'+str(hrv_window)[:2]+'s'] = prr20\n",
    "        df['prr50_'+str(hrv_window)[:2]+'s'] = prr50\n",
    "    \n",
    "    # reaction_time\n",
    "    reaction_time = [0]\n",
    "    idx = 1\n",
    "    while True:\n",
    "        try:\n",
    "            reaction_time.append(df['time_stamp'][idx]-df['time_stamp'][idx-1])\n",
    "            idx += 1\n",
    "        except:\n",
    "            break\n",
    "    df['reaction_time'] = reaction_time\n",
    "        \n",
    "    # drop initial nback (value == 0)\n",
    "    df.drop(df[df['value'] == 0].index, inplace = True)\n",
    "    df.reset_index(inplace=True,drop=True)\n",
    "\n",
    "    # save\n",
    "    df.to_csv(osp.join(path_data,subject_name,'reaction_time_raw.csv'), index=False)\n",
    "    \n",
    "#     # penalty\n",
    "#     col_names = ['reaction_time']\n",
    "#     for penalty in np.arange(1.1,2.1,0.1):\n",
    "#         col_name = 'reaction_time_penalized_'+str(penalty)[0:3]\n",
    "#         col_names.append(col_name)\n",
    "#         df[col_name] = df['reaction_time']\n",
    "#         df.loc[df[df['value']==-1].index,col_name] = df['reaction_time'][df[df['value']==-1].index] * penalty\n",
    "    \n",
    "#     # remove reaction_time outlier \n",
    "#     lb = df['reaction_time'].quantile(.05)\n",
    "#     ub = df['reaction_time'].quantile(.95)\n",
    "\n",
    "#     inliers =df['reaction_time'].between(lb, ub)\n",
    "#     index_to_drop = df[~inliers].index\n",
    "#     df_inliers = df.drop(index_to_drop, inplace=False) # copy to make inliers only df and original\n",
    "#     df_inliers.reset_index(inplace=True,drop=True)\n",
    "    \n",
    "#     # true only and penalized\n",
    "#     df_inliers_true = df_inliers.drop(df_inliers[df_inliers['value'] == -1].index, inplace = False)\n",
    "#     df_inliers_true.drop(columns=col_names[1:],inplace=True)\n",
    "#     df_inliers_true.reset_index(inplace=True,drop=True)\n",
    "    \n",
    "#     df_inliers_penalized = df_inliers\n",
    "\n",
    "#     df_true = df.drop(df[df['value'] == -1].index, inplace = False)\n",
    "#     df_true.drop(columns=col_names[1:],inplace=True)\n",
    "#     df_true.reset_index(inplace=True,drop=True)\n",
    "    \n",
    "    df_penalized = df\n",
    "\n",
    "#     # save\n",
    "#     df_inliers_true.to_csv(osp.join(path_data,subject_name,'reaction_time_true_inliers.csv'), index=False)\n",
    "#     df_inliers_penalized.to_csv(osp.join(path_data,subject_name,'reaction_time_penalized_inliers.csv'), index=False)\n",
    "#     df_true.to_csv(osp.join(path_data,subject_name,'reaction_time_true.csv'), index=False)\n",
    "#     df_penalized.to_csv(osp.join(path_data,subject_name,'reaction_time_penalized.csv'), index=False)\n",
    "    \n",
    "    # minmax scaler\n",
    "#     for col_name in df_inliers_true.columns:\n",
    "#         if col_name not in nback_original_columns:\n",
    "#             df_inliers_true[col_name] = scaler.fit_transform(df_inliers_true[col_name].values.reshape(-1, 1))\n",
    "#     for col_name in df_inliers_penalized.columns:\n",
    "#         if col_name not in nback_original_columns:\n",
    "#             df_inliers_penalized[col_name] = scaler.fit_transform(df_inliers_penalized[col_name].values.reshape(-1, 1))\n",
    "#     for col_name in df_true.columns:\n",
    "#         if col_name not in nback_original_columns:\n",
    "#             df_true[col_name] = scaler.fit_transform(df_true[col_name].values.reshape(-1, 1))\n",
    "    for col_name in df_penalized.columns:\n",
    "            if col_name not in nback_original_columns:\n",
    "                df_penalized[col_name] = scaler.fit_transform(df_penalized[col_name].values.reshape(-1, 1))\n",
    "\n",
    "\n",
    "    # save\n",
    "#     df_inliers_true.to_csv(osp.join(path_data,subject_name,'reaction_time_true_inliers_minmax.csv'), index=False)\n",
    "#     df_inliers_penalized.to_csv(osp.join(path_data,subject_name,'reaction_time_penalized_inliers_minmax.csv'), index=False)\n",
    "#     df_true.to_csv(osp.join(path_data,subject_name,'reaction_time_true_minmax.csv'), index=False)\n",
    "    df_penalized.to_csv(osp.join(path_data,subject_name,'reaction_time_penalized_minmax.csv'), index=False)"
   ]
  },
  {
   "cell_type": "code",
   "execution_count": 14,
   "metadata": {},
   "outputs": [
    {
     "data": {
      "text/html": [
       "<div>\n",
       "<style scoped>\n",
       "    .dataframe tbody tr th:only-of-type {\n",
       "        vertical-align: middle;\n",
       "    }\n",
       "\n",
       "    .dataframe tbody tr th {\n",
       "        vertical-align: top;\n",
       "    }\n",
       "\n",
       "    .dataframe thead th {\n",
       "        text-align: right;\n",
       "    }\n",
       "</style>\n",
       "<table border=\"1\" class=\"dataframe\">\n",
       "  <thead>\n",
       "    <tr style=\"text-align: right;\">\n",
       "      <th></th>\n",
       "      <th>time_stamp</th>\n",
       "      <th>value</th>\n",
       "      <th>flag</th>\n",
       "      <th>mrr_30s</th>\n",
       "      <th>mhr_30s</th>\n",
       "      <th>sdrr_30s</th>\n",
       "      <th>sdhr_30s</th>\n",
       "      <th>cvrr_30s</th>\n",
       "      <th>rmsd_30s</th>\n",
       "      <th>prr20_30s</th>\n",
       "      <th>prr50_30s</th>\n",
       "      <th>reaction_time</th>\n",
       "    </tr>\n",
       "  </thead>\n",
       "  <tbody>\n",
       "    <tr>\n",
       "      <th>0</th>\n",
       "      <td>1572545903015</td>\n",
       "      <td>1</td>\n",
       "      <td>11</td>\n",
       "      <td>0.527371</td>\n",
       "      <td>0.497205</td>\n",
       "      <td>0.851002</td>\n",
       "      <td>0.879203</td>\n",
       "      <td>0.848181</td>\n",
       "      <td>0.807411</td>\n",
       "      <td>0.786148</td>\n",
       "      <td>0.900033</td>\n",
       "      <td>0.125558</td>\n",
       "    </tr>\n",
       "    <tr>\n",
       "      <th>1</th>\n",
       "      <td>1572545907711</td>\n",
       "      <td>1</td>\n",
       "      <td>11</td>\n",
       "      <td>0.585767</td>\n",
       "      <td>0.449776</td>\n",
       "      <td>0.859896</td>\n",
       "      <td>0.901443</td>\n",
       "      <td>0.831753</td>\n",
       "      <td>0.640768</td>\n",
       "      <td>0.663947</td>\n",
       "      <td>0.819021</td>\n",
       "      <td>0.614802</td>\n",
       "    </tr>\n",
       "    <tr>\n",
       "      <th>2</th>\n",
       "      <td>1572545908912</td>\n",
       "      <td>1</td>\n",
       "      <td>11</td>\n",
       "      <td>0.624368</td>\n",
       "      <td>0.415761</td>\n",
       "      <td>0.859781</td>\n",
       "      <td>0.898247</td>\n",
       "      <td>0.815819</td>\n",
       "      <td>0.623753</td>\n",
       "      <td>0.608302</td>\n",
       "      <td>0.786230</td>\n",
       "      <td>0.141929</td>\n",
       "    </tr>\n",
       "    <tr>\n",
       "      <th>3</th>\n",
       "      <td>1572545910146</td>\n",
       "      <td>-1</td>\n",
       "      <td>11</td>\n",
       "      <td>0.547166</td>\n",
       "      <td>0.499349</td>\n",
       "      <td>0.894803</td>\n",
       "      <td>0.954899</td>\n",
       "      <td>0.881081</td>\n",
       "      <td>0.621571</td>\n",
       "      <td>0.562673</td>\n",
       "      <td>0.731798</td>\n",
       "      <td>0.146394</td>\n",
       "    </tr>\n",
       "    <tr>\n",
       "      <th>4</th>\n",
       "      <td>1572545911609</td>\n",
       "      <td>1</td>\n",
       "      <td>11</td>\n",
       "      <td>0.551290</td>\n",
       "      <td>0.499279</td>\n",
       "      <td>0.902977</td>\n",
       "      <td>0.966768</td>\n",
       "      <td>0.886970</td>\n",
       "      <td>0.600297</td>\n",
       "      <td>0.572296</td>\n",
       "      <td>0.679500</td>\n",
       "      <td>0.177378</td>\n",
       "    </tr>\n",
       "  </tbody>\n",
       "</table>\n",
       "</div>"
      ],
      "text/plain": [
       "      time_stamp  value  flag   mrr_30s   mhr_30s  sdrr_30s  sdhr_30s  \\\n",
       "0  1572545903015      1    11  0.527371  0.497205  0.851002  0.879203   \n",
       "1  1572545907711      1    11  0.585767  0.449776  0.859896  0.901443   \n",
       "2  1572545908912      1    11  0.624368  0.415761  0.859781  0.898247   \n",
       "3  1572545910146     -1    11  0.547166  0.499349  0.894803  0.954899   \n",
       "4  1572545911609      1    11  0.551290  0.499279  0.902977  0.966768   \n",
       "\n",
       "   cvrr_30s  rmsd_30s  prr20_30s  prr50_30s  reaction_time  \n",
       "0  0.848181  0.807411   0.786148   0.900033       0.125558  \n",
       "1  0.831753  0.640768   0.663947   0.819021       0.614802  \n",
       "2  0.815819  0.623753   0.608302   0.786230       0.141929  \n",
       "3  0.881081  0.621571   0.562673   0.731798       0.146394  \n",
       "4  0.886970  0.600297   0.572296   0.679500       0.177378  "
      ]
     },
     "execution_count": 14,
     "metadata": {},
     "output_type": "execute_result"
    }
   ],
   "source": [
    "df.head()"
   ]
  },
  {
   "cell_type": "markdown",
   "metadata": {},
   "source": [
    "## Check NaN and Inf"
   ]
  },
  {
   "cell_type": "code",
   "execution_count": 15,
   "metadata": {},
   "outputs": [],
   "source": [
    "for subject_name in subject_list:\n",
    "    # read\n",
    "    df = pd.read_csv(osp.join(path_data,subject_name,'reaction_time_raw.csv'))\n",
    "    for col in df.columns:\n",
    "        if df[col].isnull().values.any():\n",
    "            print(subject_name, col)"
   ]
  },
  {
   "cell_type": "code",
   "execution_count": 16,
   "metadata": {},
   "outputs": [],
   "source": [
    "for subject_name in subject_list:\n",
    "    # read\n",
    "    df = pd.read_csv(osp.join(path_data,subject_name,'reaction_time_raw.csv'))\n",
    "    for col in df.columns:\n",
    "        if not df.index[np.isinf(df[col])].empty:\n",
    "            print(subject_name, col)"
   ]
  },
  {
   "cell_type": "markdown",
   "metadata": {},
   "source": [
    "## Elbow Method (Using K-Means CLustering)"
   ]
  },
  {
   "cell_type": "code",
   "execution_count": 17,
   "metadata": {},
   "outputs": [],
   "source": [
    "from sklearn.cluster import KMeans"
   ]
  },
  {
   "cell_type": "code",
   "execution_count": 18,
   "metadata": {},
   "outputs": [],
   "source": [
    "from kneed import KneeLocator\n",
    "\n",
    "def kneed_elbow(model, x, fit_num=1, cluster_nums=range(2,10)):\n",
    "    distortions = []\n",
    "    for cluster_num in cluster_nums:\n",
    "        model.n_clusters=cluster_num\n",
    "        inertia = 0\n",
    "        for _ in range(fit_num):\n",
    "            model.fit(x)\n",
    "            inertia += model.inertia_\n",
    "        distortions.append(inertia/fit_num)\n",
    "    return KneeLocator(cluster_nums, distortions, S=1.0, curve=\"convex\", direction=\"decreasing\")"
   ]
  },
  {
   "cell_type": "code",
   "execution_count": 19,
   "metadata": {},
   "outputs": [
    {
     "name": "stdout",
     "output_type": "stream",
     "text": [
      "4\n"
     ]
    }
   ],
   "source": [
    "# elbow (based on true only, with outliers drop, and no penalty)\n",
    "elbow_list = []\n",
    "kneedle_list = []\n",
    "for subject_name in subject_list:\n",
    "    # read\n",
    "    path_input_file = osp.join(path_data,subject_name,'reaction_time_penalized_minmax.csv')\n",
    "    df = pd.read_csv(path_input_file)\n",
    "\n",
    "    # Instantiate the clustering model and visualizer\n",
    "    cluster = KMeans()\n",
    "    kneedle = kneed_elbow(cluster, df['reaction_time'].values.reshape(-1, 1))\n",
    "    elbow_list.append(kneedle.knee) \n",
    "    kneedle_list.append(kneedle)\n",
    "elbow_num = sum(elbow_list)//len(elbow_list)\n",
    "\n",
    "# # result\n",
    "# elbow_num = 4\n",
    "print(elbow_num)"
   ]
  },
  {
   "cell_type": "code",
   "execution_count": 20,
   "metadata": {},
   "outputs": [
    {
     "data": {
      "image/png": "[encoded data removed]",
      "text/plain": [
       "<Figure size 432x432 with 1 Axes>"
      ]
     },
     "metadata": {
      "needs_background": "light"
     },
     "output_type": "display_data"
    },
    {
     "data": {
      "image/png": "[encoded data removed]",
      "text/plain": [
       "<Figure size 432x432 with 1 Axes>"
      ]
     },
     "metadata": {
      "needs_background": "light"
     },
     "output_type": "display_data"
    }
   ],
   "source": [
    "# sample plot\n",
    "kneedle_list[0].plot_knee(); kneedle_list[0].plot_knee_normalized()"
   ]
  },
  {
   "cell_type": "markdown",
   "metadata": {},
   "source": [
    "## clustering k-means (to four groups, as elbow)"
   ]
  },
  {
   "cell_type": "code",
   "execution_count": 21,
   "metadata": {},
   "outputs": [],
   "source": [
    "# def sorted_cluster(x, model=None):\n",
    "#     if model == None:\n",
    "#         model = KMeans()\n",
    "#     model = sorted_cluster_centers_(model, x)\n",
    "#     model = sorted_labels_(model, x)\n",
    "#     return model\n",
    "\n",
    "# def sorted_cluster_centers_(model, x):\n",
    "#     model.fit(x)\n",
    "#     new_centroids = []\n",
    "#     magnitude = []\n",
    "#     for center in model.cluster_centers_:\n",
    "#         magnitude.append(np.sqrt(center.dot(center)))\n",
    "#     idx_argsort = np.argsort(magnitude)\n",
    "#     model.cluster_centers_ = model.cluster_centers_[idx_argsort]\n",
    "#     return model\n",
    "\n",
    "# def sorted_labels_(sorted_model, x):\n",
    "#     sorted_model.labels_ = sorted_model.predict(x)\n",
    "#     return sorted_model"
   ]
  },
  {
   "cell_type": "code",
   "execution_count": 22,
   "metadata": {},
   "outputs": [],
   "source": [
    "# file_names = [\n",
    "#     'reaction_time_true_inliers_minmax.csv', \n",
    "#     'reaction_time_penalized_inliers_minmax.csv'\n",
    "#     'reaction_time_true_minmax.csv', \n",
    "#     'reaction_time_penalized_minmax.csv', \n",
    "# ]\n",
    "\n",
    "# cluster = KMeans(n_clusters=elbow_num, random_state=0)\n",
    "# for subject_name in subject_list:\n",
    "#     for file_name in file_names:\n",
    "#         # rea\n",
    "#         df = pd.read_csv(osp.join(path_data,subject_name,file_name))\n",
    "#         for idx,col_name in enumerate(df.columns):\n",
    "#             if 'reaction_time' in col_name:\n",
    "#                 cluster = sorted_cluster(df[col_name].values.reshape(-1,1), cluster)\n",
    "#                 df[col_name] = cluster.labels_    \n",
    "#         df.to_csv(osp.join(path_data,subject_name,'kmeans_'+file_name), index=False)"
   ]
  },
  {
   "cell_type": "code",
   "execution_count": 23,
   "metadata": {
    "scrolled": true
   },
   "outputs": [],
   "source": [
    "# df.head()"
   ]
  },
  {
   "cell_type": "markdown",
   "metadata": {},
   "source": [
    "## split kde (to three groups, max)"
   ]
  },
  {
   "cell_type": "code",
   "execution_count": 24,
   "metadata": {},
   "outputs": [],
   "source": [
    "# from sklearn.neighbors import KernelDensity\n",
    "# from scipy.signal import argrelextrema\n",
    "\n",
    "# def split_kde(x, model=None, start_end=None, n_groups=None, lower_bound=None, upper_bound=None, max_iter=100):\n",
    "#     '''\n",
    "#     x: data\n",
    "#     model: sklearn.neighbors.KernelDensity\n",
    "#     start_end: (optional) linspace start and end point\n",
    "#     n_groups: (optional) specify number of groups after splitted\n",
    "#     lower_bound: (optional) if n_groups, lower bound for binary search\n",
    "#     upper_bound: (optional) if n_groups, upper bound for binary search\n",
    "#     max_iter: maximum number of iteration\n",
    "#     '''\n",
    "#     if start_end == None:\n",
    "#         start = min(x)\n",
    "#         end = max(x)\n",
    "#     else:\n",
    "#         start, end = (start_end)\n",
    "    \n",
    "#     if model == None:\n",
    "#         model = KernelDensity(kernel='gaussian', bandwidth=(end-start)/100)\n",
    "    \n",
    "#     model.s_ = np.linspace(start,end)\n",
    "#     model.fit(x)\n",
    "#     model.e_ = model.score_samples(model.s_.reshape(-1,1))\n",
    "#     mi = argrelextrema(model.e_, np.less)[0]\n",
    "#     model.mi_ = mi\n",
    "#     if n_groups:\n",
    "#         # binary_search\n",
    "#         lower_bound = 0\n",
    "#         iteration = 0\n",
    "#         while len(mi) != (n_groups-1):\n",
    "#             if len(mi) > (n_groups-1):\n",
    "#                 # increase kernel\n",
    "#                 lower_bound = model.bandwidth\n",
    "#                 if upper_bound:\n",
    "#                     model.bandwidth = lower_bound + (upper_bound-lower_bound) / 2\n",
    "#                 else:\n",
    "#                     model.bandwidth = lower_bound * 2\n",
    "#             else:\n",
    "#                 # decrease kernel\n",
    "#                 upper_bound = model.bandwidth\n",
    "#                 model.bandwidth = lower_bound + (upper_bound-lower_bound) / 2\n",
    "#             model.fit(x)\n",
    "#             model.e_ = model.score_samples(model.s_.reshape(-1,1))\n",
    "#             mi = argrelextrema(model.e_, np.less)[0]\n",
    "#             iteration += 1\n",
    "#             if iteration == max_iter:\n",
    "#                 raise Exception('No convergence. Try remove start_end or reduce the difference, or increase max_iter')\n",
    "    \n",
    "#     model.split_points_ = model.s_[mi]    \n",
    "#     if model.split_points_.size == 0:\n",
    "#         model.splitted_ = [np.array(x).flatten()]\n",
    "#         model.labels_ = [0]*len(x)\n",
    "#         return model\n",
    "#     else:\n",
    "#         model.splitted_ = get_splitted_(x, model.split_points_)\n",
    "#     model.labels_ = get_labels_(x, model.split_points_)\n",
    "#     return model\n",
    "\n",
    "# def get_split_points_(e, s):\n",
    "#     mi = get_mi(e)  \n",
    "#     return s[mi]\n",
    "\n",
    "# def get_splitted_(x, split_points_):\n",
    "#     splitted_ = [x[x <= split_points_[0]]]\n",
    "#     for idx in range(len(split_points_))[:-1]:\n",
    "#         splitted_.append(x[(x > split_points_[idx]) * (x <= split_points_[idx+1])])  \n",
    "#     splitted_.append(x[x > split_points_[-1]])\n",
    "#     return splitted_\n",
    "\n",
    "# def get_labels_(x, split_points_):\n",
    "#     labels_ = []\n",
    "#     for val in x:\n",
    "#         start_idx = 0\n",
    "#         label_ = get_label_(val, start_idx, split_points_)\n",
    "#         labels_.append(label_)\n",
    "#     return np.array(labels_)\n",
    "\n",
    "# def get_label_(val, idx, split_points_):\n",
    "#     try:\n",
    "#         if val < split_points_[idx]:\n",
    "#             return idx\n",
    "#         else:\n",
    "#             idx = get_label_(val, idx+1, split_points_)\n",
    "#             return idx\n",
    "#     except:\n",
    "#         return len(split_points_)"
   ]
  },
  {
   "cell_type": "code",
   "execution_count": 25,
   "metadata": {
    "scrolled": true
   },
   "outputs": [],
   "source": [
    "# file_names = [\n",
    "#     'reaction_time_true_inliers_minmax.csv',\n",
    "#     'reaction_time_penalized_inliers_minmax.csv'\n",
    "#     'reaction_time_true_minmax.csv',\n",
    "#     'reaction_time_penalized_minmax.csv',\n",
    "# ]\n",
    "\n",
    "# kde = KernelDensity(kernel='gaussian', bandwidth=0.05)\n",
    "# for subject_name in subject_list:\n",
    "#     for file_name in file_names:\n",
    "#         # read\n",
    "#         df = pd.read_csv(osp.join(path_data,subject_name,file_name))\n",
    "#         for idx,col_name in enumerate(df.columns):\n",
    "#             if 'reaction_time' in col_name:\n",
    "#                 kde = split_kde(df[col_name].values.reshape(-1,1), model = kde, start_end=(0,1), n_groups = 3, max_iter=1000)\n",
    "#                 df[col_name] = kde.labels_    \n",
    "#         df.to_csv(osp.join(path_data,subject_name,'kde_'+file_name), index=False)"
   ]
  },
  {
   "cell_type": "markdown",
   "metadata": {},
   "source": [
    "## classification jenks natural breaks (to four groups, as elbow)"
   ]
  },
  {
   "cell_type": "code",
   "execution_count": 26,
   "metadata": {},
   "outputs": [],
   "source": [
    "from jenkspy import jenks_breaks\n",
    "class JenksNaturalBreaks:\n",
    "    def __init__(self, nb_class=6):\n",
    "        self.nb_class = nb_class\n",
    "        \n",
    "    def fit(self, x):\n",
    "        self.breaks_ = jenks_breaks(x, self.nb_class)\n",
    "        self.inner_breaks_ = self.breaks_[1:-1] # because inner_breaks is more \n",
    "        self.labels_ = self.predict(x)\n",
    "        self.groups_ = self.group(x)\n",
    "        \n",
    "    def predict(self, x):\n",
    "        if np.size(x) == 1:\n",
    "            return np.array(self.get_label_(x, idx=0))\n",
    "        else:\n",
    "            labels_ = []\n",
    "            for val in x:\n",
    "                label_ = self.get_label_(val, idx=0)\n",
    "                labels_.append(label_)\n",
    "            return np.array(labels_)\n",
    "        \n",
    "    def group(self, x):\n",
    "        x = np.array(x)\n",
    "        groups_ = [x[x <= self.inner_breaks_[0]]]\n",
    "        for idx in range(len(self.inner_breaks_))[:-1]:\n",
    "            groups_.append(x[(x > self.inner_breaks_[idx]) * (x <= self.inner_breaks_[idx+1])])  \n",
    "        groups_.append(x[x > self.inner_breaks_[-1]])\n",
    "        return groups_\n",
    "    \n",
    "    def get_label_(self, val, idx=0):\n",
    "        try:\n",
    "            if val < self.inner_breaks_[idx]:\n",
    "                return idx\n",
    "            else:\n",
    "                idx = self.get_label_(val, idx+1)\n",
    "                return idx\n",
    "        except:\n",
    "            return len(self.inner_breaks_)"
   ]
  },
  {
   "cell_type": "code",
   "execution_count": 27,
   "metadata": {},
   "outputs": [
    {
     "name": "stderr",
     "output_type": "stream",
     "text": [
      "c:\\users\\muham\\appdata\\local\\programs\\python\\python37\\lib\\site-packages\\jenkspy\\core.py:98: UserWarning: Invalid values encountered (NaN or Inf) were ignored\n",
      "  warnings.warn('Invalid values encountered (NaN or Inf) were ignored')\n"
     ]
    }
   ],
   "source": [
    "file_names = [\n",
    "#     'reaction_time_true_inliers_minmax.csv',\n",
    "#     'reaction_time_penalized_inliers_minmax.csv'\n",
    "#     'reaction_time_true_minmax.csv',\n",
    "    'reaction_time_penalized_minmax.csv',\n",
    "]\n",
    "\n",
    "jnb = JenksNaturalBreaks(nb_class=4)\n",
    "for subject_name in subject_list:\n",
    "    for file_name in file_names:\n",
    "        # read\n",
    "        df = pd.read_csv(osp.join(path_data,subject_name,file_name))\n",
    "        for idx,col_name in enumerate(df.columns):\n",
    "            if 'reaction_time' in col_name:\n",
    "                jnb.fit(df[col_name].values.reshape(-1,1))\n",
    "                df[col_name] = jnb.labels_\n",
    "        df.to_csv(osp.join(path_data,subject_name,'jenks_'+file_name), index=False)"
   ]
  },
  {
   "cell_type": "markdown",
   "metadata": {},
   "source": [
    "## merge data"
   ]
  },
  {
   "cell_type": "code",
   "execution_count": 28,
   "metadata": {},
   "outputs": [],
   "source": [
    "path_data = 'data/individual'\n",
    "path_merged = 'data/collective'"
   ]
  },
  {
   "cell_type": "code",
   "execution_count": 29,
   "metadata": {},
   "outputs": [],
   "source": [
    "if not osp.exists(path_merged):\n",
    "    os.makedirs(path_merged)"
   ]
  },
  {
   "cell_type": "code",
   "execution_count": 30,
   "metadata": {},
   "outputs": [],
   "source": [
    "subject_list = os.listdir(path_data)"
   ]
  },
  {
   "cell_type": "code",
   "execution_count": 31,
   "metadata": {},
   "outputs": [],
   "source": [
    "file_list = [\n",
    "#     'jenks_reaction_time_true_minmax.csv',\n",
    "    'jenks_reaction_time_penalized_minmax.csv',\n",
    "#     'jenks_reaction_time_true_inliers_minmax.csv',\n",
    "#     'jenks_reaction_time_penalized_inliers_minmax.csv',\n",
    "#     'kde_reaction_time_penalized_inliers_minmax.csv',\n",
    "#     'kde_reaction_time_penalized_minmax.csv',\n",
    "#     'kde_reaction_time_true_inliers_minmax.csv',\n",
    "#     'kde_reaction_time_true_minmax.csv',\n",
    "#     'kmeans_reaction_time_penalized_inliers_minmax.csv',\n",
    "#     'kmeans_reaction_time_penalized_minmax.csv',\n",
    "#     'kmeans_reaction_time_true_inliers_minmax.csv',\n",
    "#     'kmeans_reaction_time_true_minmax.csv'\n",
    "]"
   ]
  },
  {
   "cell_type": "code",
   "execution_count": 32,
   "metadata": {},
   "outputs": [],
   "source": [
    "for file_name in file_list:\n",
    "    df = pd.concat([pd.read_csv(osp.join(path_data,subject_name,file_name)) for subject_name in subject_list], ignore_index=True)\n",
    "    df.to_csv(osp.join(path_merged,file_name), index=False)"
   ]
  },
  {
   "cell_type": "markdown",
   "metadata": {},
   "source": [
    "# HRV-Stress_correlation"
   ]
  },
  {
   "cell_type": "markdown",
   "metadata": {},
   "source": [
    "This part is optional, only used to see the best preprocessing from correlation perpective"
   ]
  },
  {
   "cell_type": "markdown",
   "metadata": {},
   "source": [
    "## kendall correlation"
   ]
  },
  {
   "cell_type": "code",
   "execution_count": 33,
   "metadata": {},
   "outputs": [],
   "source": [
    "from pprint import pprint"
   ]
  },
  {
   "cell_type": "code",
   "execution_count": 34,
   "metadata": {},
   "outputs": [],
   "source": [
    "# path_merged = 'data/collective'\n",
    "# file_list = [\n",
    "#     'jenks_reaction_time_penalized_inliers_minmax.csv',\n",
    "#     'jenks_reaction_time_penalized_minmax.csv',\n",
    "#     'jenks_reaction_time_true_inliers_minmax.csv',\n",
    "#     'jenks_reaction_time_true_minmax.csv',\n",
    "#     'kde_reaction_time_penalized_inliers_minmax.csv',\n",
    "#     'kde_reaction_time_penalized_minmax.csv',\n",
    "#     'kde_reaction_time_true_inliers_minmax.csv',\n",
    "#     'kde_reaction_time_true_minmax.csv',\n",
    "#     'kmeans_reaction_time_penalized_inliers_minmax.csv',\n",
    "#     'kmeans_reaction_time_penalized_minmax.csv',\n",
    "#     'kmeans_reaction_time_true_inliers_minmax.csv',\n",
    "#     'kmeans_reaction_time_true_minmax.csv'\n",
    "# ]"
   ]
  },
  {
   "cell_type": "code",
   "execution_count": 35,
   "metadata": {},
   "outputs": [],
   "source": [
    "# # Based on literature, monotonic data with small group options is better analyzed using Kendall's correlation\n",
    "# var_60_names = ['mrr_60s', 'mhr_60s', 'sdrr_60s', 'sdhr_60s', 'cvrr_60s', 'rmsd_60s', 'prr20_60s', 'prr50_60s']\n",
    "# var_45_names = ['mrr_45s', 'mhr_45s', 'sdrr_45s', 'sdhr_45s', 'cvrr_45s', 'rmsd_45s', 'prr20_45s', 'prr50_45s']\n",
    "# var_30_names = ['mrr_30s', 'mhr_30s', 'sdrr_30s', 'sdhr_30s', 'cvrr_30s', 'rmsd_30s', 'prr20_30s', 'prr50_30s']\n",
    "# var_15_names = ['mrr_15s', 'mhr_15s', 'sdrr_15s', 'sdhr_15s', 'cvrr_15s', 'rmsd_15s', 'prr20_15s', 'prr50_15s']\n",
    "\n",
    "# dict_correlation = {}\n",
    "# for file_name in file_list:\n",
    "#     dict_correlation[file_name] = {}\n",
    "#     df = pd.read_csv(osp.join(path_merged,file_name))\n",
    "#     col_names = df.columns\n",
    "#     for col_name in col_names:\n",
    "#         if 'reaction_time' in col_name:\n",
    "#             dict_correlation[file_name][col_name] = {\n",
    "#                 '60s': {},\n",
    "#                 '45s': {},\n",
    "#                 '30s': {},\n",
    "#                 '15s': {}\n",
    "#             }\n",
    "#             for var_name in var_60_names:\n",
    "#                 dict_correlation[file_name][col_name]['60s'][var_name] = df[var_name].corr(df[col_name], method='kendall')\n",
    "#             for var_name in var_45_names:\n",
    "#                 dict_correlation[file_name][col_name]['45s'][var_name] = df[var_name].corr(df[col_name], method='kendall')\n",
    "#             for var_name in var_30_names:\n",
    "#                 dict_correlation[file_name][col_name]['30s'][var_name] = df[var_name].corr(df[col_name], method='kendall')\n",
    "#             for var_name in var_15_names:\n",
    "#                 dict_correlation[file_name][col_name]['15s'][var_name] = df[var_name].corr(df[col_name], method='kendall')"
   ]
  },
  {
   "cell_type": "code",
   "execution_count": 36,
   "metadata": {},
   "outputs": [],
   "source": [
    "# import pickle\n",
    "\n",
    "# with open(osp.join(path_merged,'correlation_kendall.pickle'), 'wb') as handle:\n",
    "#     pickle.dump(dict_correlation, handle, protocol=pickle.HIGHEST_PROTOCOL)\n",
    "\n",
    "# with open(osp.join(path_merged,'correlation_kendall.pickle'), 'rb') as handle:\n",
    "#     dict_correlation_load = pickle.load(handle)\n",
    "\n",
    "# print(dict_correlation == dict_correlation_load)\n",
    "\n",
    "# try:\n",
    "#     if dict_correlation == dict_correlation_load:\n",
    "#         dict_correlation = dict_correlation_load\n",
    "# except:\n",
    "#     dict_correlation = dict_correlation_load"
   ]
  },
  {
   "cell_type": "markdown",
   "metadata": {},
   "source": [
    "## kmeans vs jenks vs kde, 15s vs 30s vs 45s vs 60s"
   ]
  },
  {
   "cell_type": "code",
   "execution_count": 37,
   "metadata": {},
   "outputs": [],
   "source": [
    "# file_names = [\n",
    "#     'jenks_reaction_time_penalized_minmax.csv',\n",
    "# #     'kde_reaction_time_penalized_minmax.csv',\n",
    "# #     'kmeans_reaction_time_penalized_minmax.csv',\n",
    "# ]\n",
    "\n",
    "# best_score = 0\n",
    "# dict_correlation_comparison = {}\n",
    "# for file_name in file_names:\n",
    "#     dict_correlation_comparison[file_name] = {}\n",
    "#     for window_size, value in dict_correlation[file_name]['reaction_time'].items():\n",
    "#         score_temp = []\n",
    "#         for variable, score in value.items():\n",
    "#             if 'mrr' in variable:\n",
    "#                 score_temp.append(score) # correlation must be possitive for mrr\n",
    "#             else:\n",
    "#                 score_temp.append(-1 * score) # correlation must be possitive for not mrr\n",
    "                \n",
    "#         mean_correlation_of_all_variable = np.mean(score_temp)\n",
    "#         dict_correlation_comparison[file_name][window_size] = mean_correlation_of_all_variable\n",
    "#         if mean_correlation_of_all_variable > best_score:\n",
    "#             best_score = mean_correlation_of_all_variable\n",
    "#             best_correlation = {\n",
    "#                 'file_name': file_name,\n",
    "#                 'window_size': window_size,\n",
    "#                 'score': np.mean(score_temp)\n",
    "#             }\n",
    "# pprint(dict_correlation_comparison)\n",
    "# pprint(best_correlation)"
   ]
  },
  {
   "cell_type": "code",
   "execution_count": 38,
   "metadata": {},
   "outputs": [],
   "source": [
    "# pprint(dict_correlation[best_correlation['file_name']]['reaction_time'][best_correlation['window_size']])"
   ]
  },
  {
   "cell_type": "markdown",
   "metadata": {},
   "source": [
    "## inlier only vs with outlier, correct answer only vs with wrong anser"
   ]
  },
  {
   "cell_type": "code",
   "execution_count": 39,
   "metadata": {},
   "outputs": [],
   "source": [
    "# file_names = [\n",
    "#     'jenks_reaction_time_true_minmax.csv',\n",
    "#     'jenks_reaction_time_penalized_minmax.csv',\n",
    "#     'jenks_reaction_time_true_inliers_minmax.csv',\n",
    "#     'jenks_reaction_time_penalized_inliers_minmax.csv',\n",
    "# ]\n",
    "\n",
    "# best_score = 0\n",
    "# dict_preprocess_comparison = {}\n",
    "# for file_name in file_names:\n",
    "#     dict_preprocess_comparison[file_name] = {}\n",
    "#     for window_size, value in dict_correlation[file_name]['reaction_time'].items():\n",
    "#         if window_size == best_correlation['window_size']:\n",
    "#             score_temp = []\n",
    "#             for variable, score in value.items():\n",
    "#                 if 'mrr' in variable:\n",
    "#                     score_temp.append(score) # correlation must be possitive for mrr\n",
    "#                 else:\n",
    "#                     score_temp.append(-1 * score) # correlation must be possitive for not mrr\n",
    "\n",
    "#             mean_correlation_of_all_variable = np.mean(score_temp)\n",
    "#             dict_preprocess_comparison[file_name][best_correlation['window_size']] = mean_correlation_of_all_variable\n",
    "#             if mean_correlation_of_all_variable > best_score:\n",
    "#                 best_score = mean_correlation_of_all_variable\n",
    "#                 best_preprocess = {\n",
    "#                     'file_name': file_name,\n",
    "#                     'score': np.mean(score_temp)\n",
    "#                 }\n",
    "# pprint(dict_preprocess_comparison)\n",
    "# pprint(best_preprocess)"
   ]
  },
  {
   "cell_type": "markdown",
   "metadata": {},
   "source": [
    "## penalty score"
   ]
  },
  {
   "cell_type": "code",
   "execution_count": 40,
   "metadata": {},
   "outputs": [],
   "source": [
    "# file_name = 'jenks_reaction_time_penalized_minmax.csv'\n",
    "\n",
    "# best_score = 0\n",
    "# dict_penalty_comparison = {}\n",
    "# dict_penalty_comparison[file_name] = {}\n",
    "# for penalty_score in dict_correlation[file_name]:\n",
    "#     score_temp = []\n",
    "#     dict_penalty_comparison[file_name][penalty_score] = {}\n",
    "#     for variable, score in dict_correlation[file_name][penalty_score][best_correlation['window_size']].items():\n",
    "#         if 'mrr' in variable:\n",
    "#             score_temp.append(score) # correlation must be possitive for mrr\n",
    "#         else:\n",
    "#             score_temp.append(-1 * score) # correlation must be possitive for not mrr\n",
    "\n",
    "#     mean_correlation_of_all_variable = np.mean(score_temp)\n",
    "#     dict_penalty_comparison[file_name][penalty_score][best_correlation['window_size']] = mean_correlation_of_all_variable\n",
    "#     if mean_correlation_of_all_variable > best_score:\n",
    "#         best_score = mean_correlation_of_all_variable\n",
    "#         best_preprocess = {\n",
    "#             'file_name': file_name,\n",
    "#             'penalty_score': penalty_score,\n",
    "#             'score': np.mean(score_temp)\n",
    "#         }\n",
    "# pprint(dict_penalty_comparison)\n",
    "# pprint(best_preprocess)"
   ]
  },
  {
   "cell_type": "markdown",
   "metadata": {},
   "source": [
    "## complete correlation"
   ]
  },
  {
   "cell_type": "code",
   "execution_count": 41,
   "metadata": {},
   "outputs": [],
   "source": [
    "# file_name = best_preprocess['file_name']\n",
    "# if best_correlation['window_size'] == '15s':\n",
    "#     var_names = ['mrr_15s', 'mhr_15s', 'sdrr_15s', 'sdhr_15s', 'cvrr_15s', 'rmsd_15s', 'prr20_15s', 'prr50_15s']\n",
    "# elif best_correlation['window_size'] == '30s':\n",
    "#     var_names = ['mrr_30s', 'mhr_30s', 'sdrr_30s', 'sdhr_30s', 'cvrr_30s', 'rmsd_30s', 'prr20_30s', 'prr50_30s']\n",
    "# elif best_correlation['window_size'] == '45s':\n",
    "#     var_names = ['mrr_45s', 'mhr_45s', 'sdrr_45s', 'sdhr_45s', 'cvrr_45s', 'rmsd_45s', 'prr20_45s', 'prr50_45s']\n",
    "# else:\n",
    "#     var_names = ['mrr_60s', 'mhr_60s', 'sdrr_60s', 'sdhr_60s', 'cvrr_60s', 'rmsd_60s', 'prr20_60s', 'prr50_60s']\n",
    "# label_name = best_preprocess['penalty_score']\n",
    "# dict_correlation = {\n",
    "#     'pearson': {}, # Pearson's r\n",
    "#     'spearman': {}, # Spearman's rho\n",
    "#     'kendall': {} # Kendall's tau\n",
    "# }\n",
    "# df = pd.read_csv(osp.join(path_merged,file_name))\n",
    "# for var_name in var_names:\n",
    "#     dict_correlation['pearson'][var_name] = df[var_name].corr(df[label_name], method='pearson')\n",
    "#     dict_correlation['spearman'][var_name] = df[var_name].corr(df[label_name], method='spearman')    \n",
    "#     dict_correlation['kendall'][var_name] = df[var_name].corr(df[label_name], method='kendall')\n",
    "\n",
    "# pprint(dict_correlation)"
   ]
  },
  {
   "cell_type": "markdown",
   "metadata": {},
   "source": [
    "# HRV-Stress_machine-learning"
   ]
  },
  {
   "cell_type": "markdown",
   "metadata": {},
   "source": [
    "### mode: jenks, four groups, all variables, 30s hrv window\n",
    "\n",
    "```python\n",
    "random_state = 0 # for reproducibility\n",
    "test_size = 0.2 # 20% data as test data\n",
    "\n",
    "file_name = 'jenks_reaction_time_penalized_minmax.csv'\n",
    "var_30_names = ['mrr_30s', 'mhr_30s', 'sdrr_30s', 'sdhr_30s', 'cvrr_30s', 'rmsd_30s', 'prr20_30s', 'prr50_30s']\n",
    "label_name = 'reaction_time'\n",
    "```"
   ]
  },
  {
   "cell_type": "markdown",
   "metadata": {},
   "source": [
    "## split"
   ]
  },
  {
   "cell_type": "code",
   "execution_count": 42,
   "metadata": {},
   "outputs": [],
   "source": [
    "from sklearn.model_selection import train_test_split"
   ]
  },
  {
   "cell_type": "code",
   "execution_count": 43,
   "metadata": {},
   "outputs": [],
   "source": [
    "random_state = 0 # for reproducibility\n",
    "test_size = 0.2 # 20% data as test data"
   ]
  },
  {
   "cell_type": "code",
   "execution_count": 44,
   "metadata": {},
   "outputs": [],
   "source": [
    "folder_path = 'data/collective'\n",
    "file_name = 'jenks_reaction_time_penalized_minmax.csv'\n",
    "folder_train = osp.join('data',file_name[:-4],'train')\n",
    "folder_test = osp.join('data',file_name[:-4],'train')\n",
    "folder_result = osp.join('data',file_name[:-4],'result')\n",
    "for f in [folder_train, folder_test, folder_result]:\n",
    "    if not osp.exists(f):\n",
    "        os.makedirs(f)\n",
    "var_names = ['mrr_30s', 'mhr_30s', 'sdrr_30s', 'sdhr_30s', 'cvrr_30s', 'rmsd_30s', 'prr20_30s', 'prr50_30s']\n",
    "label_name = 'reaction_time'"
   ]
  },
  {
   "cell_type": "code",
   "execution_count": 45,
   "metadata": {},
   "outputs": [
    {
     "data": {
      "text/html": [
       "<div>\n",
       "<style scoped>\n",
       "    .dataframe tbody tr th:only-of-type {\n",
       "        vertical-align: middle;\n",
       "    }\n",
       "\n",
       "    .dataframe tbody tr th {\n",
       "        vertical-align: top;\n",
       "    }\n",
       "\n",
       "    .dataframe thead th {\n",
       "        text-align: right;\n",
       "    }\n",
       "</style>\n",
       "<table border=\"1\" class=\"dataframe\">\n",
       "  <thead>\n",
       "    <tr style=\"text-align: right;\">\n",
       "      <th></th>\n",
       "      <th>time_stamp</th>\n",
       "      <th>value</th>\n",
       "      <th>flag</th>\n",
       "      <th>mrr_30s</th>\n",
       "      <th>mhr_30s</th>\n",
       "      <th>sdrr_30s</th>\n",
       "      <th>sdhr_30s</th>\n",
       "      <th>cvrr_30s</th>\n",
       "      <th>rmsd_30s</th>\n",
       "      <th>prr20_30s</th>\n",
       "      <th>prr50_30s</th>\n",
       "      <th>reaction_time</th>\n",
       "    </tr>\n",
       "  </thead>\n",
       "  <tbody>\n",
       "    <tr>\n",
       "      <th>0</th>\n",
       "      <td>1569164462512</td>\n",
       "      <td>1</td>\n",
       "      <td>11</td>\n",
       "      <td>0.369403</td>\n",
       "      <td>0.561496</td>\n",
       "      <td>0.357458</td>\n",
       "      <td>0.290079</td>\n",
       "      <td>0.272239</td>\n",
       "      <td>0.135309</td>\n",
       "      <td>0.479167</td>\n",
       "      <td>0.537799</td>\n",
       "      <td>1</td>\n",
       "    </tr>\n",
       "    <tr>\n",
       "      <th>1</th>\n",
       "      <td>1569164465071</td>\n",
       "      <td>1</td>\n",
       "      <td>11</td>\n",
       "      <td>0.358028</td>\n",
       "      <td>0.569898</td>\n",
       "      <td>0.341373</td>\n",
       "      <td>0.247910</td>\n",
       "      <td>0.258321</td>\n",
       "      <td>0.121904</td>\n",
       "      <td>0.489754</td>\n",
       "      <td>0.550318</td>\n",
       "      <td>1</td>\n",
       "    </tr>\n",
       "    <tr>\n",
       "      <th>2</th>\n",
       "      <td>1569164466257</td>\n",
       "      <td>1</td>\n",
       "      <td>11</td>\n",
       "      <td>0.377661</td>\n",
       "      <td>0.549584</td>\n",
       "      <td>0.358769</td>\n",
       "      <td>0.264653</td>\n",
       "      <td>0.269784</td>\n",
       "      <td>0.131907</td>\n",
       "      <td>0.414583</td>\n",
       "      <td>0.537799</td>\n",
       "      <td>0</td>\n",
       "    </tr>\n",
       "    <tr>\n",
       "      <th>3</th>\n",
       "      <td>1569164467772</td>\n",
       "      <td>1</td>\n",
       "      <td>11</td>\n",
       "      <td>0.371055</td>\n",
       "      <td>0.572978</td>\n",
       "      <td>0.402266</td>\n",
       "      <td>0.372624</td>\n",
       "      <td>0.325611</td>\n",
       "      <td>0.187001</td>\n",
       "      <td>0.479167</td>\n",
       "      <td>0.577990</td>\n",
       "      <td>0</td>\n",
       "    </tr>\n",
       "    <tr>\n",
       "      <th>4</th>\n",
       "      <td>1569164469829</td>\n",
       "      <td>1</td>\n",
       "      <td>11</td>\n",
       "      <td>0.412344</td>\n",
       "      <td>0.522370</td>\n",
       "      <td>0.396878</td>\n",
       "      <td>0.374052</td>\n",
       "      <td>0.298654</td>\n",
       "      <td>0.172982</td>\n",
       "      <td>0.479167</td>\n",
       "      <td>0.577990</td>\n",
       "      <td>1</td>\n",
       "    </tr>\n",
       "  </tbody>\n",
       "</table>\n",
       "</div>"
      ],
      "text/plain": [
       "      time_stamp  value  flag   mrr_30s   mhr_30s  sdrr_30s  sdhr_30s  \\\n",
       "0  1569164462512      1    11  0.369403  0.561496  0.357458  0.290079   \n",
       "1  1569164465071      1    11  0.358028  0.569898  0.341373  0.247910   \n",
       "2  1569164466257      1    11  0.377661  0.549584  0.358769  0.264653   \n",
       "3  1569164467772      1    11  0.371055  0.572978  0.402266  0.372624   \n",
       "4  1569164469829      1    11  0.412344  0.522370  0.396878  0.374052   \n",
       "\n",
       "   cvrr_30s  rmsd_30s  prr20_30s  prr50_30s  reaction_time  \n",
       "0  0.272239  0.135309   0.479167   0.537799              1  \n",
       "1  0.258321  0.121904   0.489754   0.550318              1  \n",
       "2  0.269784  0.131907   0.414583   0.537799              0  \n",
       "3  0.325611  0.187001   0.479167   0.577990              0  \n",
       "4  0.298654  0.172982   0.479167   0.577990              1  "
      ]
     },
     "execution_count": 45,
     "metadata": {},
     "output_type": "execute_result"
    }
   ],
   "source": [
    "df = pd.read_csv(osp.join(folder_path,file_name))\n",
    "df.head()"
   ]
  },
  {
   "cell_type": "code",
   "execution_count": 46,
   "metadata": {},
   "outputs": [
    {
     "data": {
      "text/html": [
       "<div>\n",
       "<style scoped>\n",
       "    .dataframe tbody tr th:only-of-type {\n",
       "        vertical-align: middle;\n",
       "    }\n",
       "\n",
       "    .dataframe tbody tr th {\n",
       "        vertical-align: top;\n",
       "    }\n",
       "\n",
       "    .dataframe thead th {\n",
       "        text-align: right;\n",
       "    }\n",
       "</style>\n",
       "<table border=\"1\" class=\"dataframe\">\n",
       "  <thead>\n",
       "    <tr style=\"text-align: right;\">\n",
       "      <th></th>\n",
       "      <th>mrr_30s</th>\n",
       "      <th>mhr_30s</th>\n",
       "      <th>sdrr_30s</th>\n",
       "      <th>sdhr_30s</th>\n",
       "      <th>cvrr_30s</th>\n",
       "      <th>rmsd_30s</th>\n",
       "      <th>prr20_30s</th>\n",
       "      <th>prr50_30s</th>\n",
       "    </tr>\n",
       "  </thead>\n",
       "  <tbody>\n",
       "    <tr>\n",
       "      <th>0</th>\n",
       "      <td>0.369403</td>\n",
       "      <td>0.561496</td>\n",
       "      <td>0.357458</td>\n",
       "      <td>0.290079</td>\n",
       "      <td>0.272239</td>\n",
       "      <td>0.135309</td>\n",
       "      <td>0.479167</td>\n",
       "      <td>0.537799</td>\n",
       "    </tr>\n",
       "    <tr>\n",
       "      <th>1</th>\n",
       "      <td>0.358028</td>\n",
       "      <td>0.569898</td>\n",
       "      <td>0.341373</td>\n",
       "      <td>0.247910</td>\n",
       "      <td>0.258321</td>\n",
       "      <td>0.121904</td>\n",
       "      <td>0.489754</td>\n",
       "      <td>0.550318</td>\n",
       "    </tr>\n",
       "    <tr>\n",
       "      <th>2</th>\n",
       "      <td>0.377661</td>\n",
       "      <td>0.549584</td>\n",
       "      <td>0.358769</td>\n",
       "      <td>0.264653</td>\n",
       "      <td>0.269784</td>\n",
       "      <td>0.131907</td>\n",
       "      <td>0.414583</td>\n",
       "      <td>0.537799</td>\n",
       "    </tr>\n",
       "    <tr>\n",
       "      <th>3</th>\n",
       "      <td>0.371055</td>\n",
       "      <td>0.572978</td>\n",
       "      <td>0.402266</td>\n",
       "      <td>0.372624</td>\n",
       "      <td>0.325611</td>\n",
       "      <td>0.187001</td>\n",
       "      <td>0.479167</td>\n",
       "      <td>0.577990</td>\n",
       "    </tr>\n",
       "    <tr>\n",
       "      <th>4</th>\n",
       "      <td>0.412344</td>\n",
       "      <td>0.522370</td>\n",
       "      <td>0.396878</td>\n",
       "      <td>0.374052</td>\n",
       "      <td>0.298654</td>\n",
       "      <td>0.172982</td>\n",
       "      <td>0.479167</td>\n",
       "      <td>0.577990</td>\n",
       "    </tr>\n",
       "  </tbody>\n",
       "</table>\n",
       "</div>"
      ],
      "text/plain": [
       "    mrr_30s   mhr_30s  sdrr_30s  sdhr_30s  cvrr_30s  rmsd_30s  prr20_30s  \\\n",
       "0  0.369403  0.561496  0.357458  0.290079  0.272239  0.135309   0.479167   \n",
       "1  0.358028  0.569898  0.341373  0.247910  0.258321  0.121904   0.489754   \n",
       "2  0.377661  0.549584  0.358769  0.264653  0.269784  0.131907   0.414583   \n",
       "3  0.371055  0.572978  0.402266  0.372624  0.325611  0.187001   0.479167   \n",
       "4  0.412344  0.522370  0.396878  0.374052  0.298654  0.172982   0.479167   \n",
       "\n",
       "   prr50_30s  \n",
       "0   0.537799  \n",
       "1   0.550318  \n",
       "2   0.537799  \n",
       "3   0.577990  \n",
       "4   0.577990  "
      ]
     },
     "execution_count": 46,
     "metadata": {},
     "output_type": "execute_result"
    }
   ],
   "source": [
    "x_raw = df[var_names]\n",
    "x_raw.head()"
   ]
  },
  {
   "cell_type": "code",
   "execution_count": 47,
   "metadata": {},
   "outputs": [
    {
     "data": {
      "text/plain": [
       "0    1\n",
       "1    1\n",
       "2    0\n",
       "3    0\n",
       "4    1\n",
       "Name: reaction_time, dtype: int64"
      ]
     },
     "execution_count": 47,
     "metadata": {},
     "output_type": "execute_result"
    }
   ],
   "source": [
    "y_raw = df[label_name]\n",
    "y_raw.head()"
   ]
  },
  {
   "cell_type": "code",
   "execution_count": 48,
   "metadata": {},
   "outputs": [],
   "source": [
    "x_train, x_test, y_train, y_test = train_test_split(x_raw,y_raw, test_size=test_size, random_state=random_state)"
   ]
  },
  {
   "cell_type": "code",
   "execution_count": 49,
   "metadata": {},
   "outputs": [
    {
     "data": {
      "text/html": [
       "<div>\n",
       "<style scoped>\n",
       "    .dataframe tbody tr th:only-of-type {\n",
       "        vertical-align: middle;\n",
       "    }\n",
       "\n",
       "    .dataframe tbody tr th {\n",
       "        vertical-align: top;\n",
       "    }\n",
       "\n",
       "    .dataframe thead th {\n",
       "        text-align: right;\n",
       "    }\n",
       "</style>\n",
       "<table border=\"1\" class=\"dataframe\">\n",
       "  <thead>\n",
       "    <tr style=\"text-align: right;\">\n",
       "      <th></th>\n",
       "      <th>mrr_30s</th>\n",
       "      <th>mhr_30s</th>\n",
       "      <th>sdrr_30s</th>\n",
       "      <th>sdhr_30s</th>\n",
       "      <th>cvrr_30s</th>\n",
       "      <th>rmsd_30s</th>\n",
       "      <th>prr20_30s</th>\n",
       "      <th>prr50_30s</th>\n",
       "    </tr>\n",
       "  </thead>\n",
       "  <tbody>\n",
       "    <tr>\n",
       "      <th>34171</th>\n",
       "      <td>0.598520</td>\n",
       "      <td>0.345338</td>\n",
       "      <td>0.604054</td>\n",
       "      <td>0.632213</td>\n",
       "      <td>0.531779</td>\n",
       "      <td>0.679240</td>\n",
       "      <td>0.734300</td>\n",
       "      <td>0.810331</td>\n",
       "    </tr>\n",
       "    <tr>\n",
       "      <th>33875</th>\n",
       "      <td>0.581522</td>\n",
       "      <td>0.328703</td>\n",
       "      <td>0.392463</td>\n",
       "      <td>0.490537</td>\n",
       "      <td>0.372653</td>\n",
       "      <td>0.508106</td>\n",
       "      <td>0.739953</td>\n",
       "      <td>0.816788</td>\n",
       "    </tr>\n",
       "    <tr>\n",
       "      <th>34393</th>\n",
       "      <td>0.504529</td>\n",
       "      <td>0.443307</td>\n",
       "      <td>0.630373</td>\n",
       "      <td>0.779391</td>\n",
       "      <td>0.588246</td>\n",
       "      <td>0.494334</td>\n",
       "      <td>0.843972</td>\n",
       "      <td>0.594027</td>\n",
       "    </tr>\n",
       "    <tr>\n",
       "      <th>35749</th>\n",
       "      <td>0.165513</td>\n",
       "      <td>0.868198</td>\n",
       "      <td>0.557391</td>\n",
       "      <td>0.783707</td>\n",
       "      <td>0.700517</td>\n",
       "      <td>0.609734</td>\n",
       "      <td>0.821240</td>\n",
       "      <td>0.758486</td>\n",
       "    </tr>\n",
       "    <tr>\n",
       "      <th>1650</th>\n",
       "      <td>0.409422</td>\n",
       "      <td>0.666800</td>\n",
       "      <td>0.722609</td>\n",
       "      <td>0.728937</td>\n",
       "      <td>0.753738</td>\n",
       "      <td>0.596746</td>\n",
       "      <td>0.803145</td>\n",
       "      <td>0.624402</td>\n",
       "    </tr>\n",
       "  </tbody>\n",
       "</table>\n",
       "</div>"
      ],
      "text/plain": [
       "        mrr_30s   mhr_30s  sdrr_30s  sdhr_30s  cvrr_30s  rmsd_30s  prr20_30s  \\\n",
       "34171  0.598520  0.345338  0.604054  0.632213  0.531779  0.679240   0.734300   \n",
       "33875  0.581522  0.328703  0.392463  0.490537  0.372653  0.508106   0.739953   \n",
       "34393  0.504529  0.443307  0.630373  0.779391  0.588246  0.494334   0.843972   \n",
       "35749  0.165513  0.868198  0.557391  0.783707  0.700517  0.609734   0.821240   \n",
       "1650   0.409422  0.666800  0.722609  0.728937  0.753738  0.596746   0.803145   \n",
       "\n",
       "       prr50_30s  \n",
       "34171   0.810331  \n",
       "33875   0.816788  \n",
       "34393   0.594027  \n",
       "35749   0.758486  \n",
       "1650    0.624402  "
      ]
     },
     "execution_count": 49,
     "metadata": {},
     "output_type": "execute_result"
    }
   ],
   "source": [
    "x_train.head()"
   ]
  },
  {
   "cell_type": "code",
   "execution_count": 50,
   "metadata": {},
   "outputs": [
    {
     "data": {
      "text/plain": [
       "34171    1\n",
       "33875    2\n",
       "34393    0\n",
       "35749    0\n",
       "1650     1\n",
       "Name: reaction_time, dtype: int64"
      ]
     },
     "execution_count": 50,
     "metadata": {},
     "output_type": "execute_result"
    }
   ],
   "source": [
    "y_train.head()"
   ]
  },
  {
   "cell_type": "code",
   "execution_count": 51,
   "metadata": {},
   "outputs": [
    {
     "data": {
      "text/html": [
       "<div>\n",
       "<style scoped>\n",
       "    .dataframe tbody tr th:only-of-type {\n",
       "        vertical-align: middle;\n",
       "    }\n",
       "\n",
       "    .dataframe tbody tr th {\n",
       "        vertical-align: top;\n",
       "    }\n",
       "\n",
       "    .dataframe thead th {\n",
       "        text-align: right;\n",
       "    }\n",
       "</style>\n",
       "<table border=\"1\" class=\"dataframe\">\n",
       "  <thead>\n",
       "    <tr style=\"text-align: right;\">\n",
       "      <th></th>\n",
       "      <th>mrr_30s</th>\n",
       "      <th>mhr_30s</th>\n",
       "      <th>sdrr_30s</th>\n",
       "      <th>sdhr_30s</th>\n",
       "      <th>cvrr_30s</th>\n",
       "      <th>rmsd_30s</th>\n",
       "      <th>prr20_30s</th>\n",
       "      <th>prr50_30s</th>\n",
       "    </tr>\n",
       "  </thead>\n",
       "  <tbody>\n",
       "    <tr>\n",
       "      <th>1067</th>\n",
       "      <td>0.617649</td>\n",
       "      <td>0.405224</td>\n",
       "      <td>0.392600</td>\n",
       "      <td>0.573002</td>\n",
       "      <td>0.395477</td>\n",
       "      <td>0.194336</td>\n",
       "      <td>0.447025</td>\n",
       "      <td>0.439394</td>\n",
       "    </tr>\n",
       "    <tr>\n",
       "      <th>16169</th>\n",
       "      <td>0.294458</td>\n",
       "      <td>0.697849</td>\n",
       "      <td>0.467890</td>\n",
       "      <td>0.675078</td>\n",
       "      <td>0.577218</td>\n",
       "      <td>0.513988</td>\n",
       "      <td>0.602137</td>\n",
       "      <td>0.426335</td>\n",
       "    </tr>\n",
       "    <tr>\n",
       "      <th>21579</th>\n",
       "      <td>0.526531</td>\n",
       "      <td>0.471133</td>\n",
       "      <td>0.784228</td>\n",
       "      <td>0.791752</td>\n",
       "      <td>0.870543</td>\n",
       "      <td>0.532814</td>\n",
       "      <td>0.605455</td>\n",
       "      <td>0.657576</td>\n",
       "    </tr>\n",
       "    <tr>\n",
       "      <th>15936</th>\n",
       "      <td>0.811769</td>\n",
       "      <td>0.181544</td>\n",
       "      <td>0.847339</td>\n",
       "      <td>0.673437</td>\n",
       "      <td>0.625400</td>\n",
       "      <td>0.861938</td>\n",
       "      <td>0.797353</td>\n",
       "      <td>0.748428</td>\n",
       "    </tr>\n",
       "    <tr>\n",
       "      <th>33162</th>\n",
       "      <td>0.552970</td>\n",
       "      <td>0.372572</td>\n",
       "      <td>0.406598</td>\n",
       "      <td>0.473156</td>\n",
       "      <td>0.396572</td>\n",
       "      <td>0.450568</td>\n",
       "      <td>0.699650</td>\n",
       "      <td>0.496286</td>\n",
       "    </tr>\n",
       "  </tbody>\n",
       "</table>\n",
       "</div>"
      ],
      "text/plain": [
       "        mrr_30s   mhr_30s  sdrr_30s  sdhr_30s  cvrr_30s  rmsd_30s  prr20_30s  \\\n",
       "1067   0.617649  0.405224  0.392600  0.573002  0.395477  0.194336   0.447025   \n",
       "16169  0.294458  0.697849  0.467890  0.675078  0.577218  0.513988   0.602137   \n",
       "21579  0.526531  0.471133  0.784228  0.791752  0.870543  0.532814   0.605455   \n",
       "15936  0.811769  0.181544  0.847339  0.673437  0.625400  0.861938   0.797353   \n",
       "33162  0.552970  0.372572  0.406598  0.473156  0.396572  0.450568   0.699650   \n",
       "\n",
       "       prr50_30s  \n",
       "1067    0.439394  \n",
       "16169   0.426335  \n",
       "21579   0.657576  \n",
       "15936   0.748428  \n",
       "33162   0.496286  "
      ]
     },
     "execution_count": 51,
     "metadata": {},
     "output_type": "execute_result"
    }
   ],
   "source": [
    "x_test.head()"
   ]
  },
  {
   "cell_type": "code",
   "execution_count": 52,
   "metadata": {},
   "outputs": [
    {
     "data": {
      "text/plain": [
       "1067     0\n",
       "16169    1\n",
       "21579    1\n",
       "15936    2\n",
       "33162    0\n",
       "Name: reaction_time, dtype: int64"
      ]
     },
     "execution_count": 52,
     "metadata": {},
     "output_type": "execute_result"
    }
   ],
   "source": [
    "y_test.head()"
   ]
  },
  {
   "cell_type": "markdown",
   "metadata": {},
   "source": [
    "## save test and train data to csv"
   ]
  },
  {
   "cell_type": "code",
   "execution_count": 53,
   "metadata": {},
   "outputs": [],
   "source": [
    "x_train.to_csv(osp.join(folder_train,'x_train.csv'),index=False)\n",
    "y_train.to_csv(osp.join(folder_train,'y_train.csv'),index=False)\n",
    "x_test.to_csv(osp.join(folder_test,'x_test.csv'),index=False)\n",
    "y_test.to_csv(osp.join(folder_test,'y_test.csv'),index=False)"
   ]
  },
  {
   "cell_type": "markdown",
   "metadata": {},
   "source": [
    "## evaluation function"
   ]
  },
  {
   "cell_type": "code",
   "execution_count": 54,
   "metadata": {},
   "outputs": [],
   "source": [
    "from pprint import pprint"
   ]
  },
  {
   "cell_type": "code",
   "execution_count": 55,
   "metadata": {},
   "outputs": [],
   "source": [
    "from sklearn.metrics import r2_score, accuracy_score\n",
    "import numpy as np\n",
    "\n",
    "def evaluate(y_true, y_predict, complete=False):\n",
    "    accuracy = accuracy_score(y_true, y_predict)\n",
    "    if complete:\n",
    "        n = len(y_true)\n",
    "        errors = abs(y_predict - y_true)\n",
    "        mean_absolute_error = sum(errors) / n\n",
    "        mean_squared_error = sum(np.power(errors,2)) / n\n",
    "        root_mean_squared_error = np.sqrt(mean_squared_error)\n",
    "        mean_absolute_percentage_error = sum(errors / y_true) / n\n",
    "        accuracy_mape =  1 - mean_absolute_percentage_error\n",
    "        r_square = r2_score(y_true, y_predict)\n",
    "\n",
    "        return {\n",
    "            'mean_absolute_error': mean_absolute_error,\n",
    "            'mean_squared_error': mean_squared_error,\n",
    "            'root_mean_squared_error': root_mean_squared_error,\n",
    "            'mean_absolute_percentage_error': mean_absolute_percentage_error,\n",
    "            'accuracy mape': accuracy_mape,\n",
    "            'accuracy': accuracy,\n",
    "            'r_square': r_square\n",
    "        }\n",
    "    else:\n",
    "        return {\n",
    "            'accuracy': accuracy,\n",
    "        }"
   ]
  },
  {
   "cell_type": "code",
   "execution_count": 56,
   "metadata": {},
   "outputs": [],
   "source": [
    "from sklearn.svm import SVC\n",
    "# svc = SVC(kernel='rbf', decision_function_shape='ovo', random_state=random_state)\n",
    "# svc.fit(x_train, y_train)\n",
    "# y_predict = svc.predict(x_test)\n",
    "# accuracy = evaluate(y_test, y_predict)\n",
    "# pprint(accuracy)"
   ]
  },
  {
   "cell_type": "code",
   "execution_count": 57,
   "metadata": {},
   "outputs": [],
   "source": [
    "from sklearn.neighbors import KNeighborsClassifier\n",
    "# knn = KNeighborsClassifier(n_neighbors=10)\n",
    "# knn.fit(x_train, y_train)\n",
    "# y_predict = knn.predict(x_test)\n",
    "# accuracy = evaluate(y_test, y_predict)\n",
    "# pprint(accuracy)"
   ]
  },
  {
   "cell_type": "code",
   "execution_count": 58,
   "metadata": {},
   "outputs": [],
   "source": [
    "from sklearn.neural_network import MLPClassifier\n",
    "# ann = MLPClassifier(solver='adam', hidden_layer_sizes=(20, 20), activation='relu', random_state=random_state, max_iter=2000)\n",
    "# ann.fit(x_train, y_train)\n",
    "# y_predict = ann.predict(x_test)\n",
    "# accuracy = evaluate(y_test, y_predict)\n",
    "# pprint(accuracy)"
   ]
  },
  {
   "cell_type": "markdown",
   "metadata": {},
   "source": [
    "## grid search"
   ]
  },
  {
   "cell_type": "code",
   "execution_count": 59,
   "metadata": {},
   "outputs": [],
   "source": [
    "from sklearn.model_selection import GridSearchCV"
   ]
  },
  {
   "cell_type": "code",
   "execution_count": 60,
   "metadata": {},
   "outputs": [],
   "source": [
    "# # Create the parameter grid based on the results of random search \n",
    "# param_grid_svc = {\n",
    "#     'decision_function_shape': ['ovo', 'ovr'],\n",
    "#     'kernel': ['linear', 'poly', 'rbf'],\n",
    "#     'degree': [3],\n",
    "#     'gamma': ['scale'],\n",
    "#     'probability'=[True]\n",
    "# }\n",
    "# svc = SVC()\n",
    "\n",
    "# # Instantiate the grid search model\n",
    "# grid_svc = GridSearchCV(estimator = svc, param_grid = param_grid_svc, cv = 5, n_jobs = -1)\n",
    "\n",
    "# # Fit the grid search to the data\n",
    "# grid_svc.fit(x_train, y_train)\n",
    "# svc_best_params = grid_svc.best_params_\n",
    "# pprint(svc_best_params)\n",
    "\n",
    "# svc = SVC(**svc_best_params, random_state=random_state)\n",
    "# svc.fit(x_train, y_train)\n",
    "# y_predict = svc.predict(x_test)\n",
    "# accuracy = evaluate(y_test, y_predict)\n",
    "# pprint(accuracy)\n",
    "\n",
    "# # # result\n",
    "# # {'decision_function_shape': 'ovo',\n",
    "# #  'degree': 3,\n",
    "# #  'gamma': 'scale',\n",
    "# #  'kernel': 'linear'}\n",
    "# # {'accuracy': 0.49007444168734493}\n",
    "svc_best_params = {\n",
    "    'decision_function_shape': 'ovo',\n",
    "    'degree': 3,\n",
    "    'gamma': 'scale',\n",
    "    'kernel': 'linear',\n",
    "    'probability':True\n",
    "}\n",
    "svc = SVC(**svc_best_params, random_state=random_state)"
   ]
  },
  {
   "cell_type": "code",
   "execution_count": 61,
   "metadata": {},
   "outputs": [],
   "source": [
    "# # Create the parameter grid based on the results of random search \n",
    "# param_grid_knn = {\n",
    "#     'n_neighbors': [3, 15, 27, 39, 51, 63, 75, 87, 99]\n",
    "# }\n",
    "\n",
    "# knn = KNeighborsClassifier()\n",
    "# # Instantiate the grid search model\n",
    "# grid_knn = GridSearchCV(estimator = knn, param_grid = param_grid_knn, cv = 5, n_jobs = -1)\n",
    "\n",
    "# # Fit the grid search to the data\n",
    "# grid_knn.fit(x_train, y_train)\n",
    "# knn_best_params = grid_knn.best_params_\n",
    "# pprint(knn_best_params)\n",
    "\n",
    "# knn = KNeighborsClassifier(**knn_best_params)\n",
    "# knn.fit(x_train, y_train)\n",
    "# y_predict = knn.predict(x_test)\n",
    "# accuracy = evaluate(y_test, y_predict)\n",
    "# pprint(accuracy)\n",
    "\n",
    "# # # result\n",
    "# # {'n_neighbors': 51}\n",
    "# # {'accuracy': 0.4987593052109181}\n",
    "\n",
    "knn_best_params = {\n",
    "    'n_neighbors': 51\n",
    "}\n",
    "knn = KNeighborsClassifier(**knn_best_params)"
   ]
  },
  {
   "cell_type": "code",
   "execution_count": 62,
   "metadata": {},
   "outputs": [],
   "source": [
    "# # Create the parameter grid based on the results of random search \n",
    "# param_grid_ann = {\n",
    "#     'solver': ['lbfgs', 'sgd', 'adam'],\n",
    "#     'activation': ['identity', 'logistic', 'tanh', 'relu'],\n",
    "#     'hidden_layer_sizes': [(10, 10), (20, 20), (20, 10), (10, 20)],\n",
    "#     'max_iter': [2000] \n",
    "# }\n",
    "# ann = MLPClassifier()\n",
    "\n",
    "# # Instantiate the grid search model\n",
    "# grid_ann = GridSearchCV(estimator = ann, param_grid = param_grid_ann, cv = 5, n_jobs = -1, error_score=0)\n",
    "\n",
    "# # Fit the grid search to the data\n",
    "# grid_ann.fit(x_train, y_train)\n",
    "# ann_best_params = grid_ann.best_params_\n",
    "# pprint(ann_best_params)\n",
    "\n",
    "# ann = MLPClassifier(**ann_best_params, random_state=random_state)\n",
    "# ann.fit(x_train, y_train)\n",
    "# y_predict = ann.predict(x_test)\n",
    "# accuracy = evaluate(y_test, y_predict)\n",
    "# pprint(accuracy)\n",
    "\n",
    "# # # result\n",
    "# # {'activation': 'relu',\n",
    "# #  'hidden_layer_sizes': (10, 20),\n",
    "# #  'max_iter': 2000,\n",
    "# #  'solver': 'adam'}\n",
    "# # {'accuracy': 0.5}\n",
    "\n",
    "ann_best_params = {\n",
    "    'activation': 'relu',\n",
    "    'hidden_layer_sizes': (10, 20),\n",
    "    'max_iter': 2000,\n",
    "    'solver': 'adam'\n",
    "}\n",
    "ann = MLPClassifier(**ann_best_params, random_state=random_state)"
   ]
  },
  {
   "cell_type": "markdown",
   "metadata": {},
   "source": [
    "## ensemble vs individual"
   ]
  },
  {
   "cell_type": "code",
   "execution_count": 63,
   "metadata": {},
   "outputs": [],
   "source": [
    "from sklearn.ensemble import VotingClassifier"
   ]
  },
  {
   "cell_type": "code",
   "execution_count": 64,
   "metadata": {},
   "outputs": [],
   "source": [
    "# ensemble_hard = VotingClassifier(estimators=[('svc', svc), ('knn', knn), ('ann', ann)], voting='hard')\n",
    "# ensemble_hard.fit(x_train, y_train)\n",
    "# y_predict = ensemble_hard.predict(x_test)\n",
    "# accuracy = evaluate(y_test, y_predict)\n",
    "# pprint(accuracy)"
   ]
  },
  {
   "cell_type": "code",
   "execution_count": 65,
   "metadata": {},
   "outputs": [
    {
     "name": "stdout",
     "output_type": "stream",
     "text": [
      "{'accuracy': 0.6451227604512276}\n"
     ]
    }
   ],
   "source": [
    "ensemble_soft = VotingClassifier(estimators=[('svc', svc), ('knn', knn), ('ann', ann)], voting='soft')\n",
    "ensemble_soft.fit(x_train, y_train)\n",
    "y_predict = ensemble_soft.predict(x_test)\n",
    "accuracy = evaluate(y_test, y_predict)\n",
    "pprint(accuracy)"
   ]
  },
  {
   "cell_type": "code",
   "execution_count": 66,
   "metadata": {},
   "outputs": [],
   "source": [
    "# svc.fit(x_train, y_train)\n",
    "# y_predict = svc.predict(x_test)\n",
    "# accuracy = evaluate(y_test, y_predict)\n",
    "# pprint(accuracy)\n",
    "\n",
    "# knn.fit(x_train, y_train)\n",
    "# y_predict = knn.predict(x_test)\n",
    "# accuracy = evaluate(y_test, y_predict)\n",
    "# pprint(accuracy)\n",
    "\n",
    "# ann.fit(x_train, y_train)\n",
    "# y_predict = ann.predict(x_test)\n",
    "# accuracy = evaluate(y_test, y_predict)\n",
    "# pprint(accuracy)"
   ]
  },
  {
   "cell_type": "markdown",
   "metadata": {},
   "source": [
    "## confusion matrix"
   ]
  },
  {
   "cell_type": "code",
   "execution_count": 67,
   "metadata": {},
   "outputs": [],
   "source": [
    "import matplotlib.pyplot as plt\n",
    "from sklearn.metrics import plot_confusion_matrix"
   ]
  },
  {
   "cell_type": "code",
   "execution_count": 68,
   "metadata": {},
   "outputs": [],
   "source": [
    "# plot_confusion_matrix(ensemble_hard, x_test, y_test)  # doctest: +SKIP\n",
    "# plt.show()  # doctest: +SKIP"
   ]
  },
  {
   "cell_type": "code",
   "execution_count": 69,
   "metadata": {},
   "outputs": [
    {
     "data": {
      "image/png": "[encoded data removed]",
      "text/plain": [
       "<Figure size 432x288 with 2 Axes>"
      ]
     },
     "metadata": {
      "needs_background": "light"
     },
     "output_type": "display_data"
    }
   ],
   "source": [
    "plot_confusion_matrix(ensemble_soft, x_test, y_test)  # doctest: +SKIP\n",
    "plt.show()  # doctest: +SKIP"
   ]
  },
  {
   "cell_type": "code",
   "execution_count": 70,
   "metadata": {},
   "outputs": [],
   "source": [
    "# plot_confusion_matrix(svc, x_test, y_test)  # doctest: +SKIP\n",
    "# plt.show()  # doctest: +SKIP"
   ]
  },
  {
   "cell_type": "code",
   "execution_count": 71,
   "metadata": {},
   "outputs": [],
   "source": [
    "# plot_confusion_matrix(knn, x_test, y_test)  # doctest: +SKIP\n",
    "# plt.show()  # doctest: +SKIP"
   ]
  },
  {
   "cell_type": "code",
   "execution_count": 72,
   "metadata": {},
   "outputs": [],
   "source": [
    "# plot_confusion_matrix(ann, x_test, y_test)  # doctest: +SKIP\n",
    "# plt.show()  # doctest: +SKIP"
   ]
  },
  {
   "cell_type": "markdown",
   "metadata": {},
   "source": [
    "## itterate variable (finding best variables to be used)"
   ]
  },
  {
   "cell_type": "code",
   "execution_count": 73,
   "metadata": {},
   "outputs": [],
   "source": [
    "# def combinations(target,data):\n",
    "#     for i in range(len(data)):\n",
    "#         yield [*target, data[i]]\n",
    "#         yield from combinations([*target, data[i]], data[i+1:])"
   ]
  },
  {
   "cell_type": "code",
   "execution_count": 74,
   "metadata": {},
   "outputs": [],
   "source": [
    "# label_name = 'reaction_time'\n",
    "# case_names = combinations([],var_names)\n",
    "# case_names = [case_name for case_name in case_names]"
   ]
  },
  {
   "cell_type": "code",
   "execution_count": 75,
   "metadata": {},
   "outputs": [],
   "source": [
    "# wrapper_svc = {}\n",
    "# for case_name in case_names:\n",
    "#     x_train_temp = x_train[case_name]\n",
    "#     x_test_temp = x_test[case_name]\n",
    "#     svc = SVC(**svc_best_params, random_state=random_state)\n",
    "#     svc.fit(x_train_temp, y_train)\n",
    "#     y_predict = svc.predict(x_test_temp)\n",
    "#     accuracy = evaluate(y_test, y_predict)   \n",
    "#     wrapper_svc[str(case_name)] = accuracy\n",
    "#     print(f\"{case_name}: {accuracy}\")\n",
    "    \n",
    "# df_wrapper_svc = pd.DataFrame.from_dict(wrapper_svc, orient='index')\n",
    "# df_wrapper_svc.to_csv(os.path.join(folder_result,'svc.csv'),index=True) "
   ]
  },
  {
   "cell_type": "code",
   "execution_count": 76,
   "metadata": {},
   "outputs": [],
   "source": [
    "# wrapper_knn = {}\n",
    "# for case_name in case_names:\n",
    "#     x_train_temp = x_train[case_name]\n",
    "#     x_test_temp = x_test[case_name]\n",
    "#     knn = KNeighborsClassifier(**knn_best_params)\n",
    "#     knn.fit(x_train_temp, y_train)\n",
    "#     y_predict = knn.predict(x_test_temp)\n",
    "#     accuracy = evaluate(y_test, y_predict)   \n",
    "#     wrapper_knn[str(case_name)] = accuracy\n",
    "#     print(f\"{case_name}: {accuracy}\")\n",
    "    \n",
    "# df_wrapper_knn = pd.DataFrame.from_dict(wrapper_knn, orient='index')\n",
    "# df_wrapper_knn.to_csv(os.path.join(folder_result,'knn.csv'),index=True)"
   ]
  },
  {
   "cell_type": "code",
   "execution_count": 77,
   "metadata": {},
   "outputs": [],
   "source": [
    "# wrapper_ann = {}\n",
    "# for case_name in case_names:\n",
    "#     x_train_temp = x_train[case_name]\n",
    "#     x_test_temp = x_test[case_name]\n",
    "#     ann = MLPClassifier(**ann_best_params, random_state=random_state)\n",
    "#     ann.fit(x_train_temp, y_train)\n",
    "#     y_predict = ann.predict(x_test_temp)\n",
    "#     accuracy = evaluate(y_test, y_predict)   \n",
    "#     wrapper_ann[str(case_name)] = accuracy\n",
    "#     print(f\"{case_name}: {accuracy}\")\n",
    "\n",
    "# df_wrapper_ann = pd.DataFrame.from_dict(wrapper_ann, orient='index')\n",
    "# df_wrapper_ann.to_csv(os.path.join(folder_result,'ann.csv'),index=True) "
   ]
  },
  {
   "cell_type": "code",
   "execution_count": 78,
   "metadata": {},
   "outputs": [],
   "source": [
    "# wrapper_ensemble_hard = {}\n",
    "# for case_name in case_names:\n",
    "#     x_train_temp = x_train[case_name]\n",
    "#     x_test_temp = x_test[case_name]\n",
    "#     ensemble_hard = VotingClassifier(estimators=[('svc',svc),('knn',knn),('ann',ann)], voting='hard', n_jobs=-1)\n",
    "#     ensemble_hard.fit(x_train_temp, y_train)\n",
    "#     y_predict = ensemble_hard.predict(x_test_temp)\n",
    "#     accuracy = evaluate(y_test, y_predict)    \n",
    "#     wrapper_ensemble_hard[str(case_name)] = accuracy\n",
    "#     print(f\"{case_name}: {accuracy}\")\n",
    "\n",
    "# df_wrapper_ensemble_hard = pd.DataFrame.from_dict(wrapper_ensemble_hard, orient='index')\n",
    "# df_wrapper_ensemble_hard.to_csv(os.path.join(folder_path,'ensemble_hard.csv'),index=True) "
   ]
  },
  {
   "cell_type": "code",
   "execution_count": 79,
   "metadata": {},
   "outputs": [],
   "source": [
    "# wrapper_ensemble_soft = {}\n",
    "# for case_name in case_names:\n",
    "#     x_train_temp = x_train[case_name]\n",
    "#     x_test_temp = x_test[case_name]\n",
    "#     ensemble_soft = VotingClassifier(estimators=[('svc', svc),('knn',knn),('ann',ann)], voting='soft', n_jobs=-1)\n",
    "#     ensemble_soft.fit(x_train_temp, y_train)\n",
    "#     y_predict = ensemble_soft.predict(x_test_temp)\n",
    "#     accuracy = evaluate(y_test, y_predict)    \n",
    "#     wrapper_ensemble_soft[str(case_name)] = accuracy\n",
    "#     print(f\"{case_name}: {accuracy}\")\n",
    "\n",
    "# df_wrapper_ensemble_soft = pd.DataFrame.from_dict(wrapper_ensemble_soft, orient='index')\n",
    "# df_wrapper_ensemble_soft.to_csv(os.path.join(folder_path,'ensemble_soft.csv'),index=True) "
   ]
  },
  {
   "cell_type": "markdown",
   "metadata": {},
   "source": [
    "# HRV-Stress_machine-learning"
   ]
  },
  {
   "cell_type": "markdown",
   "metadata": {},
   "source": [
    "### mode: jenks, four groups, all variables, 30s hrv window\n",
    "\n",
    "```python\n",
    "random_state = 0 # for reproducibility\n",
    "test_size = 0.2 # 20% data as test data\n",
    "\n",
    "file_name = 'jenks_reaction_time_penalized_minmax.csv'\n",
    "var_30_names = ['mrr_30s', 'mhr_30s', 'sdrr_30s', 'sdhr_30s', 'cvrr_30s', 'rmsd_30s', 'prr20_30s', 'prr50_30s']\n",
    "label_name = 'reaction_time'\n",
    "```"
   ]
  },
  {
   "cell_type": "markdown",
   "metadata": {},
   "source": [
    "## imbalance corection and split"
   ]
  },
  {
   "cell_type": "code",
   "execution_count": 81,
   "metadata": {},
   "outputs": [],
   "source": [
    "from sklearn.model_selection import train_test_split\n",
    "import pandas as pd\n",
    "import os.path as osp\n",
    "import os\n",
    "from collections import Counter\n",
    "from imblearn.combine import SMOTETomek\n",
    "from imblearn.under_sampling import ClusterCentroids "
   ]
  },
  {
   "cell_type": "code",
   "execution_count": 82,
   "metadata": {},
   "outputs": [],
   "source": [
    "random_state = 0 # for reproducibility\n",
    "test_size = 0.2 # 20% data as test data"
   ]
  },
  {
   "cell_type": "code",
   "execution_count": 83,
   "metadata": {},
   "outputs": [],
   "source": [
    "folder_path = 'data/collective'\n",
    "file_name = 'jenks_reaction_time_penalized_minmax.csv'\n",
    "folder_train = osp.join('data',file_name[:-4],'train')\n",
    "folder_test = osp.join('data',file_name[:-4],'train')\n",
    "folder_result = osp.join('data',file_name[:-4],'result')\n",
    "for f in [folder_train, folder_test, folder_result]:\n",
    "    if not osp.exists(f):\n",
    "        os.makedirs(f)\n",
    "var_names = ['mrr_30s', 'mhr_30s', 'sdrr_30s', 'sdhr_30s', 'cvrr_30s', 'rmsd_30s', 'prr20_30s', 'prr50_30s']\n",
    "label_name = 'reaction_time'"
   ]
  },
  {
   "cell_type": "code",
   "execution_count": 84,
   "metadata": {},
   "outputs": [],
   "source": [
    "df = pd.read_csv(osp.join(folder_path,file_name))"
   ]
  },
  {
   "cell_type": "code",
   "execution_count": 85,
   "metadata": {},
   "outputs": [
    {
     "data": {
      "text/html": [
       "<div>\n",
       "<style scoped>\n",
       "    .dataframe tbody tr th:only-of-type {\n",
       "        vertical-align: middle;\n",
       "    }\n",
       "\n",
       "    .dataframe tbody tr th {\n",
       "        vertical-align: top;\n",
       "    }\n",
       "\n",
       "    .dataframe thead th {\n",
       "        text-align: right;\n",
       "    }\n",
       "</style>\n",
       "<table border=\"1\" class=\"dataframe\">\n",
       "  <thead>\n",
       "    <tr style=\"text-align: right;\">\n",
       "      <th></th>\n",
       "      <th>mrr_30s</th>\n",
       "      <th>mhr_30s</th>\n",
       "      <th>sdrr_30s</th>\n",
       "      <th>sdhr_30s</th>\n",
       "      <th>cvrr_30s</th>\n",
       "      <th>rmsd_30s</th>\n",
       "      <th>prr20_30s</th>\n",
       "      <th>prr50_30s</th>\n",
       "    </tr>\n",
       "  </thead>\n",
       "  <tbody>\n",
       "    <tr>\n",
       "      <th>0</th>\n",
       "      <td>0.369403</td>\n",
       "      <td>0.561496</td>\n",
       "      <td>0.357458</td>\n",
       "      <td>0.290079</td>\n",
       "      <td>0.272239</td>\n",
       "      <td>0.135309</td>\n",
       "      <td>0.479167</td>\n",
       "      <td>0.537799</td>\n",
       "    </tr>\n",
       "    <tr>\n",
       "      <th>1</th>\n",
       "      <td>0.358028</td>\n",
       "      <td>0.569898</td>\n",
       "      <td>0.341373</td>\n",
       "      <td>0.247910</td>\n",
       "      <td>0.258321</td>\n",
       "      <td>0.121904</td>\n",
       "      <td>0.489754</td>\n",
       "      <td>0.550318</td>\n",
       "    </tr>\n",
       "    <tr>\n",
       "      <th>2</th>\n",
       "      <td>0.377661</td>\n",
       "      <td>0.549584</td>\n",
       "      <td>0.358769</td>\n",
       "      <td>0.264653</td>\n",
       "      <td>0.269784</td>\n",
       "      <td>0.131907</td>\n",
       "      <td>0.414583</td>\n",
       "      <td>0.537799</td>\n",
       "    </tr>\n",
       "    <tr>\n",
       "      <th>3</th>\n",
       "      <td>0.371055</td>\n",
       "      <td>0.572978</td>\n",
       "      <td>0.402266</td>\n",
       "      <td>0.372624</td>\n",
       "      <td>0.325611</td>\n",
       "      <td>0.187001</td>\n",
       "      <td>0.479167</td>\n",
       "      <td>0.577990</td>\n",
       "    </tr>\n",
       "    <tr>\n",
       "      <th>4</th>\n",
       "      <td>0.412344</td>\n",
       "      <td>0.522370</td>\n",
       "      <td>0.396878</td>\n",
       "      <td>0.374052</td>\n",
       "      <td>0.298654</td>\n",
       "      <td>0.172982</td>\n",
       "      <td>0.479167</td>\n",
       "      <td>0.577990</td>\n",
       "    </tr>\n",
       "  </tbody>\n",
       "</table>\n",
       "</div>"
      ],
      "text/plain": [
       "    mrr_30s   mhr_30s  sdrr_30s  sdhr_30s  cvrr_30s  rmsd_30s  prr20_30s  \\\n",
       "0  0.369403  0.561496  0.357458  0.290079  0.272239  0.135309   0.479167   \n",
       "1  0.358028  0.569898  0.341373  0.247910  0.258321  0.121904   0.489754   \n",
       "2  0.377661  0.549584  0.358769  0.264653  0.269784  0.131907   0.414583   \n",
       "3  0.371055  0.572978  0.402266  0.372624  0.325611  0.187001   0.479167   \n",
       "4  0.412344  0.522370  0.396878  0.374052  0.298654  0.172982   0.479167   \n",
       "\n",
       "   prr50_30s  \n",
       "0   0.537799  \n",
       "1   0.550318  \n",
       "2   0.537799  \n",
       "3   0.577990  \n",
       "4   0.577990  "
      ]
     },
     "execution_count": 85,
     "metadata": {},
     "output_type": "execute_result"
    }
   ],
   "source": [
    "x_raw = df[var_names]\n",
    "x_raw.head()"
   ]
  },
  {
   "cell_type": "code",
   "execution_count": 86,
   "metadata": {},
   "outputs": [
    {
     "data": {
      "text/plain": [
       "0    1\n",
       "1    1\n",
       "2    0\n",
       "3    0\n",
       "4    1\n",
       "Name: reaction_time, dtype: int64"
      ]
     },
     "execution_count": 86,
     "metadata": {},
     "output_type": "execute_result"
    }
   ],
   "source": [
    "y_raw = df[label_name]\n",
    "y_raw.head()"
   ]
  },
  {
   "cell_type": "markdown",
   "metadata": {},
   "source": [
    "### mode: Oversampling SMOTETomek\n",
    "\n",
    "```python\n",
    "sampling = 'SMOTETomek'\n",
    "```"
   ]
  },
  {
   "cell_type": "code",
   "execution_count": 88,
   "metadata": {},
   "outputs": [
    {
     "name": "stdout",
     "output_type": "stream",
     "text": [
      "Original dataset shape Counter({0: 23999, 1: 9595, 2: 3287, 3: 793})\n",
      "Resampled dataset shape Counter({3: 23969, 2: 23771, 1: 23012, 0: 23006})\n",
      "Resampled dataset shape after minmax filter Counter({3: 23940, 2: 23763, 1: 23007, 0: 22987})\n"
     ]
    }
   ],
   "source": [
    "print('Original dataset shape %s' % Counter(y_raw))\n",
    "\n",
    "sampling = 'SMOTETomek'\n",
    "\n",
    "if sampling == 'ClusterCentroids':\n",
    "    # under sampling\n",
    "    cc = ClusterCentroids(sampling_strategy='not minority', random_state=random_state, voting='hard')\n",
    "    x_res, y_res = cc.fit_resample(x_raw, y_raw)\n",
    "elif sampling == 'SMOTETomek':\n",
    "    # over sampling\n",
    "    smt = SMOTETomek(random_state=random_state)\n",
    "    x_res, y_res = smt.fit_resample(x_raw, y_raw)\n",
    "\n",
    "print('Resampled dataset shape %s' % Counter(y_res))\n",
    "\n",
    "# drop value outside scaler minmax range\n",
    "x_res[label_name]=y_res\n",
    "for var_name in var_names:\n",
    "    x_res.drop(x_res[x_res[var_name] < 0].index, inplace = True)\n",
    "    x_res.drop(x_res[x_res[var_name] > 1].index, inplace = True)\n",
    "\n",
    "y_res = x_res[label_name]\n",
    "x_res.drop(label_name, axis=1, inplace=True) \n",
    "print('Resampled dataset shape after minmax filter %s' % Counter(y_res))"
   ]
  },
  {
   "cell_type": "code",
   "execution_count": 89,
   "metadata": {},
   "outputs": [
    {
     "data": {
      "text/html": [
       "<div>\n",
       "<style scoped>\n",
       "    .dataframe tbody tr th:only-of-type {\n",
       "        vertical-align: middle;\n",
       "    }\n",
       "\n",
       "    .dataframe tbody tr th {\n",
       "        vertical-align: top;\n",
       "    }\n",
       "\n",
       "    .dataframe thead th {\n",
       "        text-align: right;\n",
       "    }\n",
       "</style>\n",
       "<table border=\"1\" class=\"dataframe\">\n",
       "  <thead>\n",
       "    <tr style=\"text-align: right;\">\n",
       "      <th></th>\n",
       "      <th>mrr_30s</th>\n",
       "      <th>mhr_30s</th>\n",
       "      <th>sdrr_30s</th>\n",
       "      <th>sdhr_30s</th>\n",
       "      <th>cvrr_30s</th>\n",
       "      <th>rmsd_30s</th>\n",
       "      <th>prr20_30s</th>\n",
       "      <th>prr50_30s</th>\n",
       "    </tr>\n",
       "  </thead>\n",
       "  <tbody>\n",
       "    <tr>\n",
       "      <th>0</th>\n",
       "      <td>0.369403</td>\n",
       "      <td>0.561496</td>\n",
       "      <td>0.357458</td>\n",
       "      <td>0.290079</td>\n",
       "      <td>0.272239</td>\n",
       "      <td>0.135309</td>\n",
       "      <td>0.479167</td>\n",
       "      <td>0.537799</td>\n",
       "    </tr>\n",
       "    <tr>\n",
       "      <th>1</th>\n",
       "      <td>0.358028</td>\n",
       "      <td>0.569898</td>\n",
       "      <td>0.341373</td>\n",
       "      <td>0.247910</td>\n",
       "      <td>0.258321</td>\n",
       "      <td>0.121904</td>\n",
       "      <td>0.489754</td>\n",
       "      <td>0.550318</td>\n",
       "    </tr>\n",
       "    <tr>\n",
       "      <th>2</th>\n",
       "      <td>0.377661</td>\n",
       "      <td>0.549584</td>\n",
       "      <td>0.358769</td>\n",
       "      <td>0.264653</td>\n",
       "      <td>0.269784</td>\n",
       "      <td>0.131907</td>\n",
       "      <td>0.414583</td>\n",
       "      <td>0.537799</td>\n",
       "    </tr>\n",
       "    <tr>\n",
       "      <th>3</th>\n",
       "      <td>0.371055</td>\n",
       "      <td>0.572978</td>\n",
       "      <td>0.402266</td>\n",
       "      <td>0.372624</td>\n",
       "      <td>0.325611</td>\n",
       "      <td>0.187001</td>\n",
       "      <td>0.479167</td>\n",
       "      <td>0.577990</td>\n",
       "    </tr>\n",
       "    <tr>\n",
       "      <th>4</th>\n",
       "      <td>0.412344</td>\n",
       "      <td>0.522370</td>\n",
       "      <td>0.396878</td>\n",
       "      <td>0.374052</td>\n",
       "      <td>0.298654</td>\n",
       "      <td>0.172982</td>\n",
       "      <td>0.479167</td>\n",
       "      <td>0.577990</td>\n",
       "    </tr>\n",
       "  </tbody>\n",
       "</table>\n",
       "</div>"
      ],
      "text/plain": [
       "    mrr_30s   mhr_30s  sdrr_30s  sdhr_30s  cvrr_30s  rmsd_30s  prr20_30s  \\\n",
       "0  0.369403  0.561496  0.357458  0.290079  0.272239  0.135309   0.479167   \n",
       "1  0.358028  0.569898  0.341373  0.247910  0.258321  0.121904   0.489754   \n",
       "2  0.377661  0.549584  0.358769  0.264653  0.269784  0.131907   0.414583   \n",
       "3  0.371055  0.572978  0.402266  0.372624  0.325611  0.187001   0.479167   \n",
       "4  0.412344  0.522370  0.396878  0.374052  0.298654  0.172982   0.479167   \n",
       "\n",
       "   prr50_30s  \n",
       "0   0.537799  \n",
       "1   0.550318  \n",
       "2   0.537799  \n",
       "3   0.577990  \n",
       "4   0.577990  "
      ]
     },
     "execution_count": 89,
     "metadata": {},
     "output_type": "execute_result"
    }
   ],
   "source": [
    "x_res.head()"
   ]
  },
  {
   "cell_type": "code",
   "execution_count": 90,
   "metadata": {},
   "outputs": [],
   "source": [
    "x_train, x_test, y_train, y_test = train_test_split(x_res,y_res, test_size=test_size, random_state=random_state)\n",
    "x_train.to_csv(osp.join(folder_train,'x_train_cc_res.csv'),index=False)\n",
    "y_train.to_csv(osp.join(folder_train,'y_train_cc_res.csv'),index=False)\n",
    "x_test.to_csv(osp.join(folder_test,'x_test_cc_res.csv'),index=False)\n",
    "y_test.to_csv(osp.join(folder_test,'y_test_cc_res.csv'),index=False)"
   ]
  },
  {
   "cell_type": "markdown",
   "metadata": {},
   "source": [
    "## evaluation function"
   ]
  },
  {
   "cell_type": "code",
   "execution_count": 91,
   "metadata": {},
   "outputs": [],
   "source": [
    "# from pprint import pprint"
   ]
  },
  {
   "cell_type": "code",
   "execution_count": 92,
   "metadata": {},
   "outputs": [],
   "source": [
    "# from sklearn.metrics import r2_score, accuracy_score\n",
    "# import numpy as np\n",
    "\n",
    "# def evaluate(y_true, y_predict, complete=False):\n",
    "#     accuracy = accuracy_score(y_true, y_predict)\n",
    "#     if complete:\n",
    "#         n = len(y_true)\n",
    "#         errors = abs(y_predict - y_true)\n",
    "#         mean_absolute_error = sum(errors) / n\n",
    "#         mean_squared_error = sum(np.power(errors,2)) / n\n",
    "#         root_mean_squared_error = np.sqrt(mean_squared_error)\n",
    "#         mean_absolute_percentage_error = sum(errors / y_true) / n\n",
    "#         accuracy_mape =  1 - mean_absolute_percentage_error\n",
    "#         r_square = r2_score(y_true, y_predict)\n",
    "\n",
    "#         return {\n",
    "#             'mean_absolute_error': mean_absolute_error,\n",
    "#             'mean_squared_error': mean_squared_error,\n",
    "#             'root_mean_squared_error': root_mean_squared_error,\n",
    "#             'mean_absolute_percentage_error': mean_absolute_percentage_error,\n",
    "#             'accuracy mape': accuracy_mape,\n",
    "#             'accuracy': accuracy,\n",
    "#             'r_square': r_square\n",
    "#         }\n",
    "#     else:\n",
    "#         return {\n",
    "#             'accuracy': accuracy,\n",
    "#         }"
   ]
  },
  {
   "cell_type": "code",
   "execution_count": 93,
   "metadata": {},
   "outputs": [],
   "source": [
    "from sklearn.svm import SVC\n",
    "# svc = SVC(kernel='rbf', decision_function_shape='ovo', random_state=random_state)\n",
    "# svc.fit(x_train, y_train)\n",
    "# y_predict = svc.predict(x_test)\n",
    "# accuracy = evaluate(y_test, y_predict)\n",
    "# pprint(accuracy)"
   ]
  },
  {
   "cell_type": "code",
   "execution_count": 94,
   "metadata": {},
   "outputs": [],
   "source": [
    "from sklearn.neighbors import KNeighborsClassifier\n",
    "# knn = KNeighborsClassifier(n_neighbors=10)\n",
    "# knn.fit(x_train, y_train)\n",
    "# y_predict = knn.predict(x_test)\n",
    "# accuracy = evaluate(y_test, y_predict)\n",
    "# pprint(accuracy)"
   ]
  },
  {
   "cell_type": "code",
   "execution_count": 95,
   "metadata": {},
   "outputs": [],
   "source": [
    "from sklearn.neural_network import MLPClassifier\n",
    "# ann = MLPClassifier(solver='adam', hidden_layer_sizes=(20, 20), activation='relu', random_state=random_state, max_iter=2000)\n",
    "# ann.fit(x_train, y_train)\n",
    "# y_predict = ann.predict(x_test)\n",
    "# accuracy = evaluate(y_test, y_predict)\n",
    "# pprint(accuracy)"
   ]
  },
  {
   "cell_type": "markdown",
   "metadata": {},
   "source": [
    "## grid search"
   ]
  },
  {
   "cell_type": "code",
   "execution_count": 96,
   "metadata": {},
   "outputs": [],
   "source": [
    "from sklearn.model_selection import GridSearchCV"
   ]
  },
  {
   "cell_type": "code",
   "execution_count": 97,
   "metadata": {},
   "outputs": [],
   "source": [
    "# # Create the parameter grid based on the results of random search \n",
    "# param_grid_svc = {\n",
    "#     'decision_function_shape': ['ovo', 'ovr'],\n",
    "#     'kernel': ['linear', 'poly', 'rbf'],\n",
    "#     'degree': [3],\n",
    "#     'gamma': ['scale'],\n",
    "#     'probability'=[True]\n",
    "# }\n",
    "# svc = SVC()\n",
    "\n",
    "# # Instantiate the grid search model\n",
    "# grid_svc = GridSearchCV(estimator = svc, param_grid = param_grid_svc, cv = 5, n_jobs = -1)\n",
    "\n",
    "# # Fit the grid search to the data\n",
    "# grid_svc.fit(x_train, y_train)\n",
    "# svc_best_params = grid_svc.best_params_\n",
    "# pprint(svc_best_params)\n",
    "\n",
    "# svc = SVC(**svc_best_params, random_state=random_state)\n",
    "# svc.fit(x_train, y_train)\n",
    "# y_predict = svc.predict(x_test)\n",
    "# accuracy = evaluate(y_test, y_predict)\n",
    "# pprint(accuracy)\n",
    "\n",
    "# # # result\n",
    "# # {'decision_function_shape': 'ovo',\n",
    "# #  'degree': 3,\n",
    "# #  'gamma': 'scale',\n",
    "# #  'kernel': 'linear'}\n",
    "# # {'accuracy': 0.49007444168734493}\n",
    "svc_best_params = {\n",
    "    'decision_function_shape': 'ovo',\n",
    "    'degree': 3,\n",
    "    'gamma': 'scale',\n",
    "    'kernel': 'linear',\n",
    "    'probability':True\n",
    "}\n",
    "svc = SVC(**svc_best_params, random_state=random_state)"
   ]
  },
  {
   "cell_type": "code",
   "execution_count": 98,
   "metadata": {},
   "outputs": [],
   "source": [
    "# # Create the parameter grid based on the results of random search \n",
    "# param_grid_knn = {\n",
    "#     'n_neighbors': [3, 15, 27, 39, 51, 63, 75, 87, 99]\n",
    "# }\n",
    "\n",
    "# knn = KNeighborsClassifier()\n",
    "# # Instantiate the grid search model\n",
    "# grid_knn = GridSearchCV(estimator = knn, param_grid = param_grid_knn, cv = 5, n_jobs = -1)\n",
    "\n",
    "# # Fit the grid search to the data\n",
    "# grid_knn.fit(x_train, y_train)\n",
    "# knn_best_params = grid_knn.best_params_\n",
    "# pprint(knn_best_params)\n",
    "\n",
    "# knn = KNeighborsClassifier(**knn_best_params)\n",
    "# knn.fit(x_train, y_train)\n",
    "# y_predict = knn.predict(x_test)\n",
    "# accuracy = evaluate(y_test, y_predict)\n",
    "# pprint(accuracy)\n",
    "\n",
    "# # # result\n",
    "# # {'n_neighbors': 51}\n",
    "# # {'accuracy': 0.4987593052109181}\n",
    "\n",
    "knn_best_params = {\n",
    "    'n_neighbors': 51\n",
    "}\n",
    "knn = KNeighborsClassifier(**knn_best_params)"
   ]
  },
  {
   "cell_type": "code",
   "execution_count": 99,
   "metadata": {},
   "outputs": [],
   "source": [
    "# # Create the parameter grid based on the results of random search \n",
    "# param_grid_ann = {\n",
    "#     'solver': ['lbfgs', 'sgd', 'adam'],\n",
    "#     'activation': ['identity', 'logistic', 'tanh', 'relu'],\n",
    "#     'hidden_layer_sizes': [(10, 10), (20, 20), (20, 10), (10, 20)],\n",
    "#     'max_iter': [2000] \n",
    "# }\n",
    "# ann = MLPClassifier()\n",
    "\n",
    "# # Instantiate the grid search model\n",
    "# grid_ann = GridSearchCV(estimator = ann, param_grid = param_grid_ann, cv = 5, n_jobs = -1, error_score=0)\n",
    "\n",
    "# # Fit the grid search to the data\n",
    "# grid_ann.fit(x_train, y_train)\n",
    "# ann_best_params = grid_ann.best_params_\n",
    "# pprint(ann_best_params)\n",
    "\n",
    "# ann = MLPClassifier(**ann_best_params, random_state=random_state)\n",
    "# ann.fit(x_train, y_train)\n",
    "# y_predict = ann.predict(x_test)\n",
    "# accuracy = evaluate(y_test, y_predict)\n",
    "# pprint(accuracy)\n",
    "\n",
    "# # # result\n",
    "# # {'activation': 'relu',\n",
    "# #  'hidden_layer_sizes': (10, 20),\n",
    "# #  'max_iter': 2000,\n",
    "# #  'solver': 'adam'}\n",
    "# # {'accuracy': 0.5}\n",
    "\n",
    "ann_best_params = {\n",
    "    'activation': 'relu',\n",
    "    'hidden_layer_sizes': (10, 20),\n",
    "    'max_iter': 2000,\n",
    "    'solver': 'adam'\n",
    "}\n",
    "ann = MLPClassifier(**ann_best_params, random_state=random_state)"
   ]
  },
  {
   "cell_type": "markdown",
   "metadata": {},
   "source": [
    "## ensemble vs individual"
   ]
  },
  {
   "cell_type": "code",
   "execution_count": 100,
   "metadata": {},
   "outputs": [],
   "source": [
    "import pickle\n",
    "from sklearn.ensemble import VotingClassifier"
   ]
  },
  {
   "cell_type": "code",
   "execution_count": 101,
   "metadata": {},
   "outputs": [],
   "source": [
    "# ensemble_hard = VotingClassifier(estimators=[('svc', svc), ('knn', knn), ('ann', ann)], voting='hard')\n",
    "# ensemble_hard.fit(x_train, y_train)\n",
    "# y_predict = ensemble_hard.predict(x_test)\n",
    "# accuracy = evaluate(y_test, y_predict)\n",
    "# pprint(accuracy)\n",
    "\n",
    "# filename = 'ensemble_hard.pickle'\n",
    "# pickle.dump(ensemble_hard, open(osp.join(folder_result,filename), 'wb'))"
   ]
  },
  {
   "cell_type": "code",
   "execution_count": null,
   "metadata": {},
   "outputs": [],
   "source": [
    "ensemble_soft = VotingClassifier(estimators=[('svc', svc), ('knn', knn), ('ann', ann)], voting='soft')\n",
    "ensemble_soft.fit(x_train, y_train)\n",
    "y_predict = ensemble_soft.predict(x_test)\n",
    "accuracy = evaluate(y_test, y_predict)\n",
    "pprint(accuracy)\n",
    "\n",
    "filename = 'ensemble_soft.pickle'\n",
    "pickle.dump(ensemble_soft, open(osp.join(folder_result,filename), 'wb'))"
   ]
  },
  {
   "cell_type": "code",
   "execution_count": null,
   "metadata": {},
   "outputs": [],
   "source": [
    "# svc.fit(x_train, y_train)\n",
    "# y_predict = svc.predict(x_test)\n",
    "# accuracy = evaluate(y_test, y_predict)\n",
    "# pprint(accuracy)\n",
    "\n",
    "# filename = 'svc.pickle'\n",
    "# pickle.dump(svc, open(osp.join(folder_result,filename), 'wb'))\n",
    "\n",
    "# knn.fit(x_train, y_train)\n",
    "# y_predict = knn.predict(x_test)\n",
    "# accuracy = evaluate(y_test, y_predict)\n",
    "# pprint(accuracy)\n",
    "\n",
    "# filename = 'knn.pickle'\n",
    "# pickle.dump(knn, open(osp.join(folder_result,filename), 'wb'))\n",
    "\n",
    "# ann.fit(x_train, y_train)\n",
    "# y_predict = ann.predict(x_test)\n",
    "# accuracy = evaluate(y_test, y_predict)\n",
    "# pprint(accuracy)\n",
    "\n",
    "# filename = 'ann.pickle'\n",
    "# pickle.dump(ann, open(osp.join(folder_result,filename), 'wb'))"
   ]
  },
  {
   "cell_type": "markdown",
   "metadata": {},
   "source": [
    "## confusion matrix"
   ]
  },
  {
   "cell_type": "code",
   "execution_count": null,
   "metadata": {},
   "outputs": [],
   "source": [
    "import matplotlib.pyplot as plt\n",
    "from sklearn.metrics import plot_confusion_matrix"
   ]
  },
  {
   "cell_type": "code",
   "execution_count": null,
   "metadata": {},
   "outputs": [],
   "source": [
    "# plot_confusion_matrix(ensemble_hard, x_test, y_test)  # doctest: +SKIP\n",
    "# plt.show()  # doctest: +SKIP"
   ]
  },
  {
   "cell_type": "code",
   "execution_count": null,
   "metadata": {},
   "outputs": [],
   "source": [
    "plot_confusion_matrix(ensemble_soft, x_test, y_test)  # doctest: +SKIP\n",
    "plt.show()  # doctest: +SKIP"
   ]
  },
  {
   "cell_type": "code",
   "execution_count": null,
   "metadata": {},
   "outputs": [],
   "source": [
    "# plot_confusion_matrix(svc, x_test, y_test)  # doctest: +SKIP\n",
    "# plt.show()  # doctest: +SKIP"
   ]
  },
  {
   "cell_type": "code",
   "execution_count": null,
   "metadata": {},
   "outputs": [],
   "source": [
    "# plot_confusion_matrix(knn, x_test, y_test)  # doctest: +SKIP\n",
    "# plt.show()  # doctest: +SKIP"
   ]
  },
  {
   "cell_type": "code",
   "execution_count": null,
   "metadata": {},
   "outputs": [],
   "source": [
    "# plot_confusion_matrix(ann, x_test, y_test)  # doctest: +SKIP\n",
    "# plt.show()  # doctest: +SKIP"
   ]
  },
  {
   "cell_type": "markdown",
   "metadata": {},
   "source": [
    "## test on original data"
   ]
  },
  {
   "cell_type": "code",
   "execution_count": null,
   "metadata": {},
   "outputs": [],
   "source": [
    "x_ori_test = pd.read_csv(osp.join(folder_test,'x_test.csv'))\n",
    "x_ori_test.head()"
   ]
  },
  {
   "cell_type": "code",
   "execution_count": null,
   "metadata": {},
   "outputs": [],
   "source": [
    "y_ori_test = pd.read_csv(osp.join(folder_test,'y_test.csv'))\n",
    "y_ori_test.head()"
   ]
  },
  {
   "cell_type": "code",
   "execution_count": null,
   "metadata": {},
   "outputs": [],
   "source": [
    "# y_predict = ensemble_hard.predict(x_ori_test)\n",
    "# accuracy = evaluate(y_ori_test, y_predict)\n",
    "# pprint(accuracy)\n",
    "# plot_confusion_matrix(ensemble_hard, x_ori_test, y_ori_test)  # doctest: +SKIP\n",
    "# plt.show()  # doctest: +SKIP"
   ]
  },
  {
   "cell_type": "code",
   "execution_count": null,
   "metadata": {},
   "outputs": [],
   "source": [
    "y_predict = ensemble_soft.predict(x_ori_test)\n",
    "accuracy = evaluate(y_ori_test, y_predict)\n",
    "pprint(accuracy)\n",
    "plot_confusion_matrix(ensemble_soft, x_ori_test, y_ori_test)  # doctest: +SKIP\n",
    "plt.show()  # doctest: +SKIP"
   ]
  },
  {
   "cell_type": "code",
   "execution_count": null,
   "metadata": {},
   "outputs": [],
   "source": [
    "# y_predict = svc.predict(x_ori_test)\n",
    "# accuracy = evaluate(y_ori_test, y_predict)\n",
    "# pprint(accuracy)\n",
    "# plot_confusion_matrix(svc, x_ori_test, y_ori_test)  # doctest: +SKIP\n",
    "# plt.show()  # doctest: +SKIP"
   ]
  },
  {
   "cell_type": "code",
   "execution_count": null,
   "metadata": {},
   "outputs": [],
   "source": [
    "# y_predict = knn.predict(x_ori_test)\n",
    "# accuracy = evaluate(y_ori_test, y_predict)\n",
    "# pprint(accuracy)\n",
    "# plot_confusion_matrix(knn, x_ori_test, y_ori_test)  # doctest: +SKIP\n",
    "# plt.show()  # doctest: +SKIP"
   ]
  },
  {
   "cell_type": "code",
   "execution_count": null,
   "metadata": {},
   "outputs": [],
   "source": [
    "# y_predict = ann.predict(x_ori_test)\n",
    "# accuracy = evaluate(y_ori_test, y_predict)\n",
    "# pprint(accuracy)\n",
    "# plot_confusion_matrix(ann, x_ori_test, y_ori_test)  # doctest: +SKIP\n",
    "# plt.show()  # doctest: +SKIP"
   ]
  },
  {
   "cell_type": "markdown",
   "metadata": {},
   "source": [
    "## itterate variable (finding best variables to be used)"
   ]
  },
  {
   "cell_type": "code",
   "execution_count": null,
   "metadata": {},
   "outputs": [],
   "source": [
    "# def combinations(target,data):\n",
    "#     for i in range(len(data)):\n",
    "#         yield [*target, data[i]]\n",
    "#         yield from combinations([*target, data[i]], data[i+1:])"
   ]
  },
  {
   "cell_type": "code",
   "execution_count": null,
   "metadata": {},
   "outputs": [],
   "source": [
    "# label_name = 'reaction_time'\n",
    "# case_names = combinations([],var_names)\n",
    "# case_names = [case_name for case_name in case_names]"
   ]
  },
  {
   "cell_type": "code",
   "execution_count": null,
   "metadata": {},
   "outputs": [],
   "source": [
    "# wrapper_svc = {}\n",
    "# for case_name in case_names:\n",
    "#     x_train_temp = x_train[case_name]\n",
    "#     x_test_temp = x_test[case_name]\n",
    "#     svc = SVC(**svc_best_params, random_state=random_state)\n",
    "#     svc.fit(x_train_temp, y_train)\n",
    "#     y_predict = svc.predict(x_test_temp)\n",
    "#     accuracy = evaluate(y_test, y_predict)   \n",
    "#     wrapper_svc[str(case_name)] = accuracy\n",
    "#     print(f\"{case_name}: {accuracy}\")\n",
    "    \n",
    "# df_wrapper_svc = pd.DataFrame.from_dict(wrapper_svc, orient='index')\n",
    "# df_wrapper_svc.to_csv(os.path.join(folder_result,'svc.csv'),index=True) "
   ]
  },
  {
   "cell_type": "code",
   "execution_count": null,
   "metadata": {},
   "outputs": [],
   "source": [
    "# wrapper_knn = {}\n",
    "# for case_name in case_names:\n",
    "#     x_train_temp = x_train[case_name]\n",
    "#     x_test_temp = x_test[case_name]\n",
    "#     knn = KNeighborsClassifier(**knn_best_params)\n",
    "#     knn.fit(x_train_temp, y_train)\n",
    "#     y_predict = knn.predict(x_test_temp)\n",
    "#     accuracy = evaluate(y_test, y_predict)   \n",
    "#     wrapper_knn[str(case_name)] = accuracy\n",
    "#     print(f\"{case_name}: {accuracy}\")\n",
    "    \n",
    "# df_wrapper_knn = pd.DataFrame.from_dict(wrapper_knn, orient='index')\n",
    "# df_wrapper_knn.to_csv(os.path.join(folder_result,'knn.csv'),index=True)"
   ]
  },
  {
   "cell_type": "code",
   "execution_count": null,
   "metadata": {},
   "outputs": [],
   "source": [
    "# wrapper_ann = {}\n",
    "# for case_name in case_names:\n",
    "#     x_train_temp = x_train[case_name]\n",
    "#     x_test_temp = x_test[case_name]\n",
    "#     ann = MLPClassifier(**ann_best_params, random_state=random_state)\n",
    "#     ann.fit(x_train_temp, y_train)\n",
    "#     y_predict = ann.predict(x_test_temp)\n",
    "#     accuracy = evaluate(y_test, y_predict)   \n",
    "#     wrapper_ann[str(case_name)] = accuracy\n",
    "#     print(f\"{case_name}: {accuracy}\")\n",
    "\n",
    "# df_wrapper_ann = pd.DataFrame.from_dict(wrapper_ann, orient='index')\n",
    "# df_wrapper_ann.to_csv(os.path.join(folder_result,'ann.csv'),index=True) "
   ]
  },
  {
   "cell_type": "code",
   "execution_count": null,
   "metadata": {},
   "outputs": [],
   "source": [
    "# wrapper_ensemble_hard = {}\n",
    "# for case_name in case_names:\n",
    "#     x_train_temp = x_train[case_name]\n",
    "#     x_test_temp = x_test[case_name]\n",
    "#     ensemble_hard = VotingClassifier(estimators=[('svc',svc),('knn',knn),('ann',ann)], voting='hard', n_jobs=-1)\n",
    "#     ensemble_hard.fit(x_train_temp, y_train)\n",
    "#     y_predict = ensemble_hard.predict(x_test_temp)\n",
    "#     accuracy = evaluate(y_test, y_predict)    \n",
    "#     wrapper_ensemble_hard[str(case_name)] = accuracy\n",
    "#     print(f\"{case_name}: {accuracy}\")\n",
    "\n",
    "# df_wrapper_ensemble_hard = pd.DataFrame.from_dict(wrapper_ensemble_hard, orient='index')\n",
    "# df_wrapper_ensemble_hard.to_csv(os.path.join(folder_path,'ensemble_hard.csv'),index=True) "
   ]
  },
  {
   "cell_type": "code",
   "execution_count": null,
   "metadata": {},
   "outputs": [],
   "source": [
    "# wrapper_ensemble_soft = {}\n",
    "# for case_name in case_names:\n",
    "#     x_train_temp = x_train[case_name]\n",
    "#     x_test_temp = x_test[case_name]\n",
    "#     ensemble_soft = VotingClassifier(estimators=[('svc', svc),('knn',knn),('ann',ann)], voting='soft', n_jobs=-1)\n",
    "#     ensemble_soft.fit(x_train_temp, y_train)\n",
    "#     y_predict = ensemble_soft.predict(x_test_temp)\n",
    "#     accuracy = evaluate(y_test, y_predict)    \n",
    "#     wrapper_ensemble_soft[str(case_name)] = accuracy\n",
    "#     print(f\"{case_name}: {accuracy}\")\n",
    "\n",
    "# df_wrapper_ensemble_soft = pd.DataFrame.from_dict(wrapper_ensemble_soft, orient='index')\n",
    "# df_wrapper_ensemble_soft.to_csv(os.path.join(folder_path,'ensemble_soft.csv'),index=True) "
   ]
  },
  {
   "cell_type": "code",
   "execution_count": null,
   "metadata": {},
   "outputs": [],
   "source": []
  }
 ],
 "metadata": {
  "kernelspec": {
   "display_name": "Python 3",
   "language": "python",
   "name": "python3"
  },
  "language_info": {
   "codemirror_mode": {
    "name": "ipython",
    "version": 3
   },
   "file_extension": ".py",
   "mimetype": "text/x-python",
   "name": "python",
   "nbconvert_exporter": "python",
   "pygments_lexer": "ipython3",
   "version": "3.7.4"
  }
 },
 "nbformat": 4,
 "nbformat_minor": 4
}
