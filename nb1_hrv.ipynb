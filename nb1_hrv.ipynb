{
 "cells": [
  {
   "cell_type": "markdown",
   "metadata": {},
   "source": [
    "# HRV-Stress_hrv"
   ]
  },
  {
   "cell_type": "markdown",
   "metadata": {},
   "source": [
    "## make peak data data"
   ]
  },
  {
   "cell_type": "code",
   "execution_count": 3,
   "metadata": {},
   "outputs": [],
   "source": [
    "import os\n",
    "import os.path as osp\n",
    "import pandas as pd\n",
    "import numpy as np\n",
    "import copy\n",
    "from scipy import signal\n",
    "from scipy.interpolate import Akima1DInterpolator\n",
    "import pickle\n",
    "import math"
   ]
  },
  {
   "cell_type": "code",
   "execution_count": 4,
   "metadata": {},
   "outputs": [],
   "source": [
    "path_data = 'data/individual'\n",
    "name_input_file = 'heartrate.csv' # public raw data of nback"
   ]
  },
  {
   "cell_type": "code",
   "execution_count": 5,
   "metadata": {},
   "outputs": [],
   "source": [
    "subject_list = os.listdir(path_data)"
   ]
  },
  {
   "cell_type": "code",
   "execution_count": 6,
   "metadata": {},
   "outputs": [],
   "source": [
    "def moving_average(a, n=3) :\n",
    "    ret = np.cumsum(a, dtype=float)\n",
    "    ret[n:] = ret[n:] - ret[:-n]\n",
    "    return ret[n - 1:] / n"
   ]
  },
  {
   "cell_type": "code",
   "execution_count": 9,
   "metadata": {},
   "outputs": [],
   "source": [
    "moving_average_window = 330 # 330 ms\n",
    "peak_distance = 350 # 350 ms\n",
    "max_hrv_window = 60000\n",
    "# for detrending using interpolator\n",
    "step_size = 10 # 10 ms\n",
    "shift = (moving_average_window//step_size)-1\n",
    "\n",
    "# # for detrending without interpolator\n",
    "# step_size = 1 # 1 ms"
   ]
  },
  {
   "cell_type": "code",
   "execution_count": 5,
   "metadata": {
    "scrolled": true
   },
   "outputs": [
    {
     "name": "stdout",
     "output_type": "stream",
     "text": [
      "s01\n",
      "s02\n",
      "s03\n",
      "s04\n",
      "s05\n",
      "s06\n",
      "s07\n",
      "s08\n",
      "s09\n",
      "s10\n",
      "s11\n",
      "s12\n",
      "s13\n",
      "s14\n",
      "s15\n",
      "s16\n",
      "s17\n",
      "s18\n",
      "s19\n",
      "s20\n",
      "s21\n",
      "s22\n",
      "s23\n",
      "s24\n",
      "s25\n",
      "s26\n",
      "s27\n",
      "s28\n",
      "s29\n",
      "s30\n",
      "s31\n",
      "s32\n",
      "s33\n",
      "s34\n",
      "s35\n",
      "s36\n",
      "s37\n",
      "s38\n",
      "s39\n"
     ]
    }
   ],
   "source": [
    "for subject_name in subject_list:\n",
    "    print(subject_name)\n",
    "    \n",
    "    # read\n",
    "    df = pd.read_csv(osp.join(path_data,subject_name,name_input_file))\n",
    "    \n",
    "    # check n-back first time_stamp and remove all before first - window_size - max_hrv_window\n",
    "    df_nback = pd.read_csv(osp.join(path_data,subject_name,'nback.csv'))\n",
    "    start_time = df_nback['time_stamp'].iloc[0] - moving_average_window - max_hrv_window\n",
    "    end_time = df_nback['time_stamp'].iloc[-1]\n",
    "    \n",
    "    for idx, val in enumerate(df['time_stamp']):\n",
    "        if val >= start_time:\n",
    "            break\n",
    "    if idx > 0:\n",
    "        idx -= 1\n",
    "    df.drop(df.index[0:idx], inplace = True)\n",
    "    \n",
    "    for idx, val in enumerate(df['time_stamp'][::-1]):\n",
    "        if val <= end_time:\n",
    "            break\n",
    "    if idx > 0:\n",
    "        idx -= 1\n",
    "    df.drop(df.index[-idx::], inplace = True)\n",
    "    \n",
    "    df.reset_index(inplace=True,drop=True)\n",
    "\n",
    "    # detrending using interpolator (make data evenly spaced)\n",
    "    # smoothing using akima, with step_size correction\n",
    "    start_time = df['time_stamp'].iloc[0]\n",
    "    start_time = (math.ceil(start_time/step_size))*step_size\n",
    "    end_time = df['time_stamp'].iloc[-1]\n",
    "    end_time = (math.floor(end_time/step_size))*step_size\n",
    "    \n",
    "    time_stamp_smooth = np.linspace(start_time, end_time, num=(end_time-start_time)//step_size+1, endpoint=True)\n",
    "\n",
    "    red_interpolator = Akima1DInterpolator(df['time_stamp'].to_numpy(), df['red'].to_numpy())\n",
    "    red = red_interpolator(time_stamp_smooth)\n",
    "\n",
    "    # rolling moving average\n",
    "    red_average = moving_average(red, n=moving_average_window//step_size)\n",
    "    red_detrend = red[shift::] - red_average\n",
    "    time_stamp_shift = time_stamp_smooth[shift::]\n",
    "\n",
    "#     # detrending without interpolator (without making time_stamp evenly spaced)\n",
    "#     # time window based interpolator\n",
    "#     start_time = df['time_stamp'].iloc[0]\n",
    "#     start_time = start_time + moving_average_window\n",
    "    \n",
    "#     for idx, val in df['time_stamp'].iteritems():\n",
    "#         if val >= start_time:\n",
    "#             break\n",
    "#     if idx > 0:\n",
    "#         idx -= 1\n",
    "    \n",
    "#     red = df['red'].to_numpy()\n",
    "#     time_stamp = df['time_stamp'].to_numpy()\n",
    "#     red_shift = df['red'][idx:].to_numpy()\n",
    "#     time_stamp_shift = df['time_stamp'][idx:].to_numpy()\n",
    "#     red_moving_average = np.array([np.mean(red[(time_stamp > t-moving_average_window) * (time_stamp <= t)]) for t in time_stamp_shift])\n",
    "#     red_detrend = red_shift - red_moving_average\n",
    "\n",
    "    # save detrended signal\n",
    "    with open(osp.join(path_data,subject_name,'red_detrend_and_time_stamp_shift.pickle'), 'wb') as handle:\n",
    "        pickle.dump([red_detrend,time_stamp_shift], handle, protocol=pickle.HIGHEST_PROTOCOL)"
   ]
  },
  {
   "cell_type": "code",
   "execution_count": 10,
   "metadata": {},
   "outputs": [],
   "source": [
    "for subject_name in subject_list:\n",
    "    with open(osp.join(path_data,subject_name,'red_detrend_and_time_stamp_shift.pickle'), 'rb') as handle:\n",
    "        red_detrend, time_stamp_shift = pickle.load(handle)\n",
    "    \n",
    "    # smoothing using akima (mostly for unevenly spaced data)\n",
    "    if step_size > 1:\n",
    "        start_time = time_stamp_shift[0]\n",
    "        end_time = time_stamp_shift[-1]\n",
    "        time_stamp_smooth = np.linspace(start_time, end_time, num=int(end_time-start_time)//step_size, endpoint=True)\n",
    "        red_interpolator = Akima1DInterpolator(time_stamp_shift, red_detrend)\n",
    "        red_smooth = red_interpolator(time_stamp_smooth)\n",
    "    else:\n",
    "        time_stamp_smooth = time_stamp_shift\n",
    "        red_smooth = red_detrend\n",
    "    \n",
    "    # peak finder\n",
    "    peaks, _ = signal.find_peaks(red_smooth, distance=peak_distance//step_size)\n",
    "\n",
    "    # time_stamp of peak\n",
    "    df_time_stamp_peak = pd.DataFrame({'time_stamp':time_stamp_smooth[peaks]})\n",
    "    \n",
    "    # save\n",
    "    df_time_stamp_peak.to_csv(osp.join(path_data,subject_name,'peaks.csv'), index=False)"
   ]
  },
  {
   "cell_type": "markdown",
   "metadata": {},
   "source": [
    "## Peaks Visualization"
   ]
  },
  {
   "cell_type": "code",
   "execution_count": 11,
   "metadata": {},
   "outputs": [
    {
     "name": "stdout",
     "output_type": "stream",
     "text": [
      "[    23     85    145 ... 117422 117476 117535]\n"
     ]
    },
    {
     "data": {
      "image/png": "[encoded data removed]",
      "text/plain": [
       "<Figure size 432x288 with 1 Axes>"
      ]
     },
     "metadata": {
      "needs_background": "light"
     },
     "output_type": "display_data"
    }
   ],
   "source": [
    "import matplotlib.pyplot as plt\n",
    "plt.plot(red_smooth)\n",
    "print(peaks)"
   ]
  },
  {
   "cell_type": "code",
   "execution_count": 12,
   "metadata": {},
   "outputs": [],
   "source": [
    "for subject_name in subject_list:\n",
    "    with open(osp.join(path_data,subject_name,'red_detrend_and_time_stamp_shift.pickle'), 'rb') as handle:\n",
    "        red_detrend, time_stamp_shift = pickle.load(handle)\n",
    "    break"
   ]
  },
  {
   "cell_type": "code",
   "execution_count": 13,
   "metadata": {},
   "outputs": [
    {
     "data": {
      "text/plain": [
       "1569164400270.0"
      ]
     },
     "execution_count": 13,
     "metadata": {},
     "output_type": "execute_result"
    }
   ],
   "source": [
    "time_stamp_shift[0]"
   ]
  },
  {
   "cell_type": "code",
   "execution_count": null,
   "metadata": {},
   "outputs": [],
   "source": []
  }
 ],
 "metadata": {
  "kernelspec": {
   "display_name": "Python 3",
   "language": "python",
   "name": "python3"
  },
  "language_info": {
   "codemirror_mode": {
    "name": "ipython",
    "version": 3
   },
   "file_extension": ".py",
   "mimetype": "text/x-python",
   "name": "python",
   "nbconvert_exporter": "python",
   "pygments_lexer": "ipython3",
   "version": "3.7.4"
  }
 },
 "nbformat": 4,
 "nbformat_minor": 4
}
