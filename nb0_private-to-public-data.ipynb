{
 "cells": [
  {
   "cell_type": "code",
   "execution_count": 1,
   "metadata": {},
   "outputs": [],
   "source": [
    "import os\n",
    "import os.path as osp\n",
    "import pandas as pd"
   ]
  },
  {
   "cell_type": "code",
   "execution_count": 2,
   "metadata": {},
   "outputs": [],
   "source": [
    "path_source = 'private/individual'\n",
    "path_target = 'data/individual'\n",
    "file_names = ['heartrate.csv', 'nback.csv']"
   ]
  },
  {
   "cell_type": "code",
   "execution_count": 3,
   "metadata": {},
   "outputs": [],
   "source": [
    "subjects = os.listdir(path_source)"
   ]
  },
  {
   "cell_type": "code",
   "execution_count": 4,
   "metadata": {},
   "outputs": [],
   "source": [
    "index = 1\n",
    "name_number_len = 2\n",
    "for subject in subjects:\n",
    "    for file_name in file_names:\n",
    "        index_str = str(index)\n",
    "        index_str = '0'*(name_number_len-len(index_str)) + index_str\n",
    "        \n",
    "        # read\n",
    "        df = pd.read_csv(osp.join(path_source,subject,file_name))\n",
    "\n",
    "        # remove unnamed col\n",
    "        for col in df.columns:\n",
    "            if 'Unnamed' in col:\n",
    "                df.drop(col, axis=1, inplace=True)\n",
    "        \n",
    "        # remove col ir\n",
    "        if 'ir' in df.columns:\n",
    "            df.drop('ir', axis=1, inplace=True)\n",
    "        \n",
    "        # remove red == 0\n",
    "        if 'red' in df.columns:\n",
    "            df.drop(df[df['red'] == 0].index, inplace = True)\n",
    "        \n",
    "        # remove trial test of nback\n",
    "        if 'flag' in df.columns:\n",
    "            df.drop(df[df['flag'] <= 3].index, inplace = True)\n",
    "\n",
    "        # rename timestamp to time_stamp\n",
    "        if 'timestamp' in df.columns:\n",
    "            df.rename(columns={'timestamp':'time_stamp'}, inplace = True)\n",
    "        \n",
    "        # remove duplicate\n",
    "        df.drop_duplicates(subset=['time_stamp'], inplace=True)\n",
    "        \n",
    "        # sort time_stamp\n",
    "        df.sort_values(by=['time_stamp'], inplace=True)\n",
    "        \n",
    "        # reset index\n",
    "        df.reset_index(inplace=True,drop=True)\n",
    "        \n",
    "        # save\n",
    "        path_subject = osp.join(path_target,'s'+index_str)\n",
    "        if not osp.exists(path_subject):\n",
    "            os.makedirs(path_subject)  \n",
    "        df.to_csv(osp.join(path_subject,file_name), index=False)\n",
    "        \n",
    "    index += 1"
   ]
  },
  {
   "cell_type": "code",
   "execution_count": null,
   "metadata": {},
   "outputs": [],
   "source": []
  }
 ],
 "metadata": {
  "kernelspec": {
   "display_name": "Python 3",
   "language": "python",
   "name": "python3"
  },
  "language_info": {
   "codemirror_mode": {
    "name": "ipython",
    "version": 3
   },
   "file_extension": ".py",
   "mimetype": "text/x-python",
   "name": "python",
   "nbconvert_exporter": "python",
   "pygments_lexer": "ipython3",
   "version": "3.7.4"
  }
 },
 "nbformat": 4,
 "nbformat_minor": 4
}
