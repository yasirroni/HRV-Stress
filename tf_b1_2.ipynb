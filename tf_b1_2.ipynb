{
  "nbformat": 4,
  "nbformat_minor": 0,
  "metadata": {
    "colab": {
      "name": "tf_b1_2.ipynb",
      "provenance": [],
      "collapsed_sections": [],
      "toc_visible": true,
      "authorship_tag": "ABX9TyMPRtFwBYSu7OLhbaSB38Hm",
      "include_colab_link": true
    },
    "kernelspec": {
      "name": "python3",
      "display_name": "Python 3"
    },
    "accelerator": "GPU"
  },
  "cells": [
    {
      "cell_type": "markdown",
      "metadata": {
        "id": "view-in-github",
        "colab_type": "text"
      },
      "source": [
        "<a href=\"https://colab.research.google.com/github/yasirroni/HRV-Stress/blob/master/tf_b1_2.ipynb\" target=\"_parent\"><img src=\"https://colab.research.google.com/assets/colab-badge.svg\" alt=\"Open In Colab\"/></a>"
      ]
    },
    {
      "cell_type": "markdown",
      "metadata": {
        "id": "PiYyaEWEfXyB"
      },
      "source": [
        "# Basic text classification\r\n",
        "source: https://www.tensorflow.org/tutorials/keras/classification"
      ]
    },
    {
      "cell_type": "code",
      "metadata": {
        "id": "u-D4DdkUFKXg"
      },
      "source": [
        "from IPython import get_ipython\r\n",
        "get_ipython().magic('reset -f')"
      ],
      "execution_count": 1,
      "outputs": []
    },
    {
      "cell_type": "markdown",
      "metadata": {
        "id": "A0CFf1Nofhtt"
      },
      "source": [
        "# Import library"
      ]
    },
    {
      "cell_type": "code",
      "metadata": {
        "id": "z4Ok5Mp0ex6r"
      },
      "source": [
        "import matplotlib.pyplot as plt\r\n",
        "import os\r\n",
        "import re\r\n",
        "import shutil\r\n",
        "import string\r\n",
        "import tensorflow as tf\r\n",
        "\r\n",
        "from tensorflow.keras import layers\r\n",
        "from tensorflow.keras import losses\r\n",
        "from tensorflow.keras import preprocessing\r\n",
        "from tensorflow.keras.layers.experimental.preprocessing import TextVectorization"
      ],
      "execution_count": 2,
      "outputs": []
    },
    {
      "cell_type": "code",
      "metadata": {
        "colab": {
          "base_uri": "https://localhost:8080/"
        },
        "id": "uEtNQc7TfFIG",
        "outputId": "cd699e9f-a725-480f-ec0a-b2c8ffea41f6"
      },
      "source": [
        "print(tf.__version__)"
      ],
      "execution_count": 3,
      "outputs": [
        {
          "output_type": "stream",
          "text": [
            "2.4.1\n"
          ],
          "name": "stdout"
        }
      ]
    },
    {
      "cell_type": "markdown",
      "metadata": {
        "id": "9Q3piv3DflRy"
      },
      "source": [
        "## Download dataset"
      ]
    },
    {
      "cell_type": "code",
      "metadata": {
        "colab": {
          "base_uri": "https://localhost:8080/"
        },
        "id": "BSSUcIiqfFez",
        "outputId": "53c4facd-f881-45df-a44b-30f4ab738978"
      },
      "source": [
        "url = \"https://ai.stanford.edu/~amaas/data/sentiment/aclImdb_v1.tar.gz\"\r\n",
        "\r\n",
        "dataset = tf.keras.utils.get_file(\"aclImdb_v1.tar.gz\", url,\r\n",
        "                                    untar=True, cache_dir='.',\r\n",
        "                                    cache_subdir='')"
      ],
      "execution_count": 4,
      "outputs": [
        {
          "output_type": "stream",
          "text": [
            "Downloading data from https://ai.stanford.edu/~amaas/data/sentiment/aclImdb_v1.tar.gz\n",
            "84131840/84125825 [==============================] - 4s 0us/step\n"
          ],
          "name": "stdout"
        }
      ]
    },
    {
      "cell_type": "markdown",
      "metadata": {
        "id": "kltwC2BXgi0F"
      },
      "source": [
        "## Data overview"
      ]
    },
    {
      "cell_type": "code",
      "metadata": {
        "colab": {
          "base_uri": "https://localhost:8080/",
          "height": 35
        },
        "id": "qaxi4--ZhBXk",
        "outputId": "94734a16-512e-47c5-fbfb-f2744cb4800c"
      },
      "source": [
        "dataset # this is the file path where the downloaded file located"
      ],
      "execution_count": 5,
      "outputs": [
        {
          "output_type": "execute_result",
          "data": {
            "application/vnd.google.colaboratory.intrinsic+json": {
              "type": "string"
            },
            "text/plain": [
              "'./aclImdb_v1.tar.gz'"
            ]
          },
          "metadata": {
            "tags": []
          },
          "execution_count": 5
        }
      ]
    },
    {
      "cell_type": "code",
      "metadata": {
        "colab": {
          "base_uri": "https://localhost:8080/"
        },
        "id": "RkHqUXtmgx3t",
        "outputId": "d1f0aa9e-42fc-431b-f25b-da81d2e7aa06"
      },
      "source": [
        "!pwd # this is the notebook root location"
      ],
      "execution_count": 6,
      "outputs": [
        {
          "output_type": "stream",
          "text": [
            "/content\n"
          ],
          "name": "stdout"
        }
      ]
    },
    {
      "cell_type": "code",
      "metadata": {
        "colab": {
          "base_uri": "https://localhost:8080/",
          "height": 35
        },
        "id": "tAnzFtbVg1uR",
        "outputId": "66f7e2bd-25e1-4ee7-80d7-e1b6188b8e46"
      },
      "source": [
        "os.getcwd() # this is the notebook root location"
      ],
      "execution_count": 7,
      "outputs": [
        {
          "output_type": "execute_result",
          "data": {
            "application/vnd.google.colaboratory.intrinsic+json": {
              "type": "string"
            },
            "text/plain": [
              "'/content'"
            ]
          },
          "metadata": {
            "tags": []
          },
          "execution_count": 7
        }
      ]
    },
    {
      "cell_type": "code",
      "metadata": {
        "colab": {
          "base_uri": "https://localhost:8080/",
          "height": 35
        },
        "id": "3j_9xMHDf9W3",
        "outputId": "9481fbb8-a680-4afe-e2a0-13df0e789c39"
      },
      "source": [
        "dataset_dir = os.path.join(os.path.dirname(dataset), 'aclImdb')\r\n",
        "dataset_dir # /content/aclImdb"
      ],
      "execution_count": 8,
      "outputs": [
        {
          "output_type": "execute_result",
          "data": {
            "application/vnd.google.colaboratory.intrinsic+json": {
              "type": "string"
            },
            "text/plain": [
              "'./aclImdb'"
            ]
          },
          "metadata": {
            "tags": []
          },
          "execution_count": 8
        }
      ]
    },
    {
      "cell_type": "code",
      "metadata": {
        "colab": {
          "base_uri": "https://localhost:8080/"
        },
        "id": "moauNsk1gn-w",
        "outputId": "fdae4e5a-a85c-4016-d11b-f09bd2df2560"
      },
      "source": [
        "os.listdir(dataset_dir)"
      ],
      "execution_count": 9,
      "outputs": [
        {
          "output_type": "execute_result",
          "data": {
            "text/plain": [
              "['train', 'test', 'README', 'imdb.vocab', 'imdbEr.txt']"
            ]
          },
          "metadata": {
            "tags": []
          },
          "execution_count": 9
        }
      ]
    },
    {
      "cell_type": "code",
      "metadata": {
        "colab": {
          "base_uri": "https://localhost:8080/"
        },
        "id": "ei--mAerfy8q",
        "outputId": "9915c081-1970-4e38-c209-49a74cd2159f"
      },
      "source": [
        "train_dir = os.path.join(dataset_dir, 'train')\r\n",
        "os.listdir(train_dir)"
      ],
      "execution_count": 10,
      "outputs": [
        {
          "output_type": "execute_result",
          "data": {
            "text/plain": [
              "['unsup',\n",
              " 'urls_unsup.txt',\n",
              " 'pos',\n",
              " 'urls_pos.txt',\n",
              " 'neg',\n",
              " 'labeledBow.feat',\n",
              " 'unsupBow.feat',\n",
              " 'urls_neg.txt']"
            ]
          },
          "metadata": {
            "tags": []
          },
          "execution_count": 10
        }
      ]
    },
    {
      "cell_type": "code",
      "metadata": {
        "colab": {
          "base_uri": "https://localhost:8080/"
        },
        "id": "Ip7O5OH_gQ0g",
        "outputId": "823f032e-5914-4f41-fa50-8d8512088aed"
      },
      "source": [
        "sample_file = os.path.join(train_dir, 'pos/1181_9.txt')\r\n",
        "with open(sample_file) as f:\r\n",
        "    print(f.read())"
      ],
      "execution_count": 11,
      "outputs": [
        {
          "output_type": "stream",
          "text": [
            "Rachel Griffiths writes and directs this award winning short film. A heartwarming story about coping with grief and cherishing the memory of those we've loved and lost. Although, only 15 minutes long, Griffiths manages to capture so much emotion and truth onto film in the short space of time. Bud Tingwell gives a touching performance as Will, a widower struggling to cope with his wife's death. Will is confronted by the harsh reality of loneliness and helplessness as he proceeds to take care of Ruth's pet cow, Tulip. The film displays the grief and responsibility one feels for those they have loved and lost. Good cinematography, great direction, and superbly acted. It will bring tears to all those who have lost a loved one, and survived.\n"
          ],
          "name": "stdout"
        }
      ]
    },
    {
      "cell_type": "markdown",
      "metadata": {
        "id": "Ye8j6C45iPIY"
      },
      "source": [
        "## Data preparation"
      ]
    },
    {
      "cell_type": "code",
      "metadata": {
        "id": "awiQQaTOh2KO"
      },
      "source": [
        "# Prepare folder in the following format, delete other folder\r\n",
        "\r\n",
        "# main_directory/\r\n",
        "# ...class_a/\r\n",
        "# ......a_text_1.txt\r\n",
        "# ......a_text_2.txt\r\n",
        "# ...class_b/\r\n",
        "# ......b_text_1.txt\r\n",
        "# ......b_text_2.txt\r\n",
        "\r\n",
        "# feed to tf.keras.preprocessing.text_dataset_from_directory()\r\n",
        "# create dataset with feature x and label y"
      ],
      "execution_count": 12,
      "outputs": []
    },
    {
      "cell_type": "code",
      "metadata": {
        "id": "RZJpFmq_iXMv"
      },
      "source": [
        "remove_dir = os.path.join(train_dir, 'unsup')\r\n",
        "shutil.rmtree(remove_dir) # delete an entire directory tree"
      ],
      "execution_count": 13,
      "outputs": []
    },
    {
      "cell_type": "code",
      "metadata": {
        "colab": {
          "base_uri": "https://localhost:8080/"
        },
        "id": "SNq66utgjExK",
        "outputId": "2746fa5b-55c9-44ea-8baf-63c9609b90f1"
      },
      "source": [
        "# create train and validation data set from train\r\n",
        "batch_size = 32 # batch size\r\n",
        "seed = 42 # seed for splitting\r\n",
        "\r\n",
        "# dataset train in batch\r\n",
        "raw_train_ds = tf.keras.preprocessing.text_dataset_from_directory(\r\n",
        "    'aclImdb/train', \r\n",
        "    batch_size=batch_size, \r\n",
        "    validation_split=0.2, \r\n",
        "    subset='training', \r\n",
        "    seed=seed) # train and validation must be from a single dataset\r\n",
        "\r\n",
        "# dataset validation in batch\r\n",
        "raw_val_ds = tf.keras.preprocessing.text_dataset_from_directory(\r\n",
        "    'aclImdb/train', \r\n",
        "    batch_size=batch_size, \r\n",
        "    validation_split=0.2, \r\n",
        "    subset='validation', \r\n",
        "    seed=seed) # train and validation must be from a single dataset"
      ],
      "execution_count": 14,
      "outputs": [
        {
          "output_type": "stream",
          "text": [
            "Found 25000 files belonging to 2 classes.\n",
            "Using 20000 files for training.\n",
            "Found 25000 files belonging to 2 classes.\n",
            "Using 5000 files for validation.\n"
          ],
          "name": "stdout"
        }
      ]
    },
    {
      "cell_type": "code",
      "metadata": {
        "colab": {
          "base_uri": "https://localhost:8080/"
        },
        "id": "qb4Hp1MOzeyO",
        "outputId": "9530c2f6-ed98-4a8f-f7ae-1b346a8c9d86"
      },
      "source": [
        "# test dataset doesneed to be shufled\r\n",
        "raw_test_ds = tf.keras.preprocessing.text_dataset_from_directory(\r\n",
        "    'aclImdb/test', \r\n",
        "    batch_size=batch_size)"
      ],
      "execution_count": 15,
      "outputs": [
        {
          "output_type": "stream",
          "text": [
            "Found 25000 files belonging to 2 classes.\n"
          ],
          "name": "stdout"
        }
      ]
    },
    {
      "cell_type": "markdown",
      "metadata": {
        "id": "1WglCl1azTLo"
      },
      "source": [
        "## Dataset (after preparation) overview"
      ]
    },
    {
      "cell_type": "code",
      "metadata": {
        "colab": {
          "base_uri": "https://localhost:8080/"
        },
        "id": "9rbdgNW9jfeW",
        "outputId": "876a5a8a-a20a-4fdb-ee90-3cd45cceeebb"
      },
      "source": [
        "for text_batch, label_batch in raw_train_ds.take(1): # take 1 batch\r\n",
        "    for i in range(3): # loop over 3 dataset from batch\r\n",
        "        print(\"Review\", text_batch.numpy()[i])\r\n",
        "        print(\"Label\", label_batch.numpy()[i])"
      ],
      "execution_count": 16,
      "outputs": [
        {
          "output_type": "stream",
          "text": [
            "Review b'\"Pandemonium\" is a horror movie spoof that comes off more stupid than funny. Believe me when I tell you, I love comedies. Especially comedy spoofs. \"Airplane\", \"The Naked Gun\" trilogy, \"Blazing Saddles\", \"High Anxiety\", and \"Spaceballs\" are some of my favorite comedies that spoof a particular genre. \"Pandemonium\" is not up there with those films. Most of the scenes in this movie had me sitting there in stunned silence because the movie wasn\\'t all that funny. There are a few laughs in the film, but when you watch a comedy, you expect to laugh a lot more than a few times and that\\'s all this film has going for it. Geez, \"Scream\" had more laughs than this film and that was more of a horror film. How bizarre is that?<br /><br />*1/2 (out of four)'\n",
            "Label 0\n",
            "Review b\"David Mamet is a very interesting and a very un-equal director. His first movie 'House of Games' was the one I liked best, and it set a series of films with characters whose perspective of life changes as they get into complicated situations, and so does the perspective of the viewer.<br /><br />So is 'Homicide' which from the title tries to set the mind of the viewer to the usual crime drama. The principal characters are two cops, one Jewish and one Irish who deal with a racially charged area. The murder of an old Jewish shop owner who proves to be an ancient veteran of the Israeli Independence war triggers the Jewish identity in the mind and heart of the Jewish detective.<br /><br />This is were the flaws of the film are the more obvious. The process of awakening is theatrical and hard to believe, the group of Jewish militants is operatic, and the way the detective eventually walks to the final violent confrontation is pathetic. The end of the film itself is Mamet-like smart, but disappoints from a human emotional perspective.<br /><br />Joe Mantegna and William Macy give strong performances, but the flaws of the story are too evident to be easily compensated.\"\n",
            "Label 0\n",
            "Review b'Great documentary about the lives of NY firefighters during the worst terrorist attack of all time.. That reason alone is why this should be a must see collectors item.. What shocked me was not only the attacks, but the\"High Fat Diet\" and physical appearance of some of these firefighters. I think a lot of Doctors would agree with me that,in the physical shape they were in, some of these firefighters would NOT of made it to the 79th floor carrying over 60 lbs of gear. Having said that i now have a greater respect for firefighters and i realize becoming a firefighter is a life altering job. The French have a history of making great documentary\\'s and that is what this is, a Great Documentary.....'\n",
            "Label 1\n"
          ],
          "name": "stdout"
        }
      ]
    },
    {
      "cell_type": "code",
      "metadata": {
        "colab": {
          "base_uri": "https://localhost:8080/"
        },
        "id": "jw7EHXrOjyE2",
        "outputId": "fcadc0a6-8fb8-4078-a843-922cd59ada7f"
      },
      "source": [
        "print(\"Label 0 corresponds to\", raw_train_ds.class_names[0])\r\n",
        "print(\"Label 1 corresponds to\", raw_train_ds.class_names[1])"
      ],
      "execution_count": 17,
      "outputs": [
        {
          "output_type": "stream",
          "text": [
            "Label 0 corresponds to neg\n",
            "Label 1 corresponds to pos\n"
          ],
          "name": "stdout"
        }
      ]
    },
    {
      "cell_type": "code",
      "metadata": {
        "id": "dAK9215ByA-m"
      },
      "source": [
        "# raw_train_ds.take(n) # take n-batch of dataset\r\n",
        "# raw_train_ds.class_names[i] # see class name of data with label i\r\n",
        "# raw_train_ds.map(lambda X, y:x) #map x,y to x, removing label"
      ],
      "execution_count": 18,
      "outputs": []
    },
    {
      "cell_type": "markdown",
      "metadata": {
        "id": "Z_0_KDMp35QU"
      },
      "source": [
        "## Preprocessing"
      ]
    },
    {
      "cell_type": "code",
      "metadata": {
        "id": "y3c8dDR138-v"
      },
      "source": [
        "# custom standardization for preprocessing layer\r\n",
        "def custom_standardization(input_data):\r\n",
        "    lowercase = tf.strings.lower(input_data) # make all lower\r\n",
        "    stripped_html = tf.strings.regex_replace(lowercase, # remove html tag <br /> \r\n",
        "                                             '<br />', \r\n",
        "                                             ' ')\r\n",
        "    return tf.strings.regex_replace(stripped_html, # remove punctuation\r\n",
        "                                    '[%s]' % re.escape(string.punctuation),\r\n",
        "                                    '')\r\n",
        "    # s.translate(str.maketrans('', '', string.punctuation))"
      ],
      "execution_count": 19,
      "outputs": []
    },
    {
      "cell_type": "code",
      "metadata": {
        "id": "nV_kWmy16SnM"
      },
      "source": [
        "max_features = 10000 # max unique number of tokens\r\n",
        "sequence_length = 250 # max sequence: truncate if over and pad if lower\r\n",
        "\r\n",
        "# preprocessing layer (vectorize)\r\n",
        "vectorize_layer = TextVectorization(\r\n",
        "    standardize=custom_standardization,\r\n",
        "    max_tokens=max_features,\r\n",
        "    output_mode='int',\r\n",
        "    output_sequence_length=sequence_length)"
      ],
      "execution_count": 20,
      "outputs": []
    },
    {
      "cell_type": "code",
      "metadata": {
        "id": "09OZXgxj7BRX"
      },
      "source": [
        "# make a text-only dataset (without labels), then call layer.adapt \r\n",
        "# must only use train\r\n",
        "train_text = raw_train_ds.map(lambda x, y: x) # remove label\r\n",
        "vectorize_layer.adapt(train_text) # adapt the preprocess layer"
      ],
      "execution_count": 21,
      "outputs": []
    },
    {
      "cell_type": "code",
      "metadata": {
        "id": "wqYEprMX-Kgw"
      },
      "source": [
        "# # create function to vectorize dataset to vector of tokens\r\n",
        "# def vectorize_text(text, label):\r\n",
        "#     \"\"\"\r\n",
        "#     Since dataset is in (text, label) format, the input and output of the \r\n",
        "#     function must be identical.\r\n",
        "#     \"\"\"\r\n",
        "#     text = tf.expand_dims(text, -1) # convert one text to batch of 1 text\r\n",
        "#     return vectorize_layer(text), label"
      ],
      "execution_count": 22,
      "outputs": []
    },
    {
      "cell_type": "code",
      "metadata": {
        "id": "1pZb977aDW8K"
      },
      "source": [
        "class CustomVectorizeFunction:\r\n",
        "    \"\"\"\r\n",
        "    Class for converting layer into map function.\r\n",
        "    \"\"\"\r\n",
        "    def __init__(self, layer):\r\n",
        "       self.layer = layer\r\n",
        "\r\n",
        "    def __call__(self, text, label):\r\n",
        "        \"\"\"\r\n",
        "        Since dataset is in (text, label) format, the input and output of the \r\n",
        "        vectorize_text function must be identical.\r\n",
        "        \"\"\"\r\n",
        "        text = tf.expand_dims(text, -1) # convert one text to batch of 1 text\r\n",
        "        return self.layer(text), label\r\n",
        "\r\n",
        "vectorize_text = CustomVectorizeFunction(vectorize_layer)"
      ],
      "execution_count": 23,
      "outputs": []
    },
    {
      "cell_type": "markdown",
      "metadata": {
        "id": "Z4VZKGhU-mV-"
      },
      "source": [
        "## Overview of vectorize layer"
      ]
    },
    {
      "cell_type": "code",
      "metadata": {
        "colab": {
          "base_uri": "https://localhost:8080/"
        },
        "id": "dHL1rJgQ-T4f",
        "outputId": "b2c8fc4d-b28a-437f-f40d-646499718612"
      },
      "source": [
        "# retrieve a batch (of 32 reviews and labels) from the dataset\r\n",
        "text_batch, label_batch = next(iter(raw_train_ds)) # retrive single batch\r\n",
        "first_review, first_label = text_batch[0], label_batch[0] # take first data\r\n",
        "print(\"Review\", first_review)\r\n",
        "print(\"Label\", raw_train_ds.class_names[first_label])"
      ],
      "execution_count": 24,
      "outputs": [
        {
          "output_type": "stream",
          "text": [
            "Review tf.Tensor(b'Silent Night, Deadly Night 5 is the very last of the series, and like part 4, it\\'s unrelated to the first three except by title and the fact that it\\'s a Christmas-themed horror flick.<br /><br />Except to the oblivious, there\\'s some obvious things going on here...Mickey Rooney plays a toymaker named Joe Petto and his creepy son\\'s name is Pino. Ring a bell, anyone? Now, a little boy named Derek heard a knock at the door one evening, and opened it to find a present on the doorstep for him. Even though it said \"don\\'t open till Christmas\", he begins to open it anyway but is stopped by his dad, who scolds him and sends him to bed, and opens the gift himself. Inside is a little red ball that sprouts Santa arms and a head, and proceeds to kill dad. Oops, maybe he should have left well-enough alone. Of course Derek is then traumatized by the incident since he watched it from the stairs, but he doesn\\'t grow up to be some killer Santa, he just stops talking.<br /><br />There\\'s a mysterious stranger lurking around, who seems very interested in the toys that Joe Petto makes. We even see him buying a bunch when Derek\\'s mom takes him to the store to find a gift for him to bring him out of his trauma. And what exactly is this guy doing? Well, we\\'re not sure but he does seem to be taking these toys apart to see what makes them tick. He does keep his landlord from evicting him by promising him to pay him in cash the next day and presents him with a \"Larry the Larvae\" toy for his kid, but of course \"Larry\" is not a good toy and gets out of the box in the car and of course, well, things aren\\'t pretty.<br /><br />Anyway, eventually what\\'s going on with Joe Petto and Pino is of course revealed, and as with the old story, Pino is not a \"real boy\". Pino is probably even more agitated and naughty because he suffers from \"Kenitalia\" (a smooth plastic crotch) so that could account for his evil ways. And the identity of the lurking stranger is revealed too, and there\\'s even kind of a happy ending of sorts. Whee.<br /><br />A step up from part 4, but not much of one. Again, Brian Yuzna is involved, and Screaming Mad George, so some decent special effects, but not enough to make this great. A few leftovers from part 4 are hanging around too, like Clint Howard and Neith Hunter, but that doesn\\'t really make any difference. Anyway, I now have seeing the whole series out of my system. Now if I could get some of it out of my brain. 4 out of 5.', shape=(), dtype=string)\n",
            "Label neg\n"
          ],
          "name": "stdout"
        }
      ]
    },
    {
      "cell_type": "code",
      "metadata": {
        "colab": {
          "base_uri": "https://localhost:8080/"
        },
        "id": "1iLes8SPAT_J",
        "outputId": "9c6f83e5-ade4-4e36-e8c7-e806c7332706"
      },
      "source": [
        "# vectorize_layer outputs are vector with lenght of sequence_length of tokens\r\n",
        "print(\"Vectorized review\", vectorize_text(first_review, first_label))"
      ],
      "execution_count": 25,
      "outputs": [
        {
          "output_type": "stream",
          "text": [
            "Vectorized review (<tf.Tensor: shape=(1, 250), dtype=int64, numpy=\n",
            "array([[1287,  313, 2380,  313,  661,    7,    2,   52,  229,    5,    2,\n",
            "         200,    3,   38,  170,  669,   29, 5492,    6,    2,   83,  297,\n",
            "         549,   32,  410,    3,    2,  186,   12,   29,    4,    1,  191,\n",
            "         510,  549,    6,    2, 8229,  212,   46,  576,  175,  168,   20,\n",
            "           1, 5361,  290,    4,    1,  761,  969,    1,    3,   24,  935,\n",
            "        2271,  393,    7,    1, 1675,    4, 3747,  250,  148,    4,  112,\n",
            "         436,  761, 3529,  548,    4, 3633,   31,    2, 1331,   28, 2096,\n",
            "           3, 2912,    9,    6,  163,    4, 1006,   20,    2,    1,   15,\n",
            "          85,   53,  147,    9,  292,   89,  959, 2314,  984,   27,  762,\n",
            "           6,  959,    9,  564,   18,    7, 2140,   32,   24, 1254,   36,\n",
            "           1,   85,    3, 3298,   85,    6, 1410,    3, 1936,    2, 3408,\n",
            "         301,  965,    7,    4,  112,  740, 1977,   12,    1, 2014, 2772,\n",
            "           3,    4,  428,    3, 5177,    6,  512, 1254,    1,  278,   27,\n",
            "         139,   25,  308,    1,  579,    5,  259, 3529,    7,   92, 8981,\n",
            "          32,    2, 3842,  230,   27,  289,    9,   35,    2, 5712,   18,\n",
            "          27,  144, 2166,   56,    6,   26,   46,  466, 2014,   27,   40,\n",
            "        2745,  657,  212,    4, 1376, 3002, 7080,  183,   36,  180,   52,\n",
            "         920,    8,    2, 4028,   12,  969,    1,  158,   71,   53,   67,\n",
            "          85, 2754,    4,  734,   51,    1, 1611,  294,   85,    6,    2,\n",
            "        1164,    6,  163,    4, 3408,   15,   85,    6,  717,   85,   44,\n",
            "           5,   24, 7158,    3,   48,  604,    7,   11,  225,  384,   73,\n",
            "          65,   21,  242,   18,   27,  120,  295,    6,   26,  667,  129,\n",
            "        4028,  948,    6,   67,   48,  158,   93,    1]])>, <tf.Tensor: shape=(), dtype=int32, numpy=0>)\n"
          ],
          "name": "stdout"
        }
      ]
    },
    {
      "cell_type": "code",
      "metadata": {
        "colab": {
          "base_uri": "https://localhost:8080/"
        },
        "id": "XynQhJNy_C8y",
        "outputId": "7d4c4587-cda9-44b7-cc9e-1a42473bf010"
      },
      "source": [
        "print(\"1287 ---> \",vectorize_layer.get_vocabulary()[1287])\r\n",
        "print(\" 313 ---> \",vectorize_layer.get_vocabulary()[313])\r\n",
        "print('Vocabulary size: {}'.format(len(vectorize_layer.get_vocabulary())))"
      ],
      "execution_count": 26,
      "outputs": [
        {
          "output_type": "stream",
          "text": [
            "1287 --->  silent\n",
            " 313 --->  night\n",
            "Vocabulary size: 10000\n"
          ],
          "name": "stdout"
        }
      ]
    },
    {
      "cell_type": "markdown",
      "metadata": {
        "id": "KlE6WoO8AkZk"
      },
      "source": [
        "## Preprocess train, validation, and test using preprocessing layer"
      ]
    },
    {
      "cell_type": "code",
      "metadata": {
        "id": "ymLOjiz4_wiz"
      },
      "source": [
        "train_ds = raw_train_ds.map(vectorize_text)\r\n",
        "val_ds = raw_val_ds.map(vectorize_text)\r\n",
        "test_ds = raw_test_ds.map(vectorize_text)"
      ],
      "execution_count": 27,
      "outputs": []
    },
    {
      "cell_type": "markdown",
      "metadata": {
        "id": "Jhg7DxXuJAwK"
      },
      "source": [
        "## Configure dataset for performance\r\n",
        "Read more at: https://www.tensorflow.org/guide/data_performance"
      ]
    },
    {
      "cell_type": "code",
      "metadata": {
        "id": "NtfHEBI4FIcS"
      },
      "source": [
        "# cahce() to keeps data in memory after it's loaded off disk\r\n",
        "# prefetch() to overlaps data preprocessing and model execution while training\r\n",
        "AUTOTUNE = tf.data.AUTOTUNE\r\n",
        "\r\n",
        "train_ds = train_ds.cache().prefetch(buffer_size=AUTOTUNE)\r\n",
        "val_ds = val_ds.cache().prefetch(buffer_size=AUTOTUNE)\r\n",
        "test_ds = test_ds.cache().prefetch(buffer_size=AUTOTUNE)"
      ],
      "execution_count": 28,
      "outputs": []
    },
    {
      "cell_type": "markdown",
      "metadata": {
        "id": "4LuMUHY-Jec3"
      },
      "source": [
        "## Build model"
      ]
    },
    {
      "cell_type": "code",
      "metadata": {
        "colab": {
          "base_uri": "https://localhost:8080/"
        },
        "id": "ODvB90CKJnpf",
        "outputId": "c0dabf6e-a9d4-4193-c824-cfb0ac18d860"
      },
      "source": [
        "# Embedding layer used to find vector representation of each tokens\r\n",
        "# GlobalAveragePooling1D used to averaging the vectors into single vector\r\n",
        "\r\n",
        "embedding_dim = 16\r\n",
        "model = tf.keras.Sequential([\r\n",
        "    layers.Embedding(max_features + 1, embedding_dim), # tokens to vectors\r\n",
        "    layers.Dropout(0.2),\r\n",
        "    layers.GlobalAveragePooling1D(), # averaging sequence of vectors \r\n",
        "    layers.Dropout(0.2),\r\n",
        "    layers.Dense(1)]) # binary classification\r\n",
        "\r\n",
        "model.summary()"
      ],
      "execution_count": 29,
      "outputs": [
        {
          "output_type": "stream",
          "text": [
            "Model: \"sequential\"\n",
            "_________________________________________________________________\n",
            "Layer (type)                 Output Shape              Param #   \n",
            "=================================================================\n",
            "embedding (Embedding)        (None, None, 16)          160016    \n",
            "_________________________________________________________________\n",
            "dropout (Dropout)            (None, None, 16)          0         \n",
            "_________________________________________________________________\n",
            "global_average_pooling1d (Gl (None, 16)                0         \n",
            "_________________________________________________________________\n",
            "dropout_1 (Dropout)          (None, 16)                0         \n",
            "_________________________________________________________________\n",
            "dense (Dense)                (None, 1)                 17        \n",
            "=================================================================\n",
            "Total params: 160,033\n",
            "Trainable params: 160,033\n",
            "Non-trainable params: 0\n",
            "_________________________________________________________________\n"
          ],
          "name": "stdout"
        }
      ]
    },
    {
      "cell_type": "code",
      "metadata": {
        "id": "8-_kamyVJrer"
      },
      "source": [
        "# loss using binary cross entropy because the task is binary classification\r\n",
        "loss_fn = losses.BinaryCrossentropy(from_logits=True)\r\n",
        "\r\n",
        "model.compile(loss=loss_fn,\r\n",
        "              optimizer='adam',\r\n",
        "              metrics=tf.metrics.BinaryAccuracy(threshold=0.0))"
      ],
      "execution_count": 30,
      "outputs": []
    },
    {
      "cell_type": "markdown",
      "metadata": {
        "id": "15ec7RTRLput"
      },
      "source": [
        "## Train"
      ]
    },
    {
      "cell_type": "code",
      "metadata": {
        "colab": {
          "base_uri": "https://localhost:8080/"
        },
        "id": "IuTbUgY7LmEX",
        "outputId": "f50eed23-c0cb-4bef-c472-9c2199a408b7"
      },
      "source": [
        "# number of learning iteration\r\n",
        "epochs = 10\r\n",
        "\r\n",
        "# train model\r\n",
        "# save model history to variable\r\n",
        "history = model.fit( \r\n",
        "    train_ds,\r\n",
        "    validation_data=val_ds,\r\n",
        "    epochs=epochs)"
      ],
      "execution_count": 31,
      "outputs": [
        {
          "output_type": "stream",
          "text": [
            "Epoch 1/10\n",
            "625/625 [==============================] - 12s 15ms/step - loss: 0.6809 - binary_accuracy: 0.6188 - val_loss: 0.6138 - val_binary_accuracy: 0.7718\n",
            "Epoch 2/10\n",
            "625/625 [==============================] - 3s 5ms/step - loss: 0.5795 - binary_accuracy: 0.7816 - val_loss: 0.4989 - val_binary_accuracy: 0.8230\n",
            "Epoch 3/10\n",
            "625/625 [==============================] - 3s 5ms/step - loss: 0.4668 - binary_accuracy: 0.8341 - val_loss: 0.4207 - val_binary_accuracy: 0.8472\n",
            "Epoch 4/10\n",
            "625/625 [==============================] - 3s 5ms/step - loss: 0.3917 - binary_accuracy: 0.8602 - val_loss: 0.3740 - val_binary_accuracy: 0.8616\n",
            "Epoch 5/10\n",
            "625/625 [==============================] - 3s 5ms/step - loss: 0.3436 - binary_accuracy: 0.8774 - val_loss: 0.3450 - val_binary_accuracy: 0.8670\n",
            "Epoch 6/10\n",
            "625/625 [==============================] - 3s 5ms/step - loss: 0.3116 - binary_accuracy: 0.8874 - val_loss: 0.3257 - val_binary_accuracy: 0.8710\n",
            "Epoch 7/10\n",
            "625/625 [==============================] - 3s 5ms/step - loss: 0.2845 - binary_accuracy: 0.8973 - val_loss: 0.3123 - val_binary_accuracy: 0.8734\n",
            "Epoch 8/10\n",
            "625/625 [==============================] - 3s 5ms/step - loss: 0.2651 - binary_accuracy: 0.9043 - val_loss: 0.3029 - val_binary_accuracy: 0.8758\n",
            "Epoch 9/10\n",
            "625/625 [==============================] - 3s 5ms/step - loss: 0.2492 - binary_accuracy: 0.9108 - val_loss: 0.2962 - val_binary_accuracy: 0.8770\n",
            "Epoch 10/10\n",
            "625/625 [==============================] - 3s 5ms/step - loss: 0.2343 - binary_accuracy: 0.9149 - val_loss: 0.2917 - val_binary_accuracy: 0.8788\n"
          ],
          "name": "stdout"
        }
      ]
    },
    {
      "cell_type": "markdown",
      "metadata": {
        "id": "sphAehA5LrX3"
      },
      "source": [
        "## Evaluation"
      ]
    },
    {
      "cell_type": "code",
      "metadata": {
        "colab": {
          "base_uri": "https://localhost:8080/"
        },
        "id": "8vlTej8yLxVy",
        "outputId": "b83c7d1f-f942-4b0d-ce6a-bcc236b70c9e"
      },
      "source": [
        "loss, accuracy = model.evaluate(test_ds)\r\n",
        "\r\n",
        "print(\"Loss: \", loss)\r\n",
        "print(\"Accuracy: \", accuracy)"
      ],
      "execution_count": 32,
      "outputs": [
        {
          "output_type": "stream",
          "text": [
            "782/782 [==============================] - 8s 10ms/step - loss: 0.3102 - binary_accuracy: 0.8736\n",
            "Loss:  0.31015297770500183\n",
            "Accuracy:  0.8736400008201599\n"
          ],
          "name": "stdout"
        }
      ]
    },
    {
      "cell_type": "code",
      "metadata": {
        "colab": {
          "base_uri": "https://localhost:8080/"
        },
        "id": "qJ9i88IJLy1K",
        "outputId": "b763412d-cb9f-45dc-f705-b09bd9ed7898"
      },
      "source": [
        "history_dict = history.history\r\n",
        "history_dict.keys()"
      ],
      "execution_count": 33,
      "outputs": [
        {
          "output_type": "execute_result",
          "data": {
            "text/plain": [
              "dict_keys(['loss', 'binary_accuracy', 'val_loss', 'val_binary_accuracy'])"
            ]
          },
          "metadata": {
            "tags": []
          },
          "execution_count": 33
        }
      ]
    },
    {
      "cell_type": "code",
      "metadata": {
        "colab": {
          "base_uri": "https://localhost:8080/",
          "height": 295
        },
        "id": "a7V1LJZOL1sP",
        "outputId": "62217630-37c9-4af3-bced-4f6f538b9e75"
      },
      "source": [
        "acc = history_dict['binary_accuracy']\r\n",
        "val_acc = history_dict['val_binary_accuracy']\r\n",
        "loss = history_dict['loss']\r\n",
        "val_loss = history_dict['val_loss']\r\n",
        "\r\n",
        "epochs = range(1, len(acc) + 1)\r\n",
        "\r\n",
        "# \"bo\" is for \"blue dot\"\r\n",
        "plt.plot(epochs, loss, 'bo', label='Training loss')\r\n",
        "# b is for \"solid blue line\"\r\n",
        "plt.plot(epochs, val_loss, 'b', label='Validation loss')\r\n",
        "plt.title('Training and validation loss')\r\n",
        "plt.xlabel('Epochs')\r\n",
        "plt.ylabel('Loss')\r\n",
        "plt.legend()\r\n",
        "\r\n",
        "plt.show()"
      ],
      "execution_count": 34,
      "outputs": [
        {
          "output_type": "display_data",
          "data": {
            "image/png": "[encoded data removed]",
            "text/plain": [
              "<Figure size 432x288 with 1 Axes>"
            ]
          },
          "metadata": {
            "tags": [],
            "needs_background": "light"
          }
        }
      ]
    },
    {
      "cell_type": "code",
      "metadata": {
        "colab": {
          "base_uri": "https://localhost:8080/",
          "height": 295
        },
        "id": "ejB6H2f1Meu9",
        "outputId": "e30ef906-d56d-445a-eedc-9ebd3ec26fb4"
      },
      "source": [
        "plt.plot(epochs, acc, 'bo', label='Training acc')\r\n",
        "plt.plot(epochs, val_acc, 'b', label='Validation acc')\r\n",
        "plt.title('Training and validation accuracy')\r\n",
        "plt.xlabel('Epochs')\r\n",
        "plt.ylabel('Accuracy')\r\n",
        "plt.legend(loc='lower right')\r\n",
        "\r\n",
        "plt.show()"
      ],
      "execution_count": 35,
      "outputs": [
        {
          "output_type": "display_data",
          "data": {
            "image/png": "[encoded data removed]",
            "text/plain": [
              "<Figure size 432x288 with 1 Axes>"
            ]
          },
          "metadata": {
            "tags": [],
            "needs_background": "light"
          }
        }
      ]
    },
    {
      "cell_type": "markdown",
      "metadata": {
        "id": "qSMMQ8NXL-93"
      },
      "source": [
        "## Compile model for deployment (include preprocessing and sigmoid layer)"
      ]
    },
    {
      "cell_type": "code",
      "metadata": {
        "id": "QPR5_JC1M8sj"
      },
      "source": [
        "export_model = tf.keras.Sequential([\r\n",
        "    vectorize_layer,\r\n",
        "    model,\r\n",
        "    layers.Activation('sigmoid') # convert logits to probability\r\n",
        "])\r\n",
        "\r\n",
        "export_model.compile(\r\n",
        "    loss=losses.BinaryCrossentropy(from_logits=False),\r\n",
        "    optimizer=\"adam\",\r\n",
        "    metrics=['accuracy']\r\n",
        ")"
      ],
      "execution_count": 36,
      "outputs": []
    },
    {
      "cell_type": "code",
      "metadata": {
        "colab": {
          "base_uri": "https://localhost:8080/"
        },
        "id": "mOP6Z6-0NUF7",
        "outputId": "f9723607-4819-4c3a-eaff-66602f09a7d9"
      },
      "source": [
        "# Test compiled model (including preprocessing) with `raw_test_ds`\r\n",
        "# `raw_test_ds` yields raw strings\r\n",
        "loss, accuracy = export_model.evaluate(raw_test_ds)\r\n",
        "print(accuracy)"
      ],
      "execution_count": 37,
      "outputs": [
        {
          "output_type": "stream",
          "text": [
            "782/782 [==============================] - 9s 11ms/step - loss: 0.3089 - accuracy: 0.8743\n",
            "0.8736400008201599\n"
          ],
          "name": "stdout"
        }
      ]
    },
    {
      "cell_type": "code",
      "metadata": {
        "colab": {
          "base_uri": "https://localhost:8080/"
        },
        "id": "ma1EILO1NI9G",
        "outputId": "2cd30a6b-acf1-41af-fa61-be172fb221a3"
      },
      "source": [
        "# predict (probability)\r\n",
        "examples = [\r\n",
        "  \"The movie was great!\",\r\n",
        "  \"The movie was okay.\",\r\n",
        "  \"The movie was terrible...\"\r\n",
        "]\r\n",
        "\r\n",
        "export_model.predict(examples)"
      ],
      "execution_count": 38,
      "outputs": [
        {
          "output_type": "execute_result",
          "data": {
            "text/plain": [
              "array([[0.6292517 ],\n",
              "       [0.4516487 ],\n",
              "       [0.36883047]], dtype=float32)"
            ]
          },
          "metadata": {
            "tags": []
          },
          "execution_count": 38
        }
      ]
    },
    {
      "cell_type": "code",
      "metadata": {
        "colab": {
          "base_uri": "https://localhost:8080/"
        },
        "id": "OLZ7rORmO5IO",
        "outputId": "57270a71-db66-465b-8c6d-c2f2e3b7004f"
      },
      "source": [
        "# predict (class)\r\n",
        "prediction = tf.round(export_model.predict(examples)) # using 0.5 as threshold\r\n",
        "prediction"
      ],
      "execution_count": 39,
      "outputs": [
        {
          "output_type": "execute_result",
          "data": {
            "text/plain": [
              "<tf.Tensor: shape=(3, 1), dtype=float32, numpy=\n",
              "array([[1.],\n",
              "       [0.],\n",
              "       [0.]], dtype=float32)>"
            ]
          },
          "metadata": {
            "tags": []
          },
          "execution_count": 39
        }
      ]
    }
  ]
}