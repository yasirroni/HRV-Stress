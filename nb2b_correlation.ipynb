{
 "cells": [
  {
   "cell_type": "markdown",
   "metadata": {},
   "source": [
    "# HRV-Stress_correlation"
   ]
  },
  {
   "cell_type": "markdown",
   "metadata": {},
   "source": [
    "This part is optional, only used to see the best preprocessing from correlation perpective"
   ]
  },
  {
   "cell_type": "markdown",
   "metadata": {},
   "source": [
    "## kendall correlation"
   ]
  },
  {
   "cell_type": "code",
   "execution_count": 1,
   "metadata": {},
   "outputs": [],
   "source": [
    "from pprint import pprint\n",
    "import pandas as pd\n",
    "import os\n",
    "import os.path as osp"
   ]
  },
  {
   "cell_type": "code",
   "execution_count": 2,
   "metadata": {},
   "outputs": [],
   "source": [
    "path_merged = 'data/collective'\n",
    "file_list = [\n",
    "    'jenks_reaction_time_penalized_inliers_minmax.csv',\n",
    "    'jenks_reaction_time_penalized_minmax.csv',\n",
    "    'jenks_reaction_time_true_inliers_minmax.csv',\n",
    "    'jenks_reaction_time_true_minmax.csv',\n",
    "    'kde_reaction_time_penalized_inliers_minmax.csv',\n",
    "    'kde_reaction_time_penalized_minmax.csv',\n",
    "    'kde_reaction_time_true_inliers_minmax.csv',\n",
    "    'kde_reaction_time_true_minmax.csv',\n",
    "    'kmeans_reaction_time_penalized_inliers_minmax.csv',\n",
    "    'kmeans_reaction_time_penalized_minmax.csv',\n",
    "    'kmeans_reaction_time_true_inliers_minmax.csv',\n",
    "    'kmeans_reaction_time_true_minmax.csv'\n",
    "]"
   ]
  },
  {
   "cell_type": "code",
   "execution_count": 3,
   "metadata": {},
   "outputs": [],
   "source": [
    "# Based on literature, monotonic data with small group options is better analyzed using Kendall's correlation\n",
    "var_60_names = ['mrr_60s', 'mhr_60s', 'sdrr_60s', 'sdhr_60s', 'cvrr_60s', 'rmsd_60s', 'prr20_60s', 'prr50_60s']\n",
    "var_45_names = ['mrr_45s', 'mhr_45s', 'sdrr_45s', 'sdhr_45s', 'cvrr_45s', 'rmsd_45s', 'prr20_45s', 'prr50_45s']\n",
    "var_30_names = ['mrr_30s', 'mhr_30s', 'sdrr_30s', 'sdhr_30s', 'cvrr_30s', 'rmsd_30s', 'prr20_30s', 'prr50_30s']\n",
    "var_15_names = ['mrr_15s', 'mhr_15s', 'sdrr_15s', 'sdhr_15s', 'cvrr_15s', 'rmsd_15s', 'prr20_15s', 'prr50_15s']\n",
    "\n",
    "dict_correlation = {}\n",
    "for file_name in file_list:\n",
    "    dict_correlation[file_name] = {}\n",
    "    df = pd.read_csv(osp.join(path_merged,file_name))\n",
    "    col_names = df.columns\n",
    "    for col_name in col_names:\n",
    "        if 'reaction_time' in col_name:\n",
    "            dict_correlation[file_name][col_name] = {\n",
    "                '60s': {},\n",
    "                '45s': {},\n",
    "                '30s': {},\n",
    "                '15s': {}\n",
    "            }\n",
    "            for var_name in var_60_names:\n",
    "                dict_correlation[file_name][col_name]['60s'][var_name] = df[var_name].corr(df[col_name], method='kendall')\n",
    "            for var_name in var_45_names:\n",
    "                dict_correlation[file_name][col_name]['45s'][var_name] = df[var_name].corr(df[col_name], method='kendall')\n",
    "            for var_name in var_30_names:\n",
    "                dict_correlation[file_name][col_name]['30s'][var_name] = df[var_name].corr(df[col_name], method='kendall')\n",
    "            for var_name in var_15_names:\n",
    "                dict_correlation[file_name][col_name]['15s'][var_name] = df[var_name].corr(df[col_name], method='kendall')"
   ]
  },
  {
   "cell_type": "code",
   "execution_count": 4,
   "metadata": {},
   "outputs": [
    {
     "name": "stdout",
     "output_type": "stream",
     "text": [
      "True\n"
     ]
    }
   ],
   "source": [
    "import pickle\n",
    "\n",
    "with open(osp.join(path_merged,'correlation_kendall.pickle'), 'wb') as handle:\n",
    "    pickle.dump(dict_correlation, handle, protocol=pickle.HIGHEST_PROTOCOL)\n",
    "\n",
    "with open(osp.join(path_merged,'correlation_kendall.pickle'), 'rb') as handle:\n",
    "    dict_correlation_load = pickle.load(handle)\n",
    "\n",
    "print(dict_correlation == dict_correlation_load)\n",
    "\n",
    "try:\n",
    "    if dict_correlation == dict_correlation_load:\n",
    "        dict_correlation = dict_correlation_load\n",
    "except:\n",
    "    dict_correlation = dict_correlation_load"
   ]
  },
  {
   "cell_type": "markdown",
   "metadata": {},
   "source": [
    "## kmeans vs jenks vs kde, 15s vs 30s vs 45s vs 60s"
   ]
  },
  {
   "cell_type": "code",
   "execution_count": 5,
   "metadata": {},
   "outputs": [],
   "source": [
    "import numpy as np"
   ]
  },
  {
   "cell_type": "code",
   "execution_count": 6,
   "metadata": {},
   "outputs": [
    {
     "name": "stdout",
     "output_type": "stream",
     "text": [
      "{'jenks_reaction_time_penalized_minmax.csv': {'15s': 0.017252045395165862,\n",
      "                                              '30s': 0.021419181414563646,\n",
      "                                              '45s': 0.01640679774762485,\n",
      "                                              '60s': 0.01778058594621585},\n",
      " 'kde_reaction_time_penalized_minmax.csv': {'15s': 0.005950508289244217,\n",
      "                                            '30s': 0.003499327749637632,\n",
      "                                            '45s': 0.0032649558409788434,\n",
      "                                            '60s': 0.0011638208516312068},\n",
      " 'kmeans_reaction_time_penalized_minmax.csv': {'15s': 0.013459673126614703,\n",
      "                                               '30s': 0.016463004517018674,\n",
      "                                               '45s': 0.015584569216246447,\n",
      "                                               '60s': 0.018580860045374778}}\n",
      "{'file_name': 'jenks_reaction_time_penalized_minmax.csv',\n",
      " 'score': 0.021419181414563646,\n",
      " 'window_size': '30s'}\n"
     ]
    }
   ],
   "source": [
    "file_names = [\n",
    "    'jenks_reaction_time_penalized_minmax.csv',\n",
    "    'kde_reaction_time_penalized_minmax.csv',\n",
    "    'kmeans_reaction_time_penalized_minmax.csv',\n",
    "]\n",
    "\n",
    "best_score = 0\n",
    "dict_correlation_comparison = {}\n",
    "for file_name in file_names:\n",
    "    dict_correlation_comparison[file_name] = {}\n",
    "    for window_size, value in dict_correlation[file_name]['reaction_time'].items():\n",
    "        score_temp = []\n",
    "        for variable, score in value.items():\n",
    "            if 'mrr' in variable:\n",
    "                score_temp.append(score) # correlation must be possitive for mrr\n",
    "            else:\n",
    "                score_temp.append(-1 * score) # correlation must be possitive for not mrr\n",
    "                \n",
    "        mean_correlation_of_all_variable = np.mean(score_temp)\n",
    "        dict_correlation_comparison[file_name][window_size] = mean_correlation_of_all_variable\n",
    "        if mean_correlation_of_all_variable > best_score:\n",
    "            best_score = mean_correlation_of_all_variable\n",
    "            best_correlation = {\n",
    "                'file_name': file_name,\n",
    "                'window_size': window_size,\n",
    "                'score': np.mean(score_temp)\n",
    "            }\n",
    "pprint(dict_correlation_comparison)\n",
    "pprint(best_correlation)"
   ]
  },
  {
   "cell_type": "code",
   "execution_count": 7,
   "metadata": {},
   "outputs": [
    {
     "name": "stdout",
     "output_type": "stream",
     "text": [
      "{'cvrr_30s': -0.022200745235003233,\n",
      " 'mhr_30s': -0.032943362513045256,\n",
      " 'mrr_30s': 0.03215259805531322,\n",
      " 'prr20_30s': -0.009568232243579772,\n",
      " 'prr50_30s': -0.013542319558146434,\n",
      " 'rmsd_30s': -0.03131453904844864,\n",
      " 'sdhr_30s': -0.015497253245815619,\n",
      " 'sdrr_30s': -0.014134401417156979}\n"
     ]
    }
   ],
   "source": [
    "pprint(dict_correlation[best_correlation['file_name']]['reaction_time'][best_correlation['window_size']])"
   ]
  },
  {
   "cell_type": "markdown",
   "metadata": {},
   "source": [
    "## inlier only vs with outlier, correct answer only vs with wrong anser"
   ]
  },
  {
   "cell_type": "code",
   "execution_count": 8,
   "metadata": {},
   "outputs": [
    {
     "name": "stdout",
     "output_type": "stream",
     "text": [
      "{'jenks_reaction_time_penalized_inliers_minmax.csv': {'30s': 0.00023682574902131933},\n",
      " 'jenks_reaction_time_penalized_minmax.csv': {'30s': 0.021419181414563646},\n",
      " 'jenks_reaction_time_true_inliers_minmax.csv': {'30s': 0.004632219987139257},\n",
      " 'jenks_reaction_time_true_minmax.csv': {'30s': 0.014766132774288556}}\n",
      "{'file_name': 'jenks_reaction_time_penalized_minmax.csv',\n",
      " 'score': 0.021419181414563646}\n"
     ]
    }
   ],
   "source": [
    "file_names = [\n",
    "    'jenks_reaction_time_true_minmax.csv',\n",
    "    'jenks_reaction_time_penalized_minmax.csv',\n",
    "    'jenks_reaction_time_true_inliers_minmax.csv',\n",
    "    'jenks_reaction_time_penalized_inliers_minmax.csv',\n",
    "]\n",
    "\n",
    "best_score = 0\n",
    "dict_preprocess_comparison = {}\n",
    "for file_name in file_names:\n",
    "    dict_preprocess_comparison[file_name] = {}\n",
    "    for window_size, value in dict_correlation[file_name]['reaction_time'].items():\n",
    "        if window_size == best_correlation['window_size']:\n",
    "            score_temp = []\n",
    "            for variable, score in value.items():\n",
    "                if 'mrr' in variable:\n",
    "                    score_temp.append(score) # correlation must be possitive for mrr\n",
    "                else:\n",
    "                    score_temp.append(-1 * score) # correlation must be possitive for not mrr\n",
    "\n",
    "            mean_correlation_of_all_variable = np.mean(score_temp)\n",
    "            dict_preprocess_comparison[file_name][best_correlation['window_size']] = mean_correlation_of_all_variable\n",
    "            if mean_correlation_of_all_variable > best_score:\n",
    "                best_score = mean_correlation_of_all_variable\n",
    "                best_preprocess = {\n",
    "                    'file_name': file_name,\n",
    "                    'score': np.mean(score_temp)\n",
    "                }\n",
    "pprint(dict_preprocess_comparison)\n",
    "pprint(best_preprocess)"
   ]
  },
  {
   "cell_type": "markdown",
   "metadata": {},
   "source": [
    "## penalty score"
   ]
  },
  {
   "cell_type": "code",
   "execution_count": 9,
   "metadata": {},
   "outputs": [
    {
     "name": "stdout",
     "output_type": "stream",
     "text": [
      "{'jenks_reaction_time_penalized_minmax.csv': {'reaction_time': {'30s': 0.021419181414563646},\n",
      "                                              'reaction_time_penalized_1.1': {'30s': 0.021380951204400908},\n",
      "                                              'reaction_time_penalized_1.2': {'30s': 0.018985092963250752},\n",
      "                                              'reaction_time_penalized_1.3': {'30s': 0.019360995685245228},\n",
      "                                              'reaction_time_penalized_1.4': {'30s': 0.018467759100209355},\n",
      "                                              'reaction_time_penalized_1.5': {'30s': 0.017990574321107317},\n",
      "                                              'reaction_time_penalized_1.6': {'30s': 0.01901317259252109},\n",
      "                                              'reaction_time_penalized_1.7': {'30s': 0.01744853358383054},\n",
      "                                              'reaction_time_penalized_1.8': {'30s': 0.015823268106674313},\n",
      "                                              'reaction_time_penalized_1.9': {'30s': 0.01589331222671647},\n",
      "                                              'reaction_time_penalized_2.0': {'30s': 0.014365337697065828}}}\n",
      "{'file_name': 'jenks_reaction_time_penalized_minmax.csv',\n",
      " 'penalty_score': 'reaction_time',\n",
      " 'score': 0.021419181414563646}\n"
     ]
    }
   ],
   "source": [
    "file_name = 'jenks_reaction_time_penalized_minmax.csv'\n",
    "\n",
    "best_score = 0\n",
    "dict_penalty_comparison = {}\n",
    "dict_penalty_comparison[file_name] = {}\n",
    "for penalty_score in dict_correlation[file_name]:\n",
    "    score_temp = []\n",
    "    dict_penalty_comparison[file_name][penalty_score] = {}\n",
    "    for variable, score in dict_correlation[file_name][penalty_score][best_correlation['window_size']].items():\n",
    "        if 'mrr' in variable:\n",
    "            score_temp.append(score) # correlation must be possitive for mrr\n",
    "        else:\n",
    "            score_temp.append(-1 * score) # correlation must be possitive for not mrr\n",
    "\n",
    "    mean_correlation_of_all_variable = np.mean(score_temp)\n",
    "    dict_penalty_comparison[file_name][penalty_score][best_correlation['window_size']] = mean_correlation_of_all_variable\n",
    "    if mean_correlation_of_all_variable > best_score:\n",
    "        best_score = mean_correlation_of_all_variable\n",
    "        best_preprocess = {\n",
    "            'file_name': file_name,\n",
    "            'penalty_score': penalty_score,\n",
    "            'score': np.mean(score_temp)\n",
    "        }\n",
    "pprint(dict_penalty_comparison)\n",
    "pprint(best_preprocess)"
   ]
  },
  {
   "cell_type": "markdown",
   "metadata": {},
   "source": [
    "## complete correlation"
   ]
  },
  {
   "cell_type": "code",
   "execution_count": 11,
   "metadata": {},
   "outputs": [
    {
     "name": "stdout",
     "output_type": "stream",
     "text": [
      "{'kendall': {'cvrr_30s': -0.022200745235003233,\n",
      "             'mhr_30s': -0.032943362513045256,\n",
      "             'mrr_30s': 0.03215259805531322,\n",
      "             'prr20_30s': -0.009568232243579772,\n",
      "             'prr50_30s': -0.013542319558146434,\n",
      "             'rmsd_30s': -0.03131453904844864,\n",
      "             'sdhr_30s': -0.015497253245815619,\n",
      "             'sdrr_30s': -0.014134401417156979},\n",
      " 'pearson': {'cvrr_30s': -0.03424322355972337,\n",
      "             'mhr_30s': -0.034839075517401,\n",
      "             'mrr_30s': 0.02921929824430517,\n",
      "             'prr20_30s': -0.015109365152852246,\n",
      "             'prr50_30s': -0.022452736962043533,\n",
      "             'rmsd_30s': -0.04421784971177618,\n",
      "             'sdhr_30s': -0.024200335004843726,\n",
      "             'sdrr_30s': -0.026716773923412818},\n",
      " 'spearman': {'cvrr_30s': -0.02821781696499679,\n",
      "              'mhr_30s': -0.04197000544662074,\n",
      "              'mrr_30s': 0.041037742219652805,\n",
      "              'prr20_30s': -0.012218333557801948,\n",
      "              'prr50_30s': -0.017237023721110665,\n",
      "              'rmsd_30s': -0.039872749294595174,\n",
      "              'sdhr_30s': -0.019673230077406397,\n",
      "              'sdrr_30s': -0.01793226280967116}}\n"
     ]
    }
   ],
   "source": [
    "file_name = best_preprocess['file_name']\n",
    "if best_correlation['window_size'] == '15s':\n",
    "    var_names = ['mrr_15s', 'mhr_15s', 'sdrr_15s', 'sdhr_15s', 'cvrr_15s', 'rmsd_15s', 'prr20_15s', 'prr50_15s']\n",
    "elif best_correlation['window_size'] == '30s':\n",
    "    var_names = ['mrr_30s', 'mhr_30s', 'sdrr_30s', 'sdhr_30s', 'cvrr_30s', 'rmsd_30s', 'prr20_30s', 'prr50_30s']\n",
    "elif best_correlation['window_size'] == '45s':\n",
    "    var_names = ['mrr_45s', 'mhr_45s', 'sdrr_45s', 'sdhr_45s', 'cvrr_45s', 'rmsd_45s', 'prr20_45s', 'prr50_45s']\n",
    "else:\n",
    "    var_names = ['mrr_60s', 'mhr_60s', 'sdrr_60s', 'sdhr_60s', 'cvrr_60s', 'rmsd_60s', 'prr20_60s', 'prr50_60s']\n",
    "label_name = best_preprocess['penalty_score']\n",
    "dict_correlation = {\n",
    "    'pearson': {}, # Pearson's r\n",
    "    'spearman': {}, # Spearman's rho\n",
    "    'kendall': {} # Kendall's tau\n",
    "}\n",
    "df = pd.read_csv(osp.join(path_merged,file_name))\n",
    "for var_name in var_names:\n",
    "    dict_correlation['pearson'][var_name] = df[var_name].corr(df[label_name], method='pearson')\n",
    "    dict_correlation['spearman'][var_name] = df[var_name].corr(df[label_name], method='spearman')    \n",
    "    dict_correlation['kendall'][var_name] = df[var_name].corr(df[label_name], method='kendall')\n",
    "\n",
    "pprint(dict_correlation)"
   ]
  },
  {
   "cell_type": "code",
   "execution_count": null,
   "metadata": {},
   "outputs": [],
   "source": []
  }
 ],
 "metadata": {
  "kernelspec": {
   "display_name": "Python 3",
   "language": "python",
   "name": "python3"
  },
  "language_info": {
   "codemirror_mode": {
    "name": "ipython",
    "version": 3
   },
   "file_extension": ".py",
   "mimetype": "text/x-python",
   "name": "python",
   "nbconvert_exporter": "python",
   "pygments_lexer": "ipython3",
   "version": "3.7.4"
  },
  "widgets": {
   "application/vnd.jupyter.widget-state+json": {
    "state": {},
    "version_major": 2,
    "version_minor": 0
   }
  }
 },
 "nbformat": 4,
 "nbformat_minor": 4
}
