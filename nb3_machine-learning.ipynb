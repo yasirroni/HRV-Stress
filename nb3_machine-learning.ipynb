{
 "cells": [
  {
   "cell_type": "markdown",
   "metadata": {},
   "source": [
    "# HRV-Stress_machine-learning"
   ]
  },
  {
   "cell_type": "markdown",
   "metadata": {},
   "source": [
    "## split"
   ]
  },
  {
   "cell_type": "code",
   "execution_count": 26,
   "metadata": {},
   "outputs": [],
   "source": [
    "from sklearn.model_selection import train_test_split\n",
    "import pandas as pd\n",
    "import os.path as osp\n",
    "import os"
   ]
  },
  {
   "cell_type": "code",
   "execution_count": 27,
   "metadata": {},
   "outputs": [],
   "source": [
    "random_state = 0 # for reproducibility\n",
    "test_size = 0.2 # 20% data as test data"
   ]
  },
  {
   "cell_type": "code",
   "execution_count": null,
   "metadata": {},
   "outputs": [],
   "source": [
    "folder_path = 'data/collective'\n",
    "file_name = 'kmeans_reaction_time_penalized_minmax.csv'\n",
    "folder_train = osp.join('data',file_name[:-4],'train')\n",
    "folder_test = osp.join('data',file_name[:-4],'train')\n",
    "folder_result = osp.join('data',file_name[:-4],'result')\n",
    "for f in [folder_train, folder_test, folder_result]:\n",
    "    if not osp.exists(f):\n",
    "        os.makedirs(f)\n",
    "var_names = ['mrr_60s', 'mhr_60s', 'sdrr_60s', 'sdhr_60s', 'cvrr_60s', 'rmsd_60s', 'prr20_60s', 'prr50_60s']\n",
    "label_name = 'reaction_time'"
   ]
  },
  {
   "cell_type": "code",
   "execution_count": 13,
   "metadata": {},
   "outputs": [
    {
     "data": {
      "text/html": [
       "<div>\n",
       "<style scoped>\n",
       "    .dataframe tbody tr th:only-of-type {\n",
       "        vertical-align: middle;\n",
       "    }\n",
       "\n",
       "    .dataframe tbody tr th {\n",
       "        vertical-align: top;\n",
       "    }\n",
       "\n",
       "    .dataframe thead th {\n",
       "        text-align: right;\n",
       "    }\n",
       "</style>\n",
       "<table border=\"1\" class=\"dataframe\">\n",
       "  <thead>\n",
       "    <tr style=\"text-align: right;\">\n",
       "      <th></th>\n",
       "      <th>time_stamp</th>\n",
       "      <th>value</th>\n",
       "      <th>flag</th>\n",
       "      <th>mrr_60s</th>\n",
       "      <th>mhr_60s</th>\n",
       "      <th>sdrr_60s</th>\n",
       "      <th>sdhr_60s</th>\n",
       "      <th>cvrr_60s</th>\n",
       "      <th>rmsd_60s</th>\n",
       "      <th>prr20_60s</th>\n",
       "      <th>...</th>\n",
       "      <th>reaction_time_penalized_1.1</th>\n",
       "      <th>reaction_time_penalized_1.2</th>\n",
       "      <th>reaction_time_penalized_1.3</th>\n",
       "      <th>reaction_time_penalized_1.4</th>\n",
       "      <th>reaction_time_penalized_1.5</th>\n",
       "      <th>reaction_time_penalized_1.6</th>\n",
       "      <th>reaction_time_penalized_1.7</th>\n",
       "      <th>reaction_time_penalized_1.8</th>\n",
       "      <th>reaction_time_penalized_1.9</th>\n",
       "      <th>reaction_time_penalized_2.0</th>\n",
       "    </tr>\n",
       "  </thead>\n",
       "  <tbody>\n",
       "    <tr>\n",
       "      <th>0</th>\n",
       "      <td>1569164462512</td>\n",
       "      <td>1</td>\n",
       "      <td>11</td>\n",
       "      <td>0.400619</td>\n",
       "      <td>0.572105</td>\n",
       "      <td>0.328196</td>\n",
       "      <td>0.291144</td>\n",
       "      <td>0.267566</td>\n",
       "      <td>0.053234</td>\n",
       "      <td>0.308456</td>\n",
       "      <td>...</td>\n",
       "      <td>1</td>\n",
       "      <td>1</td>\n",
       "      <td>1</td>\n",
       "      <td>1</td>\n",
       "      <td>1</td>\n",
       "      <td>1</td>\n",
       "      <td>1</td>\n",
       "      <td>1</td>\n",
       "      <td>1</td>\n",
       "      <td>1</td>\n",
       "    </tr>\n",
       "    <tr>\n",
       "      <th>1</th>\n",
       "      <td>1569164465071</td>\n",
       "      <td>1</td>\n",
       "      <td>11</td>\n",
       "      <td>0.402431</td>\n",
       "      <td>0.561818</td>\n",
       "      <td>0.279335</td>\n",
       "      <td>0.248993</td>\n",
       "      <td>0.195138</td>\n",
       "      <td>0.040226</td>\n",
       "      <td>0.267009</td>\n",
       "      <td>...</td>\n",
       "      <td>1</td>\n",
       "      <td>1</td>\n",
       "      <td>1</td>\n",
       "      <td>1</td>\n",
       "      <td>1</td>\n",
       "      <td>1</td>\n",
       "      <td>1</td>\n",
       "      <td>1</td>\n",
       "      <td>1</td>\n",
       "      <td>1</td>\n",
       "    </tr>\n",
       "    <tr>\n",
       "      <th>2</th>\n",
       "      <td>1569164466257</td>\n",
       "      <td>1</td>\n",
       "      <td>11</td>\n",
       "      <td>0.381155</td>\n",
       "      <td>0.580298</td>\n",
       "      <td>0.255609</td>\n",
       "      <td>0.222233</td>\n",
       "      <td>0.173936</td>\n",
       "      <td>0.018960</td>\n",
       "      <td>0.216945</td>\n",
       "      <td>...</td>\n",
       "      <td>0</td>\n",
       "      <td>0</td>\n",
       "      <td>0</td>\n",
       "      <td>0</td>\n",
       "      <td>0</td>\n",
       "      <td>0</td>\n",
       "      <td>0</td>\n",
       "      <td>0</td>\n",
       "      <td>0</td>\n",
       "      <td>0</td>\n",
       "    </tr>\n",
       "    <tr>\n",
       "      <th>3</th>\n",
       "      <td>1569164467772</td>\n",
       "      <td>1</td>\n",
       "      <td>11</td>\n",
       "      <td>0.353799</td>\n",
       "      <td>0.613410</td>\n",
       "      <td>0.255825</td>\n",
       "      <td>0.263398</td>\n",
       "      <td>0.191623</td>\n",
       "      <td>0.011046</td>\n",
       "      <td>0.166881</td>\n",
       "      <td>...</td>\n",
       "      <td>1</td>\n",
       "      <td>1</td>\n",
       "      <td>1</td>\n",
       "      <td>0</td>\n",
       "      <td>0</td>\n",
       "      <td>0</td>\n",
       "      <td>0</td>\n",
       "      <td>0</td>\n",
       "      <td>0</td>\n",
       "      <td>0</td>\n",
       "    </tr>\n",
       "    <tr>\n",
       "      <th>4</th>\n",
       "      <td>1569164469829</td>\n",
       "      <td>1</td>\n",
       "      <td>11</td>\n",
       "      <td>0.397365</td>\n",
       "      <td>0.572718</td>\n",
       "      <td>0.287726</td>\n",
       "      <td>0.306434</td>\n",
       "      <td>0.210596</td>\n",
       "      <td>0.100096</td>\n",
       "      <td>0.216945</td>\n",
       "      <td>...</td>\n",
       "      <td>1</td>\n",
       "      <td>1</td>\n",
       "      <td>1</td>\n",
       "      <td>1</td>\n",
       "      <td>1</td>\n",
       "      <td>1</td>\n",
       "      <td>1</td>\n",
       "      <td>1</td>\n",
       "      <td>1</td>\n",
       "      <td>1</td>\n",
       "    </tr>\n",
       "  </tbody>\n",
       "</table>\n",
       "<p>5 rows × 46 columns</p>\n",
       "</div>"
      ],
      "text/plain": [
       "      time_stamp  value  flag   mrr_60s   mhr_60s  sdrr_60s  sdhr_60s  \\\n",
       "0  1569164462512      1    11  0.400619  0.572105  0.328196  0.291144   \n",
       "1  1569164465071      1    11  0.402431  0.561818  0.279335  0.248993   \n",
       "2  1569164466257      1    11  0.381155  0.580298  0.255609  0.222233   \n",
       "3  1569164467772      1    11  0.353799  0.613410  0.255825  0.263398   \n",
       "4  1569164469829      1    11  0.397365  0.572718  0.287726  0.306434   \n",
       "\n",
       "   cvrr_60s  rmsd_60s  prr20_60s  ...  reaction_time_penalized_1.1  \\\n",
       "0  0.267566  0.053234   0.308456  ...                            1   \n",
       "1  0.195138  0.040226   0.267009  ...                            1   \n",
       "2  0.173936  0.018960   0.216945  ...                            0   \n",
       "3  0.191623  0.011046   0.166881  ...                            1   \n",
       "4  0.210596  0.100096   0.216945  ...                            1   \n",
       "\n",
       "   reaction_time_penalized_1.2  reaction_time_penalized_1.3  \\\n",
       "0                            1                            1   \n",
       "1                            1                            1   \n",
       "2                            0                            0   \n",
       "3                            1                            1   \n",
       "4                            1                            1   \n",
       "\n",
       "   reaction_time_penalized_1.4  reaction_time_penalized_1.5  \\\n",
       "0                            1                            1   \n",
       "1                            1                            1   \n",
       "2                            0                            0   \n",
       "3                            0                            0   \n",
       "4                            1                            1   \n",
       "\n",
       "   reaction_time_penalized_1.6  reaction_time_penalized_1.7  \\\n",
       "0                            1                            1   \n",
       "1                            1                            1   \n",
       "2                            0                            0   \n",
       "3                            0                            0   \n",
       "4                            1                            1   \n",
       "\n",
       "   reaction_time_penalized_1.8  reaction_time_penalized_1.9  \\\n",
       "0                            1                            1   \n",
       "1                            1                            1   \n",
       "2                            0                            0   \n",
       "3                            0                            0   \n",
       "4                            1                            1   \n",
       "\n",
       "   reaction_time_penalized_2.0  \n",
       "0                            1  \n",
       "1                            1  \n",
       "2                            0  \n",
       "3                            0  \n",
       "4                            1  \n",
       "\n",
       "[5 rows x 46 columns]"
      ]
     },
     "execution_count": 13,
     "metadata": {},
     "output_type": "execute_result"
    }
   ],
   "source": [
    "df = pd.read_csv(osp.join(folder_path,file_name))\n",
    "df.head()"
   ]
  },
  {
   "cell_type": "code",
   "execution_count": 14,
   "metadata": {},
   "outputs": [
    {
     "data": {
      "text/html": [
       "<div>\n",
       "<style scoped>\n",
       "    .dataframe tbody tr th:only-of-type {\n",
       "        vertical-align: middle;\n",
       "    }\n",
       "\n",
       "    .dataframe tbody tr th {\n",
       "        vertical-align: top;\n",
       "    }\n",
       "\n",
       "    .dataframe thead th {\n",
       "        text-align: right;\n",
       "    }\n",
       "</style>\n",
       "<table border=\"1\" class=\"dataframe\">\n",
       "  <thead>\n",
       "    <tr style=\"text-align: right;\">\n",
       "      <th></th>\n",
       "      <th>mrr_60s</th>\n",
       "      <th>mhr_60s</th>\n",
       "      <th>sdrr_60s</th>\n",
       "      <th>sdhr_60s</th>\n",
       "      <th>cvrr_60s</th>\n",
       "      <th>rmsd_60s</th>\n",
       "      <th>prr20_60s</th>\n",
       "      <th>prr50_60s</th>\n",
       "    </tr>\n",
       "  </thead>\n",
       "  <tbody>\n",
       "    <tr>\n",
       "      <th>0</th>\n",
       "      <td>0.400619</td>\n",
       "      <td>0.572105</td>\n",
       "      <td>0.328196</td>\n",
       "      <td>0.291144</td>\n",
       "      <td>0.267566</td>\n",
       "      <td>0.053234</td>\n",
       "      <td>0.308456</td>\n",
       "      <td>0.409420</td>\n",
       "    </tr>\n",
       "    <tr>\n",
       "      <th>1</th>\n",
       "      <td>0.402431</td>\n",
       "      <td>0.561818</td>\n",
       "      <td>0.279335</td>\n",
       "      <td>0.248993</td>\n",
       "      <td>0.195138</td>\n",
       "      <td>0.040226</td>\n",
       "      <td>0.267009</td>\n",
       "      <td>0.420859</td>\n",
       "    </tr>\n",
       "    <tr>\n",
       "      <th>2</th>\n",
       "      <td>0.381155</td>\n",
       "      <td>0.580298</td>\n",
       "      <td>0.255609</td>\n",
       "      <td>0.222233</td>\n",
       "      <td>0.173936</td>\n",
       "      <td>0.018960</td>\n",
       "      <td>0.216945</td>\n",
       "      <td>0.385077</td>\n",
       "    </tr>\n",
       "    <tr>\n",
       "      <th>3</th>\n",
       "      <td>0.353799</td>\n",
       "      <td>0.613410</td>\n",
       "      <td>0.255825</td>\n",
       "      <td>0.263398</td>\n",
       "      <td>0.191623</td>\n",
       "      <td>0.011046</td>\n",
       "      <td>0.166881</td>\n",
       "      <td>0.385077</td>\n",
       "    </tr>\n",
       "    <tr>\n",
       "      <th>4</th>\n",
       "      <td>0.397365</td>\n",
       "      <td>0.572718</td>\n",
       "      <td>0.287726</td>\n",
       "      <td>0.306434</td>\n",
       "      <td>0.210596</td>\n",
       "      <td>0.100096</td>\n",
       "      <td>0.216945</td>\n",
       "      <td>0.492422</td>\n",
       "    </tr>\n",
       "  </tbody>\n",
       "</table>\n",
       "</div>"
      ],
      "text/plain": [
       "    mrr_60s   mhr_60s  sdrr_60s  sdhr_60s  cvrr_60s  rmsd_60s  prr20_60s  \\\n",
       "0  0.400619  0.572105  0.328196  0.291144  0.267566  0.053234   0.308456   \n",
       "1  0.402431  0.561818  0.279335  0.248993  0.195138  0.040226   0.267009   \n",
       "2  0.381155  0.580298  0.255609  0.222233  0.173936  0.018960   0.216945   \n",
       "3  0.353799  0.613410  0.255825  0.263398  0.191623  0.011046   0.166881   \n",
       "4  0.397365  0.572718  0.287726  0.306434  0.210596  0.100096   0.216945   \n",
       "\n",
       "   prr50_60s  \n",
       "0   0.409420  \n",
       "1   0.420859  \n",
       "2   0.385077  \n",
       "3   0.385077  \n",
       "4   0.492422  "
      ]
     },
     "execution_count": 14,
     "metadata": {},
     "output_type": "execute_result"
    }
   ],
   "source": [
    "x_raw = df[var_names]\n",
    "x_raw.head()"
   ]
  },
  {
   "cell_type": "code",
   "execution_count": 16,
   "metadata": {},
   "outputs": [
    {
     "data": {
      "text/plain": [
       "0    1\n",
       "1    1\n",
       "2    0\n",
       "3    0\n",
       "4    1\n",
       "Name: reaction_time, dtype: int64"
      ]
     },
     "execution_count": 16,
     "metadata": {},
     "output_type": "execute_result"
    }
   ],
   "source": [
    "y_raw = df[label_name]\n",
    "y_raw.head()"
   ]
  },
  {
   "cell_type": "code",
   "execution_count": 17,
   "metadata": {},
   "outputs": [],
   "source": [
    "x_train, x_test, y_train, y_test = train_test_split(x_raw,y_raw, test_size=test_size, random_state=random_state)"
   ]
  },
  {
   "cell_type": "code",
   "execution_count": 18,
   "metadata": {},
   "outputs": [
    {
     "data": {
      "text/html": [
       "<div>\n",
       "<style scoped>\n",
       "    .dataframe tbody tr th:only-of-type {\n",
       "        vertical-align: middle;\n",
       "    }\n",
       "\n",
       "    .dataframe tbody tr th {\n",
       "        vertical-align: top;\n",
       "    }\n",
       "\n",
       "    .dataframe thead th {\n",
       "        text-align: right;\n",
       "    }\n",
       "</style>\n",
       "<table border=\"1\" class=\"dataframe\">\n",
       "  <thead>\n",
       "    <tr style=\"text-align: right;\">\n",
       "      <th></th>\n",
       "      <th>mrr_60s</th>\n",
       "      <th>mhr_60s</th>\n",
       "      <th>sdrr_60s</th>\n",
       "      <th>sdhr_60s</th>\n",
       "      <th>cvrr_60s</th>\n",
       "      <th>rmsd_60s</th>\n",
       "      <th>prr20_60s</th>\n",
       "      <th>prr50_60s</th>\n",
       "    </tr>\n",
       "  </thead>\n",
       "  <tbody>\n",
       "    <tr>\n",
       "      <th>34171</th>\n",
       "      <td>0.738537</td>\n",
       "      <td>0.278648</td>\n",
       "      <td>0.723011</td>\n",
       "      <td>0.630241</td>\n",
       "      <td>0.581309</td>\n",
       "      <td>0.769934</td>\n",
       "      <td>0.691754</td>\n",
       "      <td>0.919065</td>\n",
       "    </tr>\n",
       "    <tr>\n",
       "      <th>33875</th>\n",
       "      <td>0.417820</td>\n",
       "      <td>0.525315</td>\n",
       "      <td>0.534335</td>\n",
       "      <td>0.658860</td>\n",
       "      <td>0.556599</td>\n",
       "      <td>0.220470</td>\n",
       "      <td>0.686943</td>\n",
       "      <td>0.754920</td>\n",
       "    </tr>\n",
       "    <tr>\n",
       "      <th>34393</th>\n",
       "      <td>0.746211</td>\n",
       "      <td>0.271179</td>\n",
       "      <td>0.612327</td>\n",
       "      <td>0.667195</td>\n",
       "      <td>0.497825</td>\n",
       "      <td>0.392708</td>\n",
       "      <td>0.508748</td>\n",
       "      <td>0.511263</td>\n",
       "    </tr>\n",
       "    <tr>\n",
       "      <th>35749</th>\n",
       "      <td>0.185534</td>\n",
       "      <td>0.854455</td>\n",
       "      <td>0.626883</td>\n",
       "      <td>0.816531</td>\n",
       "      <td>0.745015</td>\n",
       "      <td>0.686790</td>\n",
       "      <td>0.723570</td>\n",
       "      <td>0.771346</td>\n",
       "    </tr>\n",
       "    <tr>\n",
       "      <th>1650</th>\n",
       "      <td>0.349898</td>\n",
       "      <td>0.670276</td>\n",
       "      <td>0.657452</td>\n",
       "      <td>0.672614</td>\n",
       "      <td>0.703550</td>\n",
       "      <td>0.537005</td>\n",
       "      <td>0.909973</td>\n",
       "      <td>0.679408</td>\n",
       "    </tr>\n",
       "  </tbody>\n",
       "</table>\n",
       "</div>"
      ],
      "text/plain": [
       "        mrr_60s   mhr_60s  sdrr_60s  sdhr_60s  cvrr_60s  rmsd_60s  prr20_60s  \\\n",
       "34171  0.738537  0.278648  0.723011  0.630241  0.581309  0.769934   0.691754   \n",
       "33875  0.417820  0.525315  0.534335  0.658860  0.556599  0.220470   0.686943   \n",
       "34393  0.746211  0.271179  0.612327  0.667195  0.497825  0.392708   0.508748   \n",
       "35749  0.185534  0.854455  0.626883  0.816531  0.745015  0.686790   0.723570   \n",
       "1650   0.349898  0.670276  0.657452  0.672614  0.703550  0.537005   0.909973   \n",
       "\n",
       "       prr50_60s  \n",
       "34171   0.919065  \n",
       "33875   0.754920  \n",
       "34393   0.511263  \n",
       "35749   0.771346  \n",
       "1650    0.679408  "
      ]
     },
     "execution_count": 18,
     "metadata": {},
     "output_type": "execute_result"
    }
   ],
   "source": [
    "x_train.head()"
   ]
  },
  {
   "cell_type": "code",
   "execution_count": 19,
   "metadata": {},
   "outputs": [
    {
     "data": {
      "text/plain": [
       "34171    1\n",
       "33875    2\n",
       "34393    0\n",
       "35749    0\n",
       "1650     1\n",
       "Name: reaction_time, dtype: int64"
      ]
     },
     "execution_count": 19,
     "metadata": {},
     "output_type": "execute_result"
    }
   ],
   "source": [
    "y_train.head()"
   ]
  },
  {
   "cell_type": "code",
   "execution_count": 20,
   "metadata": {},
   "outputs": [
    {
     "data": {
      "text/html": [
       "<div>\n",
       "<style scoped>\n",
       "    .dataframe tbody tr th:only-of-type {\n",
       "        vertical-align: middle;\n",
       "    }\n",
       "\n",
       "    .dataframe tbody tr th {\n",
       "        vertical-align: top;\n",
       "    }\n",
       "\n",
       "    .dataframe thead th {\n",
       "        text-align: right;\n",
       "    }\n",
       "</style>\n",
       "<table border=\"1\" class=\"dataframe\">\n",
       "  <thead>\n",
       "    <tr style=\"text-align: right;\">\n",
       "      <th></th>\n",
       "      <th>mrr_60s</th>\n",
       "      <th>mhr_60s</th>\n",
       "      <th>sdrr_60s</th>\n",
       "      <th>sdhr_60s</th>\n",
       "      <th>cvrr_60s</th>\n",
       "      <th>rmsd_60s</th>\n",
       "      <th>prr20_60s</th>\n",
       "      <th>prr50_60s</th>\n",
       "    </tr>\n",
       "  </thead>\n",
       "  <tbody>\n",
       "    <tr>\n",
       "      <th>1067</th>\n",
       "      <td>0.810535</td>\n",
       "      <td>0.191905</td>\n",
       "      <td>0.232769</td>\n",
       "      <td>0.340887</td>\n",
       "      <td>0.220255</td>\n",
       "      <td>0.104629</td>\n",
       "      <td>0.214326</td>\n",
       "      <td>0.184139</td>\n",
       "    </tr>\n",
       "    <tr>\n",
       "      <th>16169</th>\n",
       "      <td>0.160288</td>\n",
       "      <td>0.847732</td>\n",
       "      <td>0.350099</td>\n",
       "      <td>0.347557</td>\n",
       "      <td>0.490402</td>\n",
       "      <td>0.324163</td>\n",
       "      <td>0.219500</td>\n",
       "      <td>0.283961</td>\n",
       "    </tr>\n",
       "    <tr>\n",
       "      <th>21579</th>\n",
       "      <td>0.502371</td>\n",
       "      <td>0.466091</td>\n",
       "      <td>0.719579</td>\n",
       "      <td>0.717535</td>\n",
       "      <td>0.827895</td>\n",
       "      <td>0.501121</td>\n",
       "      <td>0.778710</td>\n",
       "      <td>0.459461</td>\n",
       "    </tr>\n",
       "    <tr>\n",
       "      <th>15936</th>\n",
       "      <td>0.823571</td>\n",
       "      <td>0.132086</td>\n",
       "      <td>0.762655</td>\n",
       "      <td>0.545665</td>\n",
       "      <td>0.470358</td>\n",
       "      <td>0.743121</td>\n",
       "      <td>0.481907</td>\n",
       "      <td>0.731085</td>\n",
       "    </tr>\n",
       "    <tr>\n",
       "      <th>33162</th>\n",
       "      <td>0.539154</td>\n",
       "      <td>0.344912</td>\n",
       "      <td>0.429476</td>\n",
       "      <td>0.470999</td>\n",
       "      <td>0.393030</td>\n",
       "      <td>0.530836</td>\n",
       "      <td>0.590579</td>\n",
       "      <td>0.678343</td>\n",
       "    </tr>\n",
       "  </tbody>\n",
       "</table>\n",
       "</div>"
      ],
      "text/plain": [
       "        mrr_60s   mhr_60s  sdrr_60s  sdhr_60s  cvrr_60s  rmsd_60s  prr20_60s  \\\n",
       "1067   0.810535  0.191905  0.232769  0.340887  0.220255  0.104629   0.214326   \n",
       "16169  0.160288  0.847732  0.350099  0.347557  0.490402  0.324163   0.219500   \n",
       "21579  0.502371  0.466091  0.719579  0.717535  0.827895  0.501121   0.778710   \n",
       "15936  0.823571  0.132086  0.762655  0.545665  0.470358  0.743121   0.481907   \n",
       "33162  0.539154  0.344912  0.429476  0.470999  0.393030  0.530836   0.590579   \n",
       "\n",
       "       prr50_60s  \n",
       "1067    0.184139  \n",
       "16169   0.283961  \n",
       "21579   0.459461  \n",
       "15936   0.731085  \n",
       "33162   0.678343  "
      ]
     },
     "execution_count": 20,
     "metadata": {},
     "output_type": "execute_result"
    }
   ],
   "source": [
    "x_test.head()"
   ]
  },
  {
   "cell_type": "code",
   "execution_count": 21,
   "metadata": {},
   "outputs": [
    {
     "data": {
      "text/plain": [
       "1067     0\n",
       "16169    1\n",
       "21579    1\n",
       "15936    2\n",
       "33162    0\n",
       "Name: reaction_time, dtype: int64"
      ]
     },
     "execution_count": 21,
     "metadata": {},
     "output_type": "execute_result"
    }
   ],
   "source": [
    "y_test.head()"
   ]
  },
  {
   "cell_type": "markdown",
   "metadata": {},
   "source": [
    "## save test and train data to csv"
   ]
  },
  {
   "cell_type": "code",
   "execution_count": 29,
   "metadata": {},
   "outputs": [],
   "source": [
    "x_train.to_csv(osp.join(folder_train,'x_train.csv'),index=False)\n",
    "y_train.to_csv(osp.join(folder_train,'y_train.csv'),index=False)\n",
    "x_test.to_csv(osp.join(folder_test,'x_test.csv'),index=False)\n",
    "y_test.to_csv(osp.join(folder_test,'y_test.csv'),index=False)"
   ]
  },
  {
   "cell_type": "markdown",
   "metadata": {},
   "source": [
    "## evaluation function"
   ]
  },
  {
   "cell_type": "code",
   "execution_count": 44,
   "metadata": {},
   "outputs": [],
   "source": [
    "from pprint import pprint"
   ]
  },
  {
   "cell_type": "code",
   "execution_count": 30,
   "metadata": {},
   "outputs": [],
   "source": [
    "from sklearn.metrics import r2_score, accuracy_score\n",
    "import numpy as np\n",
    "\n",
    "def evaluate(y_true, y_predict, complete=False):\n",
    "    accuracy = accuracy_score(y_true, y_predict)\n",
    "    if complete:\n",
    "        n = len(y_true)\n",
    "        errors = abs(y_predict - y_true)\n",
    "        mean_absolute_error = sum(errors) / n\n",
    "        mean_squared_error = sum(np.power(errors,2)) / n\n",
    "        root_mean_squared_error = np.sqrt(mean_squared_error)\n",
    "        mean_absolute_percentage_error = sum(errors / y_true) / n\n",
    "        accuracy_mape =  1 - mean_absolute_percentage_error\n",
    "        r_square = r2_score(y_true, y_predict)\n",
    "\n",
    "        return {\n",
    "            'mean_absolute_error': mean_absolute_error,\n",
    "            'mean_squared_error': mean_squared_error,\n",
    "            'root_mean_squared_error': root_mean_squared_error,\n",
    "            'mean_absolute_percentage_error': mean_absolute_percentage_error,\n",
    "            'accuracy mape': accuracy_mape,\n",
    "            'accuracy': accuracy,\n",
    "            'r_square': r_square\n",
    "        }\n",
    "    else:\n",
    "        return {\n",
    "            'accuracy': accuracy,\n",
    "        }"
   ]
  },
  {
   "cell_type": "code",
   "execution_count": 31,
   "metadata": {},
   "outputs": [],
   "source": [
    "from sklearn.svm import SVC\n",
    "# svc = SVC(kernel='rbf', decision_function_shape='ovo', random_state=random_state)\n",
    "# svc.fit(x_train, y_train)\n",
    "# y_predict = svc.predict(x_test)\n",
    "# accuracy = evaluate(y_test, y_predict)\n",
    "# pprint(accuracy)"
   ]
  },
  {
   "cell_type": "code",
   "execution_count": 32,
   "metadata": {},
   "outputs": [],
   "source": [
    "from sklearn.neighbors import KNeighborsClassifier\n",
    "# knn = KNeighborsClassifier(n_neighbors=10)\n",
    "# knn.fit(x_train, y_train)\n",
    "# y_predict = knn.predict(x_test)\n",
    "# accuracy = evaluate(y_test, y_predict)\n",
    "# pprint(accuracy)"
   ]
  },
  {
   "cell_type": "code",
   "execution_count": 33,
   "metadata": {},
   "outputs": [],
   "source": [
    "from sklearn.neural_network import MLPClassifier\n",
    "# ann = MLPClassifier(solver='adam', hidden_layer_sizes=(20, 20), activation='relu', random_state=random_state, max_iter=2000)\n",
    "# ann.fit(x_train, y_train)\n",
    "# y_predict = ann.predict(x_test)\n",
    "# accuracy = evaluate(y_test, y_predict)\n",
    "# pprint(accuracy)"
   ]
  },
  {
   "cell_type": "markdown",
   "metadata": {},
   "source": [
    "## grid search"
   ]
  },
  {
   "cell_type": "code",
   "execution_count": 34,
   "metadata": {},
   "outputs": [],
   "source": [
    "from sklearn.model_selection import GridSearchCV"
   ]
  },
  {
   "cell_type": "code",
   "execution_count": 35,
   "metadata": {},
   "outputs": [],
   "source": [
    "# # Create the parameter grid based on the results of random search \n",
    "# param_grid_svc = {\n",
    "#     'decision_function_shape': ['ovo', 'ovr'],\n",
    "#     'kernel': ['linear', 'poly', 'rbf'],\n",
    "#     'degree': [3],\n",
    "#     'gamma': ['scale'],\n",
    "#     'probability'=[True]\n",
    "# }\n",
    "# svc = SVC()\n",
    "\n",
    "# # Instantiate the grid search model\n",
    "# grid_svc = GridSearchCV(estimator = svc, param_grid = param_grid_svc, cv = 5, n_jobs = -1)\n",
    "\n",
    "# # Fit the grid search to the data\n",
    "# grid_svc.fit(x_train, y_train)\n",
    "# svc_best_params = grid_svc.best_params_\n",
    "# pprint(svc_best_params)\n",
    "\n",
    "# svc = SVC(**svc_best_params, random_state=random_state)\n",
    "# svc.fit(x_train, y_train)\n",
    "# y_predict = svc.predict(x_test)\n",
    "# accuracy = evaluate(y_test, y_predict)\n",
    "# pprint(accuracy)\n",
    "\n",
    "# # # result\n",
    "# # {'decision_function_shape': 'ovo',\n",
    "# #  'degree': 3,\n",
    "# #  'gamma': 'scale',\n",
    "# #  'kernel': 'linear'}\n",
    "# # {'accuracy': 0.49007444168734493}\n",
    "svc_best_params = {\n",
    "    'decision_function_shape': 'ovo',\n",
    "    'degree': 3,\n",
    "    'gamma': 'scale',\n",
    "    'kernel': 'linear',\n",
    "    'probability':True\n",
    "}\n",
    "svc = SVC(**svc_best_params, random_state=random_state)"
   ]
  },
  {
   "cell_type": "code",
   "execution_count": 36,
   "metadata": {},
   "outputs": [],
   "source": [
    "# # Create the parameter grid based on the results of random search \n",
    "# param_grid_knn = {\n",
    "#     'n_neighbors': [3, 15, 27, 39, 51, 63, 75, 87, 99]\n",
    "# }\n",
    "\n",
    "# knn = KNeighborsClassifier()\n",
    "# # Instantiate the grid search model\n",
    "# grid_knn = GridSearchCV(estimator = knn, param_grid = param_grid_knn, cv = 5, n_jobs = -1)\n",
    "\n",
    "# # Fit the grid search to the data\n",
    "# grid_knn.fit(x_train, y_train)\n",
    "# knn_best_params = grid_knn.best_params_\n",
    "# pprint(knn_best_params)\n",
    "\n",
    "# knn = KNeighborsClassifier(**knn_best_params)\n",
    "# knn.fit(x_train, y_train)\n",
    "# y_predict = knn.predict(x_test)\n",
    "# accuracy = evaluate(y_test, y_predict)\n",
    "# pprint(accuracy)\n",
    "\n",
    "# # # result\n",
    "# # {'n_neighbors': 51}\n",
    "# # {'accuracy': 0.4987593052109181}\n",
    "\n",
    "knn_best_params = {\n",
    "    'n_neighbors': 51\n",
    "}\n",
    "knn = KNeighborsClassifier(**knn_best_params)"
   ]
  },
  {
   "cell_type": "code",
   "execution_count": 37,
   "metadata": {},
   "outputs": [],
   "source": [
    "# # Create the parameter grid based on the results of random search \n",
    "# param_grid_ann = {\n",
    "#     'solver': ['lbfgs', 'sgd', 'adam'],\n",
    "#     'activation': ['identity', 'logistic', 'tanh', 'relu'],\n",
    "#     'hidden_layer_sizes': [(10, 10), (20, 20), (20, 10), (10, 20)],\n",
    "#     'max_iter': [2000] \n",
    "# }\n",
    "# ann = MLPClassifier()\n",
    "\n",
    "# # Instantiate the grid search model\n",
    "# grid_ann = GridSearchCV(estimator = ann, param_grid = param_grid_ann, cv = 5, n_jobs = -1, error_score=0)\n",
    "\n",
    "# # Fit the grid search to the data\n",
    "# grid_ann.fit(x_train, y_train)\n",
    "# ann_best_params = grid_ann.best_params_\n",
    "# pprint(ann_best_params)\n",
    "\n",
    "# ann = MLPClassifier(**ann_best_params, random_state=random_state)\n",
    "# ann.fit(x_train, y_train)\n",
    "# y_predict = ann.predict(x_test)\n",
    "# accuracy = evaluate(y_test, y_predict)\n",
    "# pprint(accuracy)\n",
    "\n",
    "# # # result\n",
    "# # {'activation': 'relu',\n",
    "# #  'hidden_layer_sizes': (10, 20),\n",
    "# #  'max_iter': 2000,\n",
    "# #  'solver': 'adam'}\n",
    "# # {'accuracy': 0.5}\n",
    "\n",
    "ann_best_params = {\n",
    "    'activation': 'relu',\n",
    "    'hidden_layer_sizes': (10, 20),\n",
    "    'max_iter': 2000,\n",
    "    'solver': 'adam'\n",
    "}\n",
    "ann = MLPClassifier(**ann_best_params, random_state=random_state)"
   ]
  },
  {
   "cell_type": "markdown",
   "metadata": {},
   "source": [
    "## ensemble vs individual"
   ]
  },
  {
   "cell_type": "code",
   "execution_count": 40,
   "metadata": {},
   "outputs": [],
   "source": [
    "from sklearn.ensemble import VotingClassifier"
   ]
  },
  {
   "cell_type": "code",
   "execution_count": 45,
   "metadata": {},
   "outputs": [
    {
     "name": "stdout",
     "output_type": "stream",
     "text": [
      "{'accuracy': 0.633178500331785}\n"
     ]
    }
   ],
   "source": [
    "ensemble_hard = VotingClassifier(estimators=[('svc', svc), ('knn', knn), ('ann', ann)], voting='hard')\n",
    "ensemble_hard.fit(x_train, y_train)\n",
    "y_predict = ensemble_hard.predict(x_test)\n",
    "accuracy = evaluate(y_test, y_predict)\n",
    "pprint(accuracy)"
   ]
  },
  {
   "cell_type": "code",
   "execution_count": 46,
   "metadata": {},
   "outputs": [
    {
     "name": "stdout",
     "output_type": "stream",
     "text": [
      "{'accuracy': 0.633178500331785}\n"
     ]
    }
   ],
   "source": [
    "ensemble_soft = VotingClassifier(estimators=[('svc', svc), ('knn', knn), ('ann', ann)], voting='soft')\n",
    "ensemble_soft.fit(x_train, y_train)\n",
    "y_predict = ensemble_soft.predict(x_test)\n",
    "accuracy = evaluate(y_test, y_predict)\n",
    "pprint(accuracy)"
   ]
  },
  {
   "cell_type": "code",
   "execution_count": 47,
   "metadata": {},
   "outputs": [
    {
     "name": "stdout",
     "output_type": "stream",
     "text": [
      "{'accuracy': 0.6325149303251493}\n",
      "{'accuracy': 0.6514930325149303}\n",
      "{'accuracy': 0.6337093563370936}\n"
     ]
    }
   ],
   "source": [
    "svc.fit(x_train, y_train)\n",
    "y_predict = svc.predict(x_test)\n",
    "accuracy = evaluate(y_test, y_predict)\n",
    "pprint(accuracy)\n",
    "\n",
    "knn.fit(x_train, y_train)\n",
    "y_predict = knn.predict(x_test)\n",
    "accuracy = evaluate(y_test, y_predict)\n",
    "pprint(accuracy)\n",
    "\n",
    "ann.fit(x_train, y_train)\n",
    "y_predict = ann.predict(x_test)\n",
    "accuracy = evaluate(y_test, y_predict)\n",
    "pprint(accuracy)"
   ]
  },
  {
   "cell_type": "markdown",
   "metadata": {},
   "source": [
    "## confusion matrix"
   ]
  },
  {
   "cell_type": "code",
   "execution_count": 48,
   "metadata": {},
   "outputs": [],
   "source": [
    "import matplotlib.pyplot as plt\n",
    "from sklearn.metrics import plot_confusion_matrix"
   ]
  },
  {
   "cell_type": "code",
   "execution_count": 52,
   "metadata": {},
   "outputs": [
    {
     "data": {
      "image/png": "[encoded data removed]",
      "text/plain": [
       "<Figure size 432x288 with 2 Axes>"
      ]
     },
     "metadata": {
      "needs_background": "light"
     },
     "output_type": "display_data"
    }
   ],
   "source": [
    "plot_confusion_matrix(ensemble_hard, x_test, y_test)  # doctest: +SKIP\n",
    "plt.show()  # doctest: +SKIP"
   ]
  },
  {
   "cell_type": "code",
   "execution_count": 53,
   "metadata": {},
   "outputs": [
    {
     "data": {
      "image/png": "[encoded data removed]",
      "text/plain": [
       "<Figure size 432x288 with 2 Axes>"
      ]
     },
     "metadata": {
      "needs_background": "light"
     },
     "output_type": "display_data"
    }
   ],
   "source": [
    "plot_confusion_matrix(ensemble_soft, x_test, y_test)  # doctest: +SKIP\n",
    "plt.show()  # doctest: +SKIP"
   ]
  },
  {
   "cell_type": "code",
   "execution_count": 49,
   "metadata": {},
   "outputs": [
    {
     "data": {
      "image/png": "[encoded data removed]",
      "text/plain": [
       "<Figure size 432x288 with 2 Axes>"
      ]
     },
     "metadata": {
      "needs_background": "light"
     },
     "output_type": "display_data"
    }
   ],
   "source": [
    "plot_confusion_matrix(svc, x_test, y_test)  # doctest: +SKIP\n",
    "plt.show()  # doctest: +SKIP"
   ]
  },
  {
   "cell_type": "code",
   "execution_count": 50,
   "metadata": {},
   "outputs": [
    {
     "data": {
      "image/png": "[encoded data removed]",
      "text/plain": [
       "<Figure size 432x288 with 2 Axes>"
      ]
     },
     "metadata": {
      "needs_background": "light"
     },
     "output_type": "display_data"
    }
   ],
   "source": [
    "plot_confusion_matrix(knn, x_test, y_test)  # doctest: +SKIP\n",
    "plt.show()  # doctest: +SKIP"
   ]
  },
  {
   "cell_type": "code",
   "execution_count": 51,
   "metadata": {},
   "outputs": [
    {
     "data": {
      "image/png": "[encoded data removed]",
      "text/plain": [
       "<Figure size 432x288 with 2 Axes>"
      ]
     },
     "metadata": {
      "needs_background": "light"
     },
     "output_type": "display_data"
    }
   ],
   "source": [
    "plot_confusion_matrix(ann, x_test, y_test)  # doctest: +SKIP\n",
    "plt.show()  # doctest: +SKIP"
   ]
  },
  {
   "cell_type": "markdown",
   "metadata": {},
   "source": [
    "## itterate variable"
   ]
  },
  {
   "cell_type": "code",
   "execution_count": null,
   "metadata": {},
   "outputs": [],
   "source": [
    "def combinations(target,data):\n",
    "    for i in range(len(data)):\n",
    "        yield [*target, data[i]]\n",
    "        yield from combinations([*target, data[i]], data[i+1:])"
   ]
  },
  {
   "cell_type": "code",
   "execution_count": null,
   "metadata": {},
   "outputs": [],
   "source": [
    "label_name = 'reaction_time'\n",
    "case_names = combinations([],var_names)\n",
    "case_names = [case_name for case_name in case_names]"
   ]
  },
  {
   "cell_type": "code",
   "execution_count": null,
   "metadata": {},
   "outputs": [],
   "source": [
    "# wrapper_svc = {}\n",
    "# for case_name in case_names:\n",
    "#     x_train_temp = x_train[case_name]\n",
    "#     x_test_temp = x_test[case_name]\n",
    "#     svc = SVC(**svc_best_params, random_state=random_state)\n",
    "#     svc.fit(x_train_temp, y_train)\n",
    "#     y_predict = svc.predict(x_test_temp)\n",
    "#     accuracy = evaluate(y_test, y_predict)   \n",
    "#     wrapper_svc[str(case_name)] = accuracy\n",
    "#     print(f\"{case_name}: {accuracy}\")\n",
    "    \n",
    "# df_wrapper_svc = pd.DataFrame.from_dict(wrapper_svc, orient='index')\n",
    "# df_wrapper_svc.to_csv(os.path.join(folder_result,'svc.csv'),index=True) "
   ]
  },
  {
   "cell_type": "code",
   "execution_count": null,
   "metadata": {},
   "outputs": [],
   "source": [
    "# wrapper_knn = {}\n",
    "# for case_name in case_names:\n",
    "#     x_train_temp = x_train[case_name]\n",
    "#     x_test_temp = x_test[case_name]\n",
    "#     knn = KNeighborsClassifier(**knn_best_params)\n",
    "#     knn.fit(x_train_temp, y_train)\n",
    "#     y_predict = knn.predict(x_test_temp)\n",
    "#     accuracy = evaluate(y_test, y_predict)   \n",
    "#     wrapper_knn[str(case_name)] = accuracy\n",
    "#     print(f\"{case_name}: {accuracy}\")\n",
    "    \n",
    "# df_wrapper_knn = pd.DataFrame.from_dict(wrapper_knn, orient='index')\n",
    "# df_wrapper_knn.to_csv(os.path.join(folder_result,'knn.csv'),index=True)"
   ]
  },
  {
   "cell_type": "code",
   "execution_count": null,
   "metadata": {},
   "outputs": [],
   "source": [
    "# wrapper_ann = {}\n",
    "# for case_name in case_names:\n",
    "#     x_train_temp = x_train[case_name]\n",
    "#     x_test_temp = x_test[case_name]\n",
    "#     ann = MLPClassifier(**ann_best_params, random_state=random_state)\n",
    "#     ann.fit(x_train_temp, y_train)\n",
    "#     y_predict = ann.predict(x_test_temp)\n",
    "#     accuracy = evaluate(y_test, y_predict)   \n",
    "#     wrapper_ann[str(case_name)] = accuracy\n",
    "#     print(f\"{case_name}: {accuracy}\")\n",
    "\n",
    "# df_wrapper_ann = pd.DataFrame.from_dict(wrapper_ann, orient='index')\n",
    "# df_wrapper_ann.to_csv(os.path.join(folder_result,'ann.csv'),index=True) "
   ]
  },
  {
   "cell_type": "code",
   "execution_count": null,
   "metadata": {},
   "outputs": [],
   "source": [
    "# wrapper_ensemble_hard = {}\n",
    "# for case_name in case_names:\n",
    "#     x_train_temp = x_train[case_name]\n",
    "#     x_test_temp = x_test[case_name]\n",
    "#     ensemble_hard = VotingClassifier(estimators=[('svc',svc),('knn',knn),('ann',ann)], voting='hard', n_jobs=-1)\n",
    "#     ensemble_hard.fit(x_train_temp, y_train)\n",
    "#     y_predict = ensemble_hard.predict(x_test_temp)\n",
    "#     accuracy = evaluate(y_test, y_predict)    \n",
    "#     wrapper_ensemble_hard[str(case_name)] = accuracy\n",
    "#     print(f\"{case_name}: {accuracy}\")\n",
    "\n",
    "# df_wrapper_ensemble_hard = pd.DataFrame.from_dict(wrapper_ensemble_hard, orient='index')\n",
    "# df_wrapper_ensemble_hard.to_csv(os.path.join(folder_path,'ensemble_hard.csv'),index=True) "
   ]
  },
  {
   "cell_type": "code",
   "execution_count": null,
   "metadata": {},
   "outputs": [],
   "source": [
    "# wrapper_ensemble_soft = {}\n",
    "# for case_name in case_names:\n",
    "#     x_train_temp = x_train[case_name]\n",
    "#     x_test_temp = x_test[case_name]\n",
    "#     ensemble_soft = VotingClassifier(estimators=[('svc', svc),('knn',knn),('ann',ann)], voting='soft', n_jobs=-1)\n",
    "#     ensemble_soft.fit(x_train_temp, y_train)\n",
    "#     y_predict = ensemble_soft.predict(x_test_temp)\n",
    "#     accuracy = evaluate(y_test, y_predict)    \n",
    "#     wrapper_ensemble_soft[str(case_name)] = accuracy\n",
    "#     print(f\"{case_name}: {accuracy}\")\n",
    "\n",
    "# df_wrapper_ensemble_soft = pd.DataFrame.from_dict(wrapper_ensemble_soft, orient='index')\n",
    "# df_wrapper_ensemble_soft.to_csv(os.path.join(folder_path,'ensemble_soft.csv'),index=True) "
   ]
  },
  {
   "cell_type": "code",
   "execution_count": null,
   "metadata": {},
   "outputs": [],
   "source": []
  }
 ],
 "metadata": {
  "kernelspec": {
   "display_name": "Python 3",
   "language": "python",
   "name": "python3"
  },
  "language_info": {
   "codemirror_mode": {
    "name": "ipython",
    "version": 3
   },
   "file_extension": ".py",
   "mimetype": "text/x-python",
   "name": "python",
   "nbconvert_exporter": "python",
   "pygments_lexer": "ipython3",
   "version": "3.7.4"
  },
  "widgets": {
   "application/vnd.jupyter.widget-state+json": {
    "state": {},
    "version_major": 2,
    "version_minor": 0
   }
  }
 },
 "nbformat": 4,
 "nbformat_minor": 4
}
